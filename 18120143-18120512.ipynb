{
 "cells": [
  {
   "cell_type": "markdown",
   "metadata": {},
   "source": [
    "# Đồ án cuối kỳ"
   ]
  },
  {
   "cell_type": "markdown",
   "metadata": {},
   "source": [
    "**Các thành viên:**\n",
    "1. MSSV: 18120143 - Họ tên: Nguyễn Đình Hoàng Phúc\n",
    "2. MSSV: 18120512 - Họ tên: Lê Đặng Thiên Phúc"
   ]
  },
  {
   "cell_type": "markdown",
   "metadata": {},
   "source": [
    "---"
   ]
  },
  {
   "cell_type": "markdown",
   "metadata": {},
   "source": [
    "## Import thư viện"
   ]
  },
  {
   "cell_type": "code",
   "execution_count": 1,
   "metadata": {},
   "outputs": [],
   "source": [
    "import pandas as pd\n",
    "import matplotlib.pyplot as plt\n",
    "import matplotlib.patches as mpatches\n",
    "import numpy as np\n",
    "import seaborn as sns"
   ]
  },
  {
   "cell_type": "markdown",
   "metadata": {
    "heading_collapsed": true
   },
   "source": [
    "## Thu thập dữ liệu"
   ]
  },
  {
   "cell_type": "markdown",
   "metadata": {},
   "source": [
    "Trong đồ án lần này nhóm chúng em sử dụng bộ dữ liệu thông tin các **Ứng dụng trên Google Play Store**. <br>\n",
    "Bộ dữ liệu được tạo vào 05/04/19 và cập nhật lần cuối vào 16/06/21 trên trang Kaggle, [đường dẫn](https://www.kaggle.com/gauthamp10/google-playstore-apps). Bộ dữ liệu được thu thập bằng cách crawl từ trang web của Google Play sử dụng tool Scrapy chạy trên cloud VM và có chứa nhiều thông tin liên quan đến ứng dụng như tên, kích thước, rating,..."
   ]
  },
  {
   "cell_type": "markdown",
   "metadata": {},
   "source": [
    "## Khám phá dữ liệu"
   ]
  },
  {
   "cell_type": "markdown",
   "metadata": {},
   "source": [
    "### Đọc dữ liệu từ file .csv vào Dataframe"
   ]
  },
  {
   "cell_type": "code",
   "execution_count": 2,
   "metadata": {},
   "outputs": [
    {
     "data": {
      "text/html": [
       "<div>\n",
       "<style scoped>\n",
       "    .dataframe tbody tr th:only-of-type {\n",
       "        vertical-align: middle;\n",
       "    }\n",
       "\n",
       "    .dataframe tbody tr th {\n",
       "        vertical-align: top;\n",
       "    }\n",
       "\n",
       "    .dataframe thead th {\n",
       "        text-align: right;\n",
       "    }\n",
       "</style>\n",
       "<table border=\"1\" class=\"dataframe\">\n",
       "  <thead>\n",
       "    <tr style=\"text-align: right;\">\n",
       "      <th></th>\n",
       "      <th>App Name</th>\n",
       "      <th>App Id</th>\n",
       "      <th>Category</th>\n",
       "      <th>Rating</th>\n",
       "      <th>Rating Count</th>\n",
       "      <th>Installs</th>\n",
       "      <th>Minimum Installs</th>\n",
       "      <th>Maximum Installs</th>\n",
       "      <th>Free</th>\n",
       "      <th>Price</th>\n",
       "      <th>...</th>\n",
       "      <th>Developer Website</th>\n",
       "      <th>Developer Email</th>\n",
       "      <th>Released</th>\n",
       "      <th>Last Updated</th>\n",
       "      <th>Content Rating</th>\n",
       "      <th>Privacy Policy</th>\n",
       "      <th>Ad Supported</th>\n",
       "      <th>In App Purchases</th>\n",
       "      <th>Editors Choice</th>\n",
       "      <th>Scraped Time</th>\n",
       "    </tr>\n",
       "  </thead>\n",
       "  <tbody>\n",
       "    <tr>\n",
       "      <th>0</th>\n",
       "      <td>Gakondo</td>\n",
       "      <td>com.ishakwe.gakondo</td>\n",
       "      <td>Adventure</td>\n",
       "      <td>0.0</td>\n",
       "      <td>0.0</td>\n",
       "      <td>10+</td>\n",
       "      <td>10.0</td>\n",
       "      <td>15</td>\n",
       "      <td>True</td>\n",
       "      <td>0.0</td>\n",
       "      <td>...</td>\n",
       "      <td>https://beniyizibyose.tk/#/</td>\n",
       "      <td>jean21101999@gmail.com</td>\n",
       "      <td>Feb 26, 2020</td>\n",
       "      <td>Feb 26, 2020</td>\n",
       "      <td>Everyone</td>\n",
       "      <td>https://beniyizibyose.tk/projects/</td>\n",
       "      <td>False</td>\n",
       "      <td>False</td>\n",
       "      <td>False</td>\n",
       "      <td>2021-06-15 20:19:35</td>\n",
       "    </tr>\n",
       "    <tr>\n",
       "      <th>1</th>\n",
       "      <td>Ampere Battery Info</td>\n",
       "      <td>com.webserveis.batteryinfo</td>\n",
       "      <td>Tools</td>\n",
       "      <td>4.4</td>\n",
       "      <td>64.0</td>\n",
       "      <td>5,000+</td>\n",
       "      <td>5000.0</td>\n",
       "      <td>7662</td>\n",
       "      <td>True</td>\n",
       "      <td>0.0</td>\n",
       "      <td>...</td>\n",
       "      <td>https://webserveis.netlify.app/</td>\n",
       "      <td>webserveis@gmail.com</td>\n",
       "      <td>May 21, 2020</td>\n",
       "      <td>May 06, 2021</td>\n",
       "      <td>Everyone</td>\n",
       "      <td>https://dev4phones.wordpress.com/licencia-de-uso/</td>\n",
       "      <td>True</td>\n",
       "      <td>False</td>\n",
       "      <td>False</td>\n",
       "      <td>2021-06-15 20:19:35</td>\n",
       "    </tr>\n",
       "    <tr>\n",
       "      <th>2</th>\n",
       "      <td>Vibook</td>\n",
       "      <td>com.doantiepvien.crm</td>\n",
       "      <td>Productivity</td>\n",
       "      <td>0.0</td>\n",
       "      <td>0.0</td>\n",
       "      <td>50+</td>\n",
       "      <td>50.0</td>\n",
       "      <td>58</td>\n",
       "      <td>True</td>\n",
       "      <td>0.0</td>\n",
       "      <td>...</td>\n",
       "      <td>NaN</td>\n",
       "      <td>vnacrewit@gmail.com</td>\n",
       "      <td>Aug 9, 2019</td>\n",
       "      <td>Aug 19, 2019</td>\n",
       "      <td>Everyone</td>\n",
       "      <td>https://www.vietnamairlines.com/vn/en/terms-an...</td>\n",
       "      <td>False</td>\n",
       "      <td>False</td>\n",
       "      <td>False</td>\n",
       "      <td>2021-06-15 20:19:35</td>\n",
       "    </tr>\n",
       "    <tr>\n",
       "      <th>3</th>\n",
       "      <td>Smart City Trichy Public Service Vehicles 17UC...</td>\n",
       "      <td>cst.stJoseph.ug17ucs548</td>\n",
       "      <td>Communication</td>\n",
       "      <td>5.0</td>\n",
       "      <td>5.0</td>\n",
       "      <td>10+</td>\n",
       "      <td>10.0</td>\n",
       "      <td>19</td>\n",
       "      <td>True</td>\n",
       "      <td>0.0</td>\n",
       "      <td>...</td>\n",
       "      <td>http://www.climatesmarttech.com/</td>\n",
       "      <td>climatesmarttech2@gmail.com</td>\n",
       "      <td>Sep 10, 2018</td>\n",
       "      <td>Oct 13, 2018</td>\n",
       "      <td>Everyone</td>\n",
       "      <td>NaN</td>\n",
       "      <td>True</td>\n",
       "      <td>False</td>\n",
       "      <td>False</td>\n",
       "      <td>2021-06-15 20:19:35</td>\n",
       "    </tr>\n",
       "    <tr>\n",
       "      <th>4</th>\n",
       "      <td>GROW.me</td>\n",
       "      <td>com.horodyski.grower</td>\n",
       "      <td>Tools</td>\n",
       "      <td>0.0</td>\n",
       "      <td>0.0</td>\n",
       "      <td>100+</td>\n",
       "      <td>100.0</td>\n",
       "      <td>478</td>\n",
       "      <td>True</td>\n",
       "      <td>0.0</td>\n",
       "      <td>...</td>\n",
       "      <td>http://www.horodyski.com.pl</td>\n",
       "      <td>rmilekhorodyski@gmail.com</td>\n",
       "      <td>Feb 21, 2020</td>\n",
       "      <td>Nov 12, 2018</td>\n",
       "      <td>Everyone</td>\n",
       "      <td>http://www.horodyski.com.pl</td>\n",
       "      <td>False</td>\n",
       "      <td>False</td>\n",
       "      <td>False</td>\n",
       "      <td>2021-06-15 20:19:35</td>\n",
       "    </tr>\n",
       "  </tbody>\n",
       "</table>\n",
       "<p>5 rows × 24 columns</p>\n",
       "</div>"
      ],
      "text/plain": [
       "                                            App Name  \\\n",
       "0                                            Gakondo   \n",
       "1                                Ampere Battery Info   \n",
       "2                                             Vibook   \n",
       "3  Smart City Trichy Public Service Vehicles 17UC...   \n",
       "4                                            GROW.me   \n",
       "\n",
       "                       App Id       Category  Rating  Rating Count Installs  \\\n",
       "0         com.ishakwe.gakondo      Adventure     0.0           0.0      10+   \n",
       "1  com.webserveis.batteryinfo          Tools     4.4          64.0   5,000+   \n",
       "2        com.doantiepvien.crm   Productivity     0.0           0.0      50+   \n",
       "3     cst.stJoseph.ug17ucs548  Communication     5.0           5.0      10+   \n",
       "4        com.horodyski.grower          Tools     0.0           0.0     100+   \n",
       "\n",
       "   Minimum Installs  Maximum Installs  Free  Price  ...  \\\n",
       "0              10.0                15  True    0.0  ...   \n",
       "1            5000.0              7662  True    0.0  ...   \n",
       "2              50.0                58  True    0.0  ...   \n",
       "3              10.0                19  True    0.0  ...   \n",
       "4             100.0               478  True    0.0  ...   \n",
       "\n",
       "                  Developer Website              Developer Email  \\\n",
       "0       https://beniyizibyose.tk/#/       jean21101999@gmail.com   \n",
       "1   https://webserveis.netlify.app/         webserveis@gmail.com   \n",
       "2                               NaN          vnacrewit@gmail.com   \n",
       "3  http://www.climatesmarttech.com/  climatesmarttech2@gmail.com   \n",
       "4       http://www.horodyski.com.pl    rmilekhorodyski@gmail.com   \n",
       "\n",
       "       Released  Last Updated Content Rating  \\\n",
       "0  Feb 26, 2020  Feb 26, 2020       Everyone   \n",
       "1  May 21, 2020  May 06, 2021       Everyone   \n",
       "2   Aug 9, 2019  Aug 19, 2019       Everyone   \n",
       "3  Sep 10, 2018  Oct 13, 2018       Everyone   \n",
       "4  Feb 21, 2020  Nov 12, 2018       Everyone   \n",
       "\n",
       "                                      Privacy Policy Ad Supported  \\\n",
       "0                 https://beniyizibyose.tk/projects/        False   \n",
       "1  https://dev4phones.wordpress.com/licencia-de-uso/         True   \n",
       "2  https://www.vietnamairlines.com/vn/en/terms-an...        False   \n",
       "3                                                NaN         True   \n",
       "4                        http://www.horodyski.com.pl        False   \n",
       "\n",
       "  In App Purchases Editors Choice         Scraped Time  \n",
       "0            False          False  2021-06-15 20:19:35  \n",
       "1            False          False  2021-06-15 20:19:35  \n",
       "2            False          False  2021-06-15 20:19:35  \n",
       "3            False          False  2021-06-15 20:19:35  \n",
       "4            False          False  2021-06-15 20:19:35  \n",
       "\n",
       "[5 rows x 24 columns]"
      ]
     },
     "execution_count": 2,
     "metadata": {},
     "output_type": "execute_result"
    }
   ],
   "source": [
    "gps_df = pd.read_csv('Google-Playstore.csv')\n",
    "gps_df.head()"
   ]
  },
  {
   "cell_type": "markdown",
   "metadata": {},
   "source": [
    "### Dữ liệu gồm bao nhiêu dòng và cột?"
   ]
  },
  {
   "cell_type": "code",
   "execution_count": 3,
   "metadata": {},
   "outputs": [
    {
     "name": "stdout",
     "output_type": "stream",
     "text": [
      "Bộ dữ liệu có 2312944 dòng và 24 cột\n"
     ]
    }
   ],
   "source": [
    "num_rows, num_cols = gps_df.shape\n",
    "print('Bộ dữ liệu có {} dòng và {} cột'.format(num_rows, num_cols))"
   ]
  },
  {
   "cell_type": "markdown",
   "metadata": {},
   "source": [
    "### Mỗi dòng có ý nghĩa gì? Có vấn đề các dòng có ý nghĩa khác nhau không?"
   ]
  },
  {
   "cell_type": "markdown",
   "metadata": {},
   "source": [
    "Mỗi dòng là chi tiết thông tin của một ứng dụng trên Google Play Store. Có vẻ không có dòng nào có ý nghĩa khác."
   ]
  },
  {
   "cell_type": "markdown",
   "metadata": {},
   "source": [
    "### Dữ liệu có các dòng bị lặp không?"
   ]
  },
  {
   "cell_type": "code",
   "execution_count": 77,
   "metadata": {},
   "outputs": [
    {
     "name": "stdout",
     "output_type": "stream",
     "text": [
      "Có 0 dòng bị lặp.\n"
     ]
    }
   ],
   "source": [
    "duplicated_rows = gps_df.duplicated()\n",
    "num_duplicated_rows = len(gps_df[duplicated_rows])\n",
    "print(\"Có {} dòng bị lặp.\".format(num_duplicated_rows))"
   ]
  },
  {
   "cell_type": "markdown",
   "metadata": {},
   "source": [
    "### Mỗi cột có ý nghĩa gì?"
   ]
  },
  {
   "cell_type": "markdown",
   "metadata": {},
   "source": [
    "Dưới đây là phần mô tả của tác giả về các cột trong file \"Google-Playstore.csv\":\n",
    "\n",
    "- **App Name**: tên ứng dụng.\n",
    "- **App Id**:  id của ứng dụng.\n",
    "- **Category**: thể loại ứng dụng.\n",
    "- **Rating**: chỉ số đánh giá trung bình.\n",
    "- **Rating Count**: số lượt đánh giá.\n",
    "- **Installs**: số lượt tải.\n",
    "- **Minimum Installs**: số lượt tải tối thiểu.\n",
    "- **Maximum Installs**: số lượt tải tối đa.\n",
    "- **Free**: ứng dụng là mĩễn phí hay trả tiền.\n",
    "- **Price**: giá ứng dụng.\n",
    "- **Currency**: đồng tiền dùng để thanh toán.\n",
    "- **Size**: kích cỡ ứng dụng\n",
    "- **Minimum Android**: phiên bản android tối thiểu để chạy ứng dụng.\n",
    "- **Developer Id**: ID của nhà phát triển.\n",
    "- **Developer Website**: Web của nhà phát triển.\n",
    "- **Developer Email**: Email của nhà phát triển.\n",
    "- **Released**: Ngày phát hành.\n",
    "- **Last Updated**: Ngày cập nhật gần đây nhất.\n",
    "- **Content Rating**: Đánh giá nội dung ứng dụng theo chính sách Google Play.\n",
    "- **Privacy Policy**: Chính sách bảo mật.\n",
    "- **Ad Supported**: Ứng dụng có quảng cáo không.\n",
    "- **In app purchases**: Có thực hiện mua bán trong ứng dụng không.\n",
    "- **Editor Choice**: Có được đánh giá chuẩn Editor Choice the Google Play không?\n",
    "- **Scraped Time**: thời gian thu nhập dữ liệu (GMT)"
   ]
  },
  {
   "cell_type": "markdown",
   "metadata": {},
   "source": [
    "### Mỗi cột hiện đang có kiểu dữ liệu gì? Có cột nào có kiểu dữ liệu chưa phù hợp để có thể xử lý tiếp không?"
   ]
  },
  {
   "cell_type": "code",
   "execution_count": 78,
   "metadata": {},
   "outputs": [
    {
     "data": {
      "text/plain": [
       "App Name              object\n",
       "App Id                object\n",
       "Category              object\n",
       "Rating               float64\n",
       "Rating Count         float64\n",
       "Installs              object\n",
       "Minimum Installs     float64\n",
       "Maximum Installs       int64\n",
       "Free                    bool\n",
       "Price                float64\n",
       "Currency              object\n",
       "Size                  object\n",
       "Minimum Android       object\n",
       "Developer Id          object\n",
       "Developer Website     object\n",
       "Developer Email       object\n",
       "Released              object\n",
       "Last Updated          object\n",
       "Content Rating        object\n",
       "Privacy Policy        object\n",
       "Ad Supported            bool\n",
       "In App Purchases        bool\n",
       "Editors Choice          bool\n",
       "Scraped Time          object\n",
       "dtype: object"
      ]
     },
     "execution_count": 78,
     "metadata": {},
     "output_type": "execute_result"
    }
   ],
   "source": [
    "col_dtypes = gps_df.dtypes\n",
    "col_dtypes"
   ]
  },
  {
   "cell_type": "markdown",
   "metadata": {},
   "source": [
    "- Các cột `Rating`, `Rating Count`, `Minium Installs`, `Maximum Installs` `Price` có dạng numerical.\n",
    "- Các cột `Free`, `Ad Supported`, `In App Purchases`, `Editors Choice` có kiểu `bool` thuộc dạng categorical.\n",
    "- Các cột còn lại đều có kiểu là `object`. Do không có cảnh báo về mixed typed. Dự đoán các cột này có kiểu dữ liệu thật là `string`. Ta quan sát kỹ thêm một chút các cột này để xử lý."
   ]
  },
  {
   "cell_type": "markdown",
   "metadata": {},
   "source": [
    "#### Quan sát thêm các cột có kiểu `object`"
   ]
  },
  {
   "cell_type": "markdown",
   "metadata": {},
   "source": [
    "Các hàm hỗ trợ:"
   ]
  },
  {
   "cell_type": "code",
   "execution_count": 19,
   "metadata": {},
   "outputs": [],
   "source": [
    "def missing_ratio(s):\n",
    "    return s.isna().mean() * 100\n",
    "def num_diff_vals(s):\n",
    "    return s.nunique()\n",
    "def diff_vals(s):\n",
    "    return s.dropna().unique()"
   ]
  },
  {
   "cell_type": "markdown",
   "metadata": {},
   "source": [
    "Quan sát các cột có kiểu dữ liệu `object`."
   ]
  },
  {
   "cell_type": "code",
   "execution_count": 5,
   "metadata": {
    "scrolled": true
   },
   "outputs": [
    {
     "data": {
      "text/html": [
       "<div>\n",
       "<style scoped>\n",
       "    .dataframe tbody tr th:only-of-type {\n",
       "        vertical-align: middle;\n",
       "    }\n",
       "\n",
       "    .dataframe tbody tr th {\n",
       "        vertical-align: top;\n",
       "    }\n",
       "\n",
       "    .dataframe thead th {\n",
       "        text-align: right;\n",
       "    }\n",
       "</style>\n",
       "<table border=\"1\" class=\"dataframe\">\n",
       "  <thead>\n",
       "    <tr style=\"text-align: right;\">\n",
       "      <th></th>\n",
       "      <th>App Name</th>\n",
       "      <th>App Id</th>\n",
       "      <th>Category</th>\n",
       "      <th>Installs</th>\n",
       "      <th>Currency</th>\n",
       "      <th>Size</th>\n",
       "      <th>Minimum Android</th>\n",
       "      <th>Developer Id</th>\n",
       "      <th>Developer Website</th>\n",
       "      <th>Developer Email</th>\n",
       "      <th>Released</th>\n",
       "      <th>Last Updated</th>\n",
       "      <th>Content Rating</th>\n",
       "      <th>Privacy Policy</th>\n",
       "      <th>Scraped Time</th>\n",
       "    </tr>\n",
       "  </thead>\n",
       "  <tbody>\n",
       "    <tr>\n",
       "      <th>missing_ratio</th>\n",
       "      <td>0.000086</td>\n",
       "      <td>0.0</td>\n",
       "      <td>0.0</td>\n",
       "      <td>0.004626</td>\n",
       "      <td>0.005837</td>\n",
       "      <td>0.008474</td>\n",
       "      <td>0.282324</td>\n",
       "      <td>0.001427</td>\n",
       "      <td>32.894657</td>\n",
       "      <td>0.00134</td>\n",
       "      <td>3.071972</td>\n",
       "      <td>0.0</td>\n",
       "      <td>0.0</td>\n",
       "      <td>18.199879</td>\n",
       "      <td>0.0</td>\n",
       "    </tr>\n",
       "    <tr>\n",
       "      <th>num_diff_vals</th>\n",
       "      <td>2177944</td>\n",
       "      <td>2312944</td>\n",
       "      <td>48</td>\n",
       "      <td>22</td>\n",
       "      <td>15</td>\n",
       "      <td>1657</td>\n",
       "      <td>154</td>\n",
       "      <td>758371</td>\n",
       "      <td>810440</td>\n",
       "      <td>950456</td>\n",
       "      <td>4158</td>\n",
       "      <td>3918</td>\n",
       "      <td>6</td>\n",
       "      <td>977743</td>\n",
       "      <td>67374</td>\n",
       "    </tr>\n",
       "    <tr>\n",
       "      <th>diff_vals</th>\n",
       "      <td>[Gakondo, Ampere Battery Info, Vibook, Smart C...</td>\n",
       "      <td>[com.ishakwe.gakondo, com.webserveis.batteryin...</td>\n",
       "      <td>[Adventure, Tools, Productivity, Communication...</td>\n",
       "      <td>[10+, 5,000+, 50+, 100+, 1,000+, 500+, 50,000+...</td>\n",
       "      <td>[USD, XXX, CAD, EUR, INR, VND, GBP, BRL, KRW, ...</td>\n",
       "      <td>[10M, 2.9M, 3.7M, 1.8M, 6.2M, 46M, 2.5M, 16M, ...</td>\n",
       "      <td>[7.1 and up, 5.0 and up, 4.0.3 and up, 4.1 and...</td>\n",
       "      <td>[Jean Confident Irénée NIYIZIBYOSE, Webserveis...</td>\n",
       "      <td>[https://beniyizibyose.tk/#/, https://webserve...</td>\n",
       "      <td>[jean21101999@gmail.com, webserveis@gmail.com,...</td>\n",
       "      <td>[Feb 26, 2020, May 21, 2020, Aug 9, 2019, Sep ...</td>\n",
       "      <td>[Feb 26, 2020, May 06, 2021, Aug 19, 2019, Oct...</td>\n",
       "      <td>[Everyone, Teen, Mature 17+, Everyone 10+, Adu...</td>\n",
       "      <td>[https://beniyizibyose.tk/projects/, https://d...</td>\n",
       "      <td>[2021-06-15 20:19:35, 2021-06-15 20:19:36, 202...</td>\n",
       "    </tr>\n",
       "  </tbody>\n",
       "</table>\n",
       "</div>"
      ],
      "text/plain": [
       "                                                        App Name  \\\n",
       "missing_ratio                                           0.000086   \n",
       "num_diff_vals                                            2177944   \n",
       "diff_vals      [Gakondo, Ampere Battery Info, Vibook, Smart C...   \n",
       "\n",
       "                                                          App Id  \\\n",
       "missing_ratio                                                0.0   \n",
       "num_diff_vals                                            2312944   \n",
       "diff_vals      [com.ishakwe.gakondo, com.webserveis.batteryin...   \n",
       "\n",
       "                                                        Category  \\\n",
       "missing_ratio                                                0.0   \n",
       "num_diff_vals                                                 48   \n",
       "diff_vals      [Adventure, Tools, Productivity, Communication...   \n",
       "\n",
       "                                                        Installs  \\\n",
       "missing_ratio                                           0.004626   \n",
       "num_diff_vals                                                 22   \n",
       "diff_vals      [10+, 5,000+, 50+, 100+, 1,000+, 500+, 50,000+...   \n",
       "\n",
       "                                                        Currency  \\\n",
       "missing_ratio                                           0.005837   \n",
       "num_diff_vals                                                 15   \n",
       "diff_vals      [USD, XXX, CAD, EUR, INR, VND, GBP, BRL, KRW, ...   \n",
       "\n",
       "                                                            Size  \\\n",
       "missing_ratio                                           0.008474   \n",
       "num_diff_vals                                               1657   \n",
       "diff_vals      [10M, 2.9M, 3.7M, 1.8M, 6.2M, 46M, 2.5M, 16M, ...   \n",
       "\n",
       "                                                 Minimum Android  \\\n",
       "missing_ratio                                           0.282324   \n",
       "num_diff_vals                                                154   \n",
       "diff_vals      [7.1 and up, 5.0 and up, 4.0.3 and up, 4.1 and...   \n",
       "\n",
       "                                                    Developer Id  \\\n",
       "missing_ratio                                           0.001427   \n",
       "num_diff_vals                                             758371   \n",
       "diff_vals      [Jean Confident Irénée NIYIZIBYOSE, Webserveis...   \n",
       "\n",
       "                                               Developer Website  \\\n",
       "missing_ratio                                          32.894657   \n",
       "num_diff_vals                                             810440   \n",
       "diff_vals      [https://beniyizibyose.tk/#/, https://webserve...   \n",
       "\n",
       "                                                 Developer Email  \\\n",
       "missing_ratio                                            0.00134   \n",
       "num_diff_vals                                             950456   \n",
       "diff_vals      [jean21101999@gmail.com, webserveis@gmail.com,...   \n",
       "\n",
       "                                                        Released  \\\n",
       "missing_ratio                                           3.071972   \n",
       "num_diff_vals                                               4158   \n",
       "diff_vals      [Feb 26, 2020, May 21, 2020, Aug 9, 2019, Sep ...   \n",
       "\n",
       "                                                    Last Updated  \\\n",
       "missing_ratio                                                0.0   \n",
       "num_diff_vals                                               3918   \n",
       "diff_vals      [Feb 26, 2020, May 06, 2021, Aug 19, 2019, Oct...   \n",
       "\n",
       "                                                  Content Rating  \\\n",
       "missing_ratio                                                0.0   \n",
       "num_diff_vals                                                  6   \n",
       "diff_vals      [Everyone, Teen, Mature 17+, Everyone 10+, Adu...   \n",
       "\n",
       "                                                  Privacy Policy  \\\n",
       "missing_ratio                                          18.199879   \n",
       "num_diff_vals                                             977743   \n",
       "diff_vals      [https://beniyizibyose.tk/projects/, https://d...   \n",
       "\n",
       "                                                    Scraped Time  \n",
       "missing_ratio                                                0.0  \n",
       "num_diff_vals                                              67374  \n",
       "diff_vals      [2021-06-15 20:19:35, 2021-06-15 20:19:36, 202...  "
      ]
     },
     "execution_count": 5,
     "metadata": {},
     "output_type": "execute_result"
    }
   ],
   "source": [
    "object_col_df = gps_df[['App Name', 'App Id', 'Category', 'Installs', 'Currency',\n",
    "       'Size', 'Minimum Android', 'Developer Id', 'Developer Website',\n",
    "       'Developer Email', 'Released', 'Last Updated', 'Content Rating',\n",
    "       'Privacy Policy',\n",
    "       'Scraped Time']]\n",
    "object_col_profiles_df = object_col_df.agg([missing_ratio, num_diff_vals, diff_vals])\n",
    "object_col_profiles_df"
   ]
  },
  {
   "cell_type": "markdown",
   "metadata": {},
   "source": [
    "Quan sát kỹ hơn cột `Minimum Android`"
   ]
  },
  {
   "cell_type": "code",
   "execution_count": 81,
   "metadata": {},
   "outputs": [
    {
     "data": {
      "text/plain": [
       "array(['7.1 and up', '5.0 and up', '4.0.3 and up', '4.1 and up',\n",
       "       '6.0 and up', '4.4 and up', '4.0 and up', '4.2 and up',\n",
       "       '2.1 and up', '7.0 and up', '2.2 and up', '2.3 and up',\n",
       "       '4.3 and up', '5.1 and up', '1.6 and up', '3.0 and up',\n",
       "       'Varies with device', '8.0 and up', '2.3.3 and up', '4.4W and up',\n",
       "       '3.2 and up', '1.5 and up', '4.0.3 - 7.1.1', '3.1 and up',\n",
       "       '2.0 and up', '1.0 and up', '1.1 and up', '2.0.1 and up',\n",
       "       '4.4 - 6.0', '2.1 - 4.4', '4.0 - 5.0', '2.0 - 2.3.4', '2.2 - 4.4',\n",
       "       '4.1 - 7.0', '4.1 - 6.0', '4.0 - 4.4W', '4.0 - 4.4', '4.0.3 - 7.0',\n",
       "       '2.3 - 5.0', '4.0 - 7.1.1', '4.1 - 7.1.1', '4.0 - 7.0',\n",
       "       '4.1 - 8.0', '4.0 - 6.0', '2.3 - 7.0', '4.0 - 8.0', '2.3 - 6.0',\n",
       "       '2.1 - 2.3.4', '3.0 - 4.1.1', '2.2 - 3.0', '2.0 - 8.0',\n",
       "       '4.0.3 - 8.0', '3.0 - 4.4W', '4.4 - 7.1.1', '4.4 - 8.0',\n",
       "       '4.0.3 - 6.0', '1.6 - 4.0.4', '8.0', '2.3 - 5.1', '2.1 - 7.1.1',\n",
       "       '2.3 - 4.4W', '4.4 - 7.0', '6.0 - 7.1.1', '2.3 - 4.4',\n",
       "       '2.2 - 4.0.4', '2.1 - 4.1.1', '3.0 - 8.0', '3.0 - 5.1',\n",
       "       '2.1 - 6.0', '6.0 - 8.0', '5.0 - 8.0', '4.1 - 5.1', '3.2 - 4.4',\n",
       "       '2.1 - 5.0', '4.1 - 4.3', '5.0 - 6.0', '5.1 - 7.1.1', '2.2 - 5.1',\n",
       "       '4.1 - 5.0', '2.3.3 - 4.4', '2.2 - 5.0', '2.2', '4.1 - 4.4',\n",
       "       '1.6 - 5.1', '4.2 - 7.1.1', '2.1 - 5.1', '1.6 - 4.4W',\n",
       "       '4.3 - 4.4W', '3.0 - 4.4', '2.1 - 3.1', '2.3 - 7.1.1',\n",
       "       '1.6 - 4.0.2', '4.0 - 4.0.4', '4.2 - 4.4W', '3.0 - 7.1.1',\n",
       "       '3.2 - 7.1.1', '3.0 - 6.0', '2.2 - 4.4W', '4.0.3 - 4.4',\n",
       "       '4.0.3 - 5.1', '6.0', '4.3', '1.1 - 4.4', '2.3.3 - 8.0',\n",
       "       '2.3.3 - 5.0', '2.2 - 6.0', '3.0 - 5.0', '2.3.3 - 2.3.4',\n",
       "       '1.5 - 2.1', '2.2 - 3.2', '5.0 - 7.1.1', '2.1 - 3.2',\n",
       "       '4.2 - 4.2.2', '2.3.3 - 5.1', '2.2 - 4.1.1', '1.6 - 4.4',\n",
       "       '4.2 - 4.3', '4.0 - 5.1', '1.6 - 7.0', '3.0 - 7.0', '1.0 - 6.0',\n",
       "       '2.3.3 - 4.0.4', '2.3 - 3.2', '4.3 - 8.0', '2.3 - 8.0',\n",
       "       '3.2 - 6.0', '2.3.3 - 7.1.1', '4.2 - 8.0', '2.2 - 4.3',\n",
       "       '3.2 - 4.1.1', '4.4 - 5.1', '2.3 - 4.1.1', '2.1 - 4.4W', '4.4',\n",
       "       '2.3.3 - 4.4W', '4.1 - 4.4W', '1.6 - 7.1.1', '2.2 - 4.2.2',\n",
       "       '4.3 - 5.1', '4.0.3 - 4.2.2', '2.2 - 2.3.4', '4.3 - 4.4',\n",
       "       '4.2 - 6.0', '4.4 - 4.4W', '2.3 - 4.0.2', '3.2 - 5.1', '7.0',\n",
       "       '3.0 - 3.2', '1.6 - 4.2.2', '5.1', '1.5 - 3.2', '2.2 - 8.0',\n",
       "       '1.6 - 2.1', '2.3.3 - 6.0'], dtype=object)"
      ]
     },
     "execution_count": 81,
     "metadata": {},
     "output_type": "execute_result"
    }
   ],
   "source": [
    "object_col_profiles_df['Minimum Android']['diff_vals']"
   ]
  },
  {
   "cell_type": "markdown",
   "metadata": {},
   "source": [
    "Quan sát dữ liệu và dựa và ý nghĩa, ta thấy:\n",
    "- Các cột `App Name`, `App Id`, `Category`, `Currency`, `Developer Id`, `Developer Website`, `Developer Email`,`Content Rating`, `Privacy Policy`, chắc chắn được xếp vào categorical. \n",
    "- Các cột `Installs`: số lượt tải, `Size`: kích thước ứng dụng có thể được đưa sang kiểu số.\n",
    "- Các cột `Released`, `Last Updated`, `Scraped Time`: có thể chuyển về datetime.\n",
    "- Cột `Minimum Android` : là dữ liệu dạng khoảng, có thể tiền xử lý chia thành hai cột phiên bản hệ điều hành thấp nhất và cao nhất. Hai cột mới thêm vào có thể chuyển về dạng numerical, nhưng ta sẽ chưa chuyển vội. Sẽ tiền xử lý tiếp nếu thấy cần thiết."
   ]
  },
  {
   "cell_type": "markdown",
   "metadata": {},
   "source": [
    "#### Tiền xử lý"
   ]
  },
  {
   "cell_type": "markdown",
   "metadata": {},
   "source": [
    "Ta tiền xử lý chuyển dữ liệu các cột được phân loại là numerical có kiểu object về lại kiểu số."
   ]
  },
  {
   "cell_type": "markdown",
   "metadata": {},
   "source": [
    "##### Chuyển cột `Size` sang dạng số:\n",
    "Xem thử các pattern đứng sau dữ liệu số:"
   ]
  },
  {
   "cell_type": "code",
   "execution_count": 82,
   "metadata": {},
   "outputs": [
    {
     "data": {
      "text/plain": [
       "{'G', 'M', 'Varies with device', 'k', nan}"
      ]
     },
     "execution_count": 82,
     "metadata": {},
     "output_type": "execute_result"
    }
   ],
   "source": [
    "set(gps_df['Size'].str.extract(r'([^\\d]+)$', expand=False).values)"
   ]
  },
  {
   "cell_type": "markdown",
   "metadata": {},
   "source": [
    "Ta chỉ chấp nhận các pattern string của cột `Size` có dạng là:\n",
    "- Chứa chuỗi: *Varies with device*\n",
    "- Kích thước dưới dạng: `{số}M` (số Megabyte của ứng dụng).\n",
    "- Kích thước dưới dạng: `{số}k` (số Kilobyte của ứng dụng). \n",
    "- Kích thước dưới dạng: `{số}G` (số Gigabyte của ứng dụng). \n",
    "Đếm xem thử có bao nhiêu dòng không có dạng như vậy:"
   ]
  },
  {
   "cell_type": "code",
   "execution_count": 4,
   "metadata": {},
   "outputs": [
    {
     "name": "stdout",
     "output_type": "stream",
     "text": [
      "Số dòng không chuyển đổi được:  196\n",
      "Các dòng không chuyển đổi được có các giá trị:  [nan]\n"
     ]
    }
   ],
   "source": [
    "out_of_pattern_rows = gps_df['Size'].str.replace(',','').str.extract(r'((?:Varies with device)|(?:\\d+.\\d+[MGk])|(?:\\d+[MGk]))', expand=False).isna()\n",
    "print(\"Số dòng không chuyển đổi được: \", len(gps_df[out_of_pattern_rows]))\n",
    "print(\"Các dòng không chuyển đổi được có các giá trị: \",gps_df[out_of_pattern_rows]['Size'].unique())"
   ]
  },
  {
   "cell_type": "markdown",
   "metadata": {},
   "source": [
    "Chỉ có **196** dòng lạc loài do chúng mang giá trị \"nan\" cũng không đáng kể."
   ]
  },
  {
   "cell_type": "markdown",
   "metadata": {},
   "source": [
    "Mặc dù ý nghĩa của 'Varies with device' và không theo pattern là khác nhau. Trong đồ án này nhóm chúng em xem hai giá trị này là tương đương nhau là không thu thập được và để giá trị `N/A` cho chúng."
   ]
  },
  {
   "cell_type": "code",
   "execution_count": 5,
   "metadata": {},
   "outputs": [],
   "source": [
    "gps_df.loc[out_of_pattern_rows,'Size'] = np.nan\n",
    "gps_df.loc[gps_df['Size']=='Varies with device','Size'] = np.nan"
   ]
  },
  {
   "cell_type": "markdown",
   "metadata": {},
   "source": [
    "Tách phần số của cột `Size`"
   ]
  },
  {
   "cell_type": "code",
   "execution_count": 6,
   "metadata": {},
   "outputs": [],
   "source": [
    "size_nums = gps_df['Size'].str.replace(',','').str.extract(r'((?:\\d+.\\d+)|(?:\\d+))', expand=False).astype('float64')"
   ]
  },
  {
   "cell_type": "markdown",
   "metadata": {},
   "source": [
    "Các dòng có đơn vị là KB và GB cần được chuyển đổi về cùng đơn vị MB."
   ]
  },
  {
   "cell_type": "code",
   "execution_count": 7,
   "metadata": {},
   "outputs": [],
   "source": [
    "size_nums[gps_df['Size'].str[-1]=='k'] *= (1/1024)\n",
    "size_nums[gps_df['Size'].str[-1]=='G'] *= 1024"
   ]
  },
  {
   "cell_type": "markdown",
   "metadata": {},
   "source": [
    "Gán lại vào Dataframe chính."
   ]
  },
  {
   "cell_type": "code",
   "execution_count": 8,
   "metadata": {},
   "outputs": [],
   "source": [
    "gps_df['Size'] = size_nums"
   ]
  },
  {
   "cell_type": "markdown",
   "metadata": {},
   "source": [
    "##### Chuyển cột `Installs` sang dạng số: \n",
    "Ta chỉ chấp nhận các pattern string của cột `Installs` có dạng là: số nguyên và dấu cộng \"+\" liền sau đó. (1000+, 1000,000+,...). Đếm xem thử có bao nhiêu dòng không có dạng như vậy:"
   ]
  },
  {
   "cell_type": "code",
   "execution_count": 9,
   "metadata": {
    "scrolled": true
   },
   "outputs": [
    {
     "name": "stdout",
     "output_type": "stream",
     "text": [
      "Số dòng không chuyển đổi được:  107\n",
      "Các dòng không chuyển đổi được có các giá trị:  [nan]\n"
     ]
    }
   ],
   "source": [
    "out_of_pattern_rows = gps_df['Installs'].str.replace(',','').str.extract(r'((?:\\d+[+]))', expand=False).isna()\n",
    "print(\"Số dòng không chuyển đổi được: \", len(gps_df[out_of_pattern_rows]))\n",
    "print(\"Các dòng không chuyển đổi được có các giá trị: \",gps_df[out_of_pattern_rows]['Installs'].unique())"
   ]
  },
  {
   "cell_type": "markdown",
   "metadata": {},
   "source": [
    "Chỉ có **107** dòng lạc loài, cũng không đáng kể, ta bỏ qua các dòng này và cho chúng bằng `N/A`."
   ]
  },
  {
   "cell_type": "code",
   "execution_count": 10,
   "metadata": {},
   "outputs": [],
   "source": [
    "gps_df.loc[out_of_pattern_rows,'Installs'] = np.nan"
   ]
  },
  {
   "cell_type": "markdown",
   "metadata": {},
   "source": [
    "Gán lại vào Dataframe chính:"
   ]
  },
  {
   "cell_type": "code",
   "execution_count": 11,
   "metadata": {},
   "outputs": [],
   "source": [
    "install_nums = gps_df['Installs'].str.replace(',','').str.extract(r'((?:\\d+))', expand=False).astype('float64')\n",
    "gps_df['Installs'] = install_nums"
   ]
  },
  {
   "cell_type": "markdown",
   "metadata": {},
   "source": [
    "##### Chuyển các cột `Released`, `Last Updated`, `Scraped Time` sang datetime."
   ]
  },
  {
   "cell_type": "markdown",
   "metadata": {},
   "source": [
    "Làm với cột `Released` trước:"
   ]
  },
  {
   "cell_type": "code",
   "execution_count": 12,
   "metadata": {},
   "outputs": [
    {
     "name": "stdout",
     "output_type": "stream",
     "text": [
      "Số dòng không chuyển đổi được:  71053\n",
      "Các dòng không chuyển đổi được có các giá trị:  [nan]\n"
     ]
    }
   ],
   "source": [
    "out_of_pattern_rows = pd.to_datetime(gps_df['Released'], format = '%b %d, %Y', errors = 'coerce').isna()\n",
    "print(\"Số dòng không chuyển đổi được: \", len(gps_df[out_of_pattern_rows]))\n",
    "print(\"Các dòng không chuyển đổi được có các giá trị: \",gps_df[out_of_pattern_rows]['Released'].unique())"
   ]
  },
  {
   "cell_type": "markdown",
   "metadata": {},
   "source": [
    "Có **71035** dòng dữ liệu không chuyển được. Cũng khá nhiều nhưng đều mang giá trị `N/A` nên có thể bỏ qua"
   ]
  },
  {
   "cell_type": "code",
   "execution_count": 13,
   "metadata": {},
   "outputs": [],
   "source": [
    "gps_df['Released'] = pd.to_datetime(gps_df['Released'], format = '%b %d, %Y', errors = 'coerce')"
   ]
  },
  {
   "cell_type": "markdown",
   "metadata": {},
   "source": [
    "Làm với cột `Last Updated`:"
   ]
  },
  {
   "cell_type": "code",
   "execution_count": 14,
   "metadata": {},
   "outputs": [
    {
     "name": "stdout",
     "output_type": "stream",
     "text": [
      "Số dòng không chuyển đổi được:  0\n",
      "Các dòng không chuyển đổi được có các giá trị:  []\n"
     ]
    }
   ],
   "source": [
    "out_of_pattern_rows = pd.to_datetime(gps_df['Last Updated'], format = '%b %d, %Y', errors = 'coerce').isna()\n",
    "print(\"Số dòng không chuyển đổi được: \", len(gps_df[out_of_pattern_rows]))\n",
    "print(\"Các dòng không chuyển đổi được có các giá trị: \",gps_df[out_of_pattern_rows]['Last Updated'].unique())"
   ]
  },
  {
   "cell_type": "code",
   "execution_count": 15,
   "metadata": {},
   "outputs": [],
   "source": [
    "gps_df['Last Updated'] = pd.to_datetime(gps_df['Last Updated'], format = '%b %d, %Y', errors = 'coerce')"
   ]
  },
  {
   "cell_type": "markdown",
   "metadata": {},
   "source": [
    "Làm với cột `Scraped Time`:"
   ]
  },
  {
   "cell_type": "code",
   "execution_count": 16,
   "metadata": {},
   "outputs": [
    {
     "name": "stdout",
     "output_type": "stream",
     "text": [
      "Số dòng không chuyển đổi được:  0\n",
      "Các dòng không chuyển đổi được có các giá trị:  []\n"
     ]
    }
   ],
   "source": [
    "out_of_pattern_rows = pd.to_datetime(gps_df['Scraped Time'], format = '%Y-%m-%d %H:%M:%S', errors = 'coerce').isna()\n",
    "print(\"Số dòng không chuyển đổi được: \", len(gps_df[out_of_pattern_rows]))\n",
    "print(\"Các dòng không chuyển đổi được có các giá trị: \",gps_df[out_of_pattern_rows]['Scraped Time'].unique())"
   ]
  },
  {
   "cell_type": "code",
   "execution_count": 17,
   "metadata": {},
   "outputs": [],
   "source": [
    "gps_df['Scraped Time'] = pd.to_datetime(gps_df['Scraped Time'], format = '%Y-%m-%d %H:%M:%S', errors = 'coerce')"
   ]
  },
  {
   "cell_type": "markdown",
   "metadata": {},
   "source": [
    "Tới đây ta đã giải quyết xong một số cột có dữ liệu `numerical` cần thiết. <br>\n",
    "##### Kiểm tra xem dữ liệu `numerical` đã hợp lý chưa?"
   ]
  },
  {
   "cell_type": "code",
   "execution_count": 20,
   "metadata": {},
   "outputs": [
    {
     "data": {
      "text/html": [
       "<div>\n",
       "<style scoped>\n",
       "    .dataframe tbody tr th:only-of-type {\n",
       "        vertical-align: middle;\n",
       "    }\n",
       "\n",
       "    .dataframe tbody tr th {\n",
       "        vertical-align: top;\n",
       "    }\n",
       "\n",
       "    .dataframe thead th {\n",
       "        text-align: right;\n",
       "    }\n",
       "</style>\n",
       "<table border=\"1\" class=\"dataframe\">\n",
       "  <thead>\n",
       "    <tr style=\"text-align: right;\">\n",
       "      <th></th>\n",
       "      <th>Rating</th>\n",
       "      <th>Rating Count</th>\n",
       "      <th>Installs</th>\n",
       "      <th>Size</th>\n",
       "      <th>Minimum Installs</th>\n",
       "      <th>Maximum Installs</th>\n",
       "      <th>Price</th>\n",
       "      <th>Released</th>\n",
       "      <th>Last Updated</th>\n",
       "      <th>Scraped Time</th>\n",
       "    </tr>\n",
       "  </thead>\n",
       "  <tbody>\n",
       "    <tr>\n",
       "      <th>missing_ratio</th>\n",
       "      <td>0.989345</td>\n",
       "      <td>9.893452e-01</td>\n",
       "      <td>4.626139e-03</td>\n",
       "      <td>3.241453</td>\n",
       "      <td>4.626139e-03</td>\n",
       "      <td>0.000000e+00</td>\n",
       "      <td>0.0</td>\n",
       "      <td>3.071972</td>\n",
       "      <td>0.0</td>\n",
       "      <td>0.0</td>\n",
       "    </tr>\n",
       "    <tr>\n",
       "      <th>min</th>\n",
       "      <td>0.000000</td>\n",
       "      <td>0.000000e+00</td>\n",
       "      <td>0.000000e+00</td>\n",
       "      <td>0.003125</td>\n",
       "      <td>0.000000e+00</td>\n",
       "      <td>0.000000e+00</td>\n",
       "      <td>0.0</td>\n",
       "      <td>2010-01-28 00:00:00</td>\n",
       "      <td>2009-02-09 00:00:00</td>\n",
       "      <td>2021-06-15 20:19:35</td>\n",
       "    </tr>\n",
       "    <tr>\n",
       "      <th>max</th>\n",
       "      <td>5.000000</td>\n",
       "      <td>1.385576e+08</td>\n",
       "      <td>1.000000e+10</td>\n",
       "      <td>1536.000000</td>\n",
       "      <td>1.000000e+10</td>\n",
       "      <td>1.205763e+10</td>\n",
       "      <td>400.0</td>\n",
       "      <td>2021-06-16 00:00:00</td>\n",
       "      <td>2021-06-16 00:00:00</td>\n",
       "      <td>2021-06-16 15:10:42</td>\n",
       "    </tr>\n",
       "  </tbody>\n",
       "</table>\n",
       "</div>"
      ],
      "text/plain": [
       "                 Rating  Rating Count      Installs         Size  \\\n",
       "missing_ratio  0.989345  9.893452e-01  4.626139e-03     3.241453   \n",
       "min            0.000000  0.000000e+00  0.000000e+00     0.003125   \n",
       "max            5.000000  1.385576e+08  1.000000e+10  1536.000000   \n",
       "\n",
       "               Minimum Installs  Maximum Installs  Price             Released  \\\n",
       "missing_ratio      4.626139e-03      0.000000e+00    0.0             3.071972   \n",
       "min                0.000000e+00      0.000000e+00    0.0  2010-01-28 00:00:00   \n",
       "max                1.000000e+10      1.205763e+10  400.0  2021-06-16 00:00:00   \n",
       "\n",
       "                      Last Updated         Scraped Time  \n",
       "missing_ratio                  0.0                  0.0  \n",
       "min            2009-02-09 00:00:00  2021-06-15 20:19:35  \n",
       "max            2021-06-16 00:00:00  2021-06-16 15:10:42  "
      ]
     },
     "execution_count": 20,
     "metadata": {},
     "output_type": "execute_result"
    }
   ],
   "source": [
    "numerical_col_df = gps_df[['Rating', 'Rating Count', 'Installs', 'Size' ,'Minimum Installs', 'Maximum Installs', 'Price', 'Released', 'Last Updated', 'Scraped Time']]\n",
    "numerical_col_profiles_df = numerical_col_df.agg([missing_ratio, pd.Series.min, pd.Series.max])\n",
    "numerical_col_profiles_df"
   ]
  },
  {
   "cell_type": "markdown",
   "metadata": {},
   "source": [
    "Có vẻ chưa có gì bất thường"
   ]
  },
  {
   "cell_type": "markdown",
   "metadata": {},
   "source": [
    "Ta sẽ tiếp tục xử lý cho các cột khác!"
   ]
  },
  {
   "cell_type": "markdown",
   "metadata": {},
   "source": [
    "##### Tách cột `Minimum Android` thành 2 cột là Min Android Ver và Max Android Ver"
   ]
  },
  {
   "cell_type": "code",
   "execution_count": 98,
   "metadata": {},
   "outputs": [],
   "source": [
    "android_ver_pattern_1 = gps_df['Minimum Android'].str.extract(r'((?:\\d.\\d.\\d)|(?:\\d.\\d))', expand = False)\n",
    "android_ver_pattern_2 = gps_df['Minimum Android'].str.extract(r'((?<=\\- ).*)', expand=False)"
   ]
  },
  {
   "cell_type": "code",
   "execution_count": 99,
   "metadata": {},
   "outputs": [],
   "source": [
    "gps_df['Min Android Ver'] = android_ver_pattern_1"
   ]
  },
  {
   "cell_type": "code",
   "execution_count": 100,
   "metadata": {},
   "outputs": [],
   "source": [
    "gps_df['Max Android Ver'] = android_ver_pattern_2"
   ]
  },
  {
   "cell_type": "markdown",
   "metadata": {},
   "source": [
    "Tới đây ta đã giải quyết xong một số cột có dữ liệu `categorical` cần thiết. \n",
    "##### Kiểm tra xem dữ liệu `categorical` đã hợp lý chưa?"
   ]
  },
  {
   "cell_type": "code",
   "execution_count": 101,
   "metadata": {},
   "outputs": [
    {
     "data": {
      "text/html": [
       "<div>\n",
       "<style scoped>\n",
       "    .dataframe tbody tr th:only-of-type {\n",
       "        vertical-align: middle;\n",
       "    }\n",
       "\n",
       "    .dataframe tbody tr th {\n",
       "        vertical-align: top;\n",
       "    }\n",
       "\n",
       "    .dataframe thead th {\n",
       "        text-align: right;\n",
       "    }\n",
       "</style>\n",
       "<table border=\"1\" class=\"dataframe\">\n",
       "  <thead>\n",
       "    <tr style=\"text-align: right;\">\n",
       "      <th></th>\n",
       "      <th>App Name</th>\n",
       "      <th>App Id</th>\n",
       "      <th>Category</th>\n",
       "      <th>Currency</th>\n",
       "      <th>Minimum Android</th>\n",
       "      <th>Min Android Ver</th>\n",
       "      <th>Max Android Ver</th>\n",
       "      <th>Developer Id</th>\n",
       "      <th>Developer Website</th>\n",
       "      <th>Developer Email</th>\n",
       "      <th>Content Rating</th>\n",
       "      <th>Privacy Policy</th>\n",
       "      <th>Free</th>\n",
       "      <th>Ad Supported</th>\n",
       "      <th>In App Purchases</th>\n",
       "      <th>Editors Choice</th>\n",
       "    </tr>\n",
       "  </thead>\n",
       "  <tbody>\n",
       "    <tr>\n",
       "      <th>missing_ratio</th>\n",
       "      <td>0.000086</td>\n",
       "      <td>0.0</td>\n",
       "      <td>0.0</td>\n",
       "      <td>0.005837</td>\n",
       "      <td>0.282324</td>\n",
       "      <td>2.280384</td>\n",
       "      <td>99.980415</td>\n",
       "      <td>0.001427</td>\n",
       "      <td>32.894657</td>\n",
       "      <td>0.00134</td>\n",
       "      <td>0.0</td>\n",
       "      <td>18.199879</td>\n",
       "      <td>0.0</td>\n",
       "      <td>0.0</td>\n",
       "      <td>0.0</td>\n",
       "      <td>0.0</td>\n",
       "    </tr>\n",
       "    <tr>\n",
       "      <th>num_diff_vals</th>\n",
       "      <td>2177944</td>\n",
       "      <td>2312944</td>\n",
       "      <td>48</td>\n",
       "      <td>15</td>\n",
       "      <td>154</td>\n",
       "      <td>25</td>\n",
       "      <td>18</td>\n",
       "      <td>758371</td>\n",
       "      <td>810440</td>\n",
       "      <td>950456</td>\n",
       "      <td>6</td>\n",
       "      <td>977743</td>\n",
       "      <td>2</td>\n",
       "      <td>2</td>\n",
       "      <td>2</td>\n",
       "      <td>2</td>\n",
       "    </tr>\n",
       "    <tr>\n",
       "      <th>diff_vals</th>\n",
       "      <td>[Gakondo, Ampere Battery Info, Vibook, Smart C...</td>\n",
       "      <td>[com.ishakwe.gakondo, com.webserveis.batteryin...</td>\n",
       "      <td>[Adventure, Tools, Productivity, Communication...</td>\n",
       "      <td>[USD, XXX, CAD, EUR, INR, VND, GBP, BRL, KRW, ...</td>\n",
       "      <td>[7.1 and up, 5.0 and up, 4.0.3 and up, 4.1 and...</td>\n",
       "      <td>[7.1, 5.0, 4.0.3, 4.1, 6.0, 4.4, 4.0, 4.2, 2.1...</td>\n",
       "      <td>[7.1.1, 6.0, 4.4, 5.0, 2.3.4, 7.0, 4.4W, 8.0, ...</td>\n",
       "      <td>[Jean Confident Irénée NIYIZIBYOSE, Webserveis...</td>\n",
       "      <td>[https://beniyizibyose.tk/#/, https://webserve...</td>\n",
       "      <td>[jean21101999@gmail.com, webserveis@gmail.com,...</td>\n",
       "      <td>[Everyone, Teen, Mature 17+, Everyone 10+, Adu...</td>\n",
       "      <td>[https://beniyizibyose.tk/projects/, https://d...</td>\n",
       "      <td>[True, False]</td>\n",
       "      <td>[False, True]</td>\n",
       "      <td>[False, True]</td>\n",
       "      <td>[False, True]</td>\n",
       "    </tr>\n",
       "  </tbody>\n",
       "</table>\n",
       "</div>"
      ],
      "text/plain": [
       "                                                        App Name  \\\n",
       "missing_ratio                                           0.000086   \n",
       "num_diff_vals                                            2177944   \n",
       "diff_vals      [Gakondo, Ampere Battery Info, Vibook, Smart C...   \n",
       "\n",
       "                                                          App Id  \\\n",
       "missing_ratio                                                0.0   \n",
       "num_diff_vals                                            2312944   \n",
       "diff_vals      [com.ishakwe.gakondo, com.webserveis.batteryin...   \n",
       "\n",
       "                                                        Category  \\\n",
       "missing_ratio                                                0.0   \n",
       "num_diff_vals                                                 48   \n",
       "diff_vals      [Adventure, Tools, Productivity, Communication...   \n",
       "\n",
       "                                                        Currency  \\\n",
       "missing_ratio                                           0.005837   \n",
       "num_diff_vals                                                 15   \n",
       "diff_vals      [USD, XXX, CAD, EUR, INR, VND, GBP, BRL, KRW, ...   \n",
       "\n",
       "                                                 Minimum Android  \\\n",
       "missing_ratio                                           0.282324   \n",
       "num_diff_vals                                                154   \n",
       "diff_vals      [7.1 and up, 5.0 and up, 4.0.3 and up, 4.1 and...   \n",
       "\n",
       "                                                 Min Android Ver  \\\n",
       "missing_ratio                                           2.280384   \n",
       "num_diff_vals                                                 25   \n",
       "diff_vals      [7.1, 5.0, 4.0.3, 4.1, 6.0, 4.4, 4.0, 4.2, 2.1...   \n",
       "\n",
       "                                                 Max Android Ver  \\\n",
       "missing_ratio                                          99.980415   \n",
       "num_diff_vals                                                 18   \n",
       "diff_vals      [7.1.1, 6.0, 4.4, 5.0, 2.3.4, 7.0, 4.4W, 8.0, ...   \n",
       "\n",
       "                                                    Developer Id  \\\n",
       "missing_ratio                                           0.001427   \n",
       "num_diff_vals                                             758371   \n",
       "diff_vals      [Jean Confident Irénée NIYIZIBYOSE, Webserveis...   \n",
       "\n",
       "                                               Developer Website  \\\n",
       "missing_ratio                                          32.894657   \n",
       "num_diff_vals                                             810440   \n",
       "diff_vals      [https://beniyizibyose.tk/#/, https://webserve...   \n",
       "\n",
       "                                                 Developer Email  \\\n",
       "missing_ratio                                            0.00134   \n",
       "num_diff_vals                                             950456   \n",
       "diff_vals      [jean21101999@gmail.com, webserveis@gmail.com,...   \n",
       "\n",
       "                                                  Content Rating  \\\n",
       "missing_ratio                                                0.0   \n",
       "num_diff_vals                                                  6   \n",
       "diff_vals      [Everyone, Teen, Mature 17+, Everyone 10+, Adu...   \n",
       "\n",
       "                                                  Privacy Policy  \\\n",
       "missing_ratio                                          18.199879   \n",
       "num_diff_vals                                             977743   \n",
       "diff_vals      [https://beniyizibyose.tk/projects/, https://d...   \n",
       "\n",
       "                        Free   Ad Supported In App Purchases Editors Choice  \n",
       "missing_ratio            0.0            0.0              0.0            0.0  \n",
       "num_diff_vals              2              2                2              2  \n",
       "diff_vals      [True, False]  [False, True]    [False, True]  [False, True]  "
      ]
     },
     "execution_count": 101,
     "metadata": {},
     "output_type": "execute_result"
    }
   ],
   "source": [
    "categorical_col_df = gps_df[['App Name', 'App Id', 'Category', 'Currency',\n",
    "                             'Minimum Android', 'Min Android Ver', 'Max Android Ver', 'Developer Id', 'Developer Website',\n",
    "                             'Developer Email', 'Content Rating',\n",
    "                             'Privacy Policy', 'Free', 'Ad Supported', 'In App Purchases', 'Editors Choice']]\n",
    "categorical_col_profiles_df = categorical_col_df.agg([missing_ratio, num_diff_vals, diff_vals])\n",
    "categorical_col_profiles_df"
   ]
  },
  {
   "cell_type": "markdown",
   "metadata": {},
   "source": [
    "Quan sát kỹ hơn 4 cột `Category`, `Currency` và `Content Rating`"
   ]
  },
  {
   "cell_type": "code",
   "execution_count": 102,
   "metadata": {},
   "outputs": [
    {
     "data": {
      "text/plain": [
       "array(['Adventure', 'Tools', 'Productivity', 'Communication', 'Social',\n",
       "       'Libraries & Demo', 'Lifestyle', 'Personalization', 'Racing',\n",
       "       'Maps & Navigation', 'Travel & Local', 'Food & Drink',\n",
       "       'Books & Reference', 'Medical', 'Puzzle', 'Entertainment',\n",
       "       'Arcade', 'Auto & Vehicles', 'Photography', 'Health & Fitness',\n",
       "       'Education', 'Shopping', 'Board', 'Music & Audio', 'Sports',\n",
       "       'Beauty', 'Business', 'Educational', 'Finance', 'News & Magazines',\n",
       "       'Casual', 'Art & Design', 'House & Home', 'Card', 'Events',\n",
       "       'Trivia', 'Weather', 'Strategy', 'Word', 'Video Players & Editors',\n",
       "       'Action', 'Simulation', 'Music', 'Dating', 'Role Playing',\n",
       "       'Casino', 'Comics', 'Parenting'], dtype=object)"
      ]
     },
     "execution_count": 102,
     "metadata": {},
     "output_type": "execute_result"
    }
   ],
   "source": [
    "categorical_col_profiles_df['Category']['diff_vals']"
   ]
  },
  {
   "cell_type": "code",
   "execution_count": 103,
   "metadata": {},
   "outputs": [
    {
     "data": {
      "text/plain": [
       "array(['USD', 'XXX', 'CAD', 'EUR', 'INR', 'VND', 'GBP', 'BRL', 'KRW',\n",
       "       'TRY', 'RUB', 'SGD', 'AUD', 'PKR', 'ZAR'], dtype=object)"
      ]
     },
     "execution_count": 103,
     "metadata": {},
     "output_type": "execute_result"
    }
   ],
   "source": [
    "categorical_col_profiles_df['Currency']['diff_vals']"
   ]
  },
  {
   "cell_type": "code",
   "execution_count": 104,
   "metadata": {},
   "outputs": [
    {
     "data": {
      "text/plain": [
       "array(['Everyone', 'Teen', 'Mature 17+', 'Everyone 10+',\n",
       "       'Adults only 18+', 'Unrated'], dtype=object)"
      ]
     },
     "execution_count": 104,
     "metadata": {},
     "output_type": "execute_result"
    }
   ],
   "source": [
    "categorical_col_profiles_df['Content Rating']['diff_vals']"
   ]
  },
  {
   "cell_type": "markdown",
   "metadata": {},
   "source": [
    "Cột currency có giá trị \"XXX\" mang ý nghĩa là \"No currency\" (theo Wikipedia). Còn lại chưa có gì đáng chú ý hay bất thường."
   ]
  },
  {
   "cell_type": "markdown",
   "metadata": {},
   "source": [
    "## Đưa ra các câu hỏi có ý nghĩa cần trả lời"
   ]
  },
  {
   "cell_type": "markdown",
   "metadata": {},
   "source": [
    "1. Có phải càng gần đây app càng nặng.\n",
    "- Đối với nhà phát triển app mobile, trả lời câu hỏi này cho chúng ta biết được kích cỡ phù hợp cho ứng dụng của mình khi đưa lên Google Play.\n",
    "- Người dùng cũng có thể đánh giá xem có nên thay chiếc smartphone dỏm xài nhiều năm của mình bằng một cái Samsung Galaxy S21 đời mới để chạy được các ứng dụng hiện nay hay không. \n",
    "2. Thường các app được đưa ra vào tháng nào trong năm.\n",
    "3. Các công ty có nhiều lượt tải nhất thì app chủ yếu chủ đề gì?\n",
    "4. App có category nào sẽ có lượt tải xuống cao nhất (xét trên columns Install)?\n",
    "5. Developer nào có tổng số lượt tải các app cao nhất?\n",
    "6. Tương quan rating lượt tải.\n",
    "7. Xu hướng app theo free hay tính phí?\n",
    "- Đối với nhà phát triển, thông tin này sẽ giúp dự đoán xu hướng app cho ta biết nên lựa chọn phương thức thanh toán thế nào để tối ưu hóa lợi nhuận cho ứng dụng của mình, hay tăng tính cạnh tranh của app trên thị trường."
   ]
  },
  {
   "cell_type": "markdown",
   "metadata": {},
   "source": [
    "## Phân tích dữ liệu để trả lời các câu hỏi trên"
   ]
  },
  {
   "cell_type": "markdown",
   "metadata": {},
   "source": [
    "### Có phải càng gần đây app càng nặng"
   ]
  },
  {
   "cell_type": "markdown",
   "metadata": {},
   "source": [
    "Để trả lời, em sẽ thực hiện các bước sau đây:\n",
    "- Bước 1: Thêm cột 'ReleasedYear' để lấy năm của ngày phát hành ứng dụng, đánh giá thông tin các mẫu dữ liệu từng năm có đầy đủ hay không.\n",
    "- Bước 2: Tính kích cỡ trung bình, min, max của ứng dụng theo từng năm ở trên\n",
    "- Bước 3: Từ kết quả ở trên vẽ các đường xu hướng cho ba chỉ số."
   ]
  },
  {
   "cell_type": "markdown",
   "metadata": {},
   "source": [
    "Bước 1:"
   ]
  },
  {
   "cell_type": "code",
   "execution_count": 18,
   "metadata": {},
   "outputs": [],
   "source": [
    "gps_df['ReleasedYear'] = gps_df['Released'].dt.year"
   ]
  },
  {
   "cell_type": "code",
   "execution_count": 26,
   "metadata": {},
   "outputs": [
    {
     "name": "stdout",
     "output_type": "stream",
     "text": [
      "ReleasedYear\n",
      "2010.0      4641\n",
      "2011.0     14362\n",
      "2012.0     25747\n",
      "2013.0     42476\n",
      "2014.0     71815\n",
      "2015.0    115432\n",
      "2016.0    167112\n",
      "2017.0    259685\n",
      "2018.0    334566\n",
      "2019.0    480665\n",
      "2020.0    544882\n",
      "2021.0    180508\n",
      "Name: ReleasedYear, dtype: int64\n"
     ]
    },
    {
     "data": {
      "text/plain": [
       "[Text(0.5, 1.0, 'Number of app by year'),\n",
       " Text(0.5, 0, 'Year'),\n",
       " Text(0, 0.5, 'Size')]"
      ]
     },
     "execution_count": 26,
     "metadata": {},
     "output_type": "execute_result"
    },
    {
     "data": {
      "image/png": "[encoded data removed]",
      "text/plain": [
       "<Figure size 432x288 with 1 Axes>"
      ]
     },
     "metadata": {
      "needs_background": "light"
     },
     "output_type": "display_data"
    }
   ],
   "source": [
    "apps_by_year = gps_df.groupby(['ReleasedYear'])['ReleasedYear'].count()\n",
    "print(apps_by_year)\n",
    "\n",
    "plt.plot(apps_by_year, 'o')\n",
    "ax = plt.gca()\n",
    "ax.set(title='Number of app by year', xlabel='Year', ylabel='Size')"
   ]
  },
  {
   "cell_type": "markdown",
   "metadata": {},
   "source": [
    "Dữ liệu mãu có vẻ đúng với số lượng app tăng dần theo từng năm, tuy nhiên vì dữ liệu này được thu nhập đầu năm 2021 nên số lượng app được thống kê không đầy đủ. Ta nên loại bỏ năm này ra khỏi tiêu chí đánh giá"
   ]
  },
  {
   "cell_type": "markdown",
   "metadata": {},
   "source": [
    "Bước 2:"
   ]
  },
  {
   "cell_type": "code",
   "execution_count": 27,
   "metadata": {},
   "outputs": [],
   "source": [
    "app_sizes_mean = gps_df.groupby(['ReleasedYear'])['Size'].mean().loc[:2020]\n",
    "app_sizes_max = gps_df.groupby(['ReleasedYear'])['Size'].max().loc[:2020]\n",
    "app_sizes_min = gps_df.groupby(['ReleasedYear'])['Size'].min().loc[:2020]"
   ]
  },
  {
   "cell_type": "markdown",
   "metadata": {},
   "source": [
    "Bước 3:"
   ]
  },
  {
   "cell_type": "code",
   "execution_count": 28,
   "metadata": {},
   "outputs": [
    {
     "data": {
      "image/png": "[encoded data removed]",
      "text/plain": [
       "<Figure size 432x288 with 1 Axes>"
      ]
     },
     "metadata": {
      "needs_background": "light"
     },
     "output_type": "display_data"
    },
    {
     "data": {
      "image/png": "[encoded data removed]",
      "text/plain": [
       "<Figure size 432x288 with 1 Axes>"
      ]
     },
     "metadata": {
      "needs_background": "light"
     },
     "output_type": "display_data"
    },
    {
     "data": {
      "image/png": "[encoded data removed]",
      "text/plain": [
       "<Figure size 432x288 with 1 Axes>"
      ]
     },
     "metadata": {
      "needs_background": "light"
     },
     "output_type": "display_data"
    }
   ],
   "source": [
    "ax = plt.gca()\n",
    "ax.set(title='App size by year', xlabel='Year', ylabel='Size')\n",
    "app_sizes_mean.name = 'Mean'\n",
    "app_sizes_max.name = 'Max'\n",
    "app_sizes_min.name = 'Min'\n",
    "\n",
    "app_sizes_mean.plot(legend='Mean')\n",
    "plt.show()\n",
    "app_sizes_max.plot(legend='Max')\n",
    "plt.show()\n",
    "app_sizes_min.plot(legend='Min')\n",
    "plt.show()"
   ]
  },
  {
   "cell_type": "markdown",
   "metadata": {},
   "source": [
    "Biểu đồ cho thấy dự đoán về xu hướng tăng của kích cỡ trung bình của app theo từng năm. Tuy dữ liệu về kích cỡ nhỏ nhất và lớn nhất của app "
   ]
  },
  {
   "cell_type": "markdown",
   "metadata": {},
   "source": [
    "Có thể thấy được sự phát triển số lượng của app theo từng năm làm cho số lượng app tăng dần. Nhưng vì dữ liệu này được thu nhập vào đầu năm 2021 nên số app được ghi nhận trong năm 2021 thấp hơn hẳn là hiểu được. Việc loại bỏ dữ liệu các app 2021 không ảnh hưởng nhiều tới nhận định các app có xu hướng nặng hơn gần đây. Điều này có thể giải thích vì các app đang ngày càng nhiều chức năng hơn đồng thời khả năng tính toán của các thiết bị điện thoại cũng tăng nên dung lượng của app không còn là vấn đề lớn nữa."
   ]
  },
  {
   "cell_type": "markdown",
   "metadata": {},
   "source": [
    "### Xu hướng app theo free hay tính phí?"
   ]
  },
  {
   "cell_type": "markdown",
   "metadata": {},
   "source": [
    "Vì xu hướng này khó có thể đưa ra lời giải thích phù hợp nhất với xu hướng được thể hiện ra trên dữ liệu. Ta đánh giá theo năm trước (vì đánh giá ở trên chỉ ra năm 2021 dữ liệu không đầy đủ nên khi đánh giá theo năm ta sẽ không xét đến). Các bước thực hiện như sau:\n",
    "- Bước 1: ta tính toán và đánh giá xu hướng tăng hay giảm của số lượng ứng dụng cả miễn phí và tính phí\n",
    "- Bước 2: vẽ đồ thị gồm hai đường xu hướng cho hai kiểu ứng dụng \n",
    "- Bước 3: tính toán tỉ lệ hai kiểu ứng dụng theo các năm\n",
    "- Bước 4: vẽ đồ thị cột cho tỉ lệ hai kiểu ứng dụng\n",
    "- Bước 5: mở rộng xu hướng này theo một giả định và thực hiện kiểm chứng các giả định này"
   ]
  },
  {
   "cell_type": "markdown",
   "metadata": {},
   "source": [
    "Bước 1:"
   ]
  },
  {
   "cell_type": "code",
   "execution_count": 30,
   "metadata": {},
   "outputs": [
    {
     "data": {
      "text/plain": [
       "ReleasedYear  Free \n",
       "2010.0        False       787\n",
       "              True       3854\n",
       "2011.0        False      2147\n",
       "              True      12215\n",
       "2012.0        False      2988\n",
       "              True      22759\n",
       "2013.0        False      3657\n",
       "              True      38819\n",
       "2014.0        False      4421\n",
       "              True      67394\n",
       "2015.0        False      4061\n",
       "              True     111371\n",
       "2016.0        False      4608\n",
       "              True     162504\n",
       "2017.0        False      4995\n",
       "              True     254690\n",
       "2018.0        False      5421\n",
       "              True     329145\n",
       "2019.0        False      5385\n",
       "              True     475280\n",
       "2020.0        False      5254\n",
       "              True     539628\n",
       "Name: ReleasedYear, dtype: int64"
      ]
     },
     "execution_count": 30,
     "metadata": {},
     "output_type": "execute_result"
    }
   ],
   "source": [
    "apps_by_year = gps_df.groupby(['ReleasedYear', 'Free'])['ReleasedYear'].agg('count')\n",
    "apps_by_year = apps_by_year.loc[:2020]\n",
    "apps_by_year"
   ]
  },
  {
   "cell_type": "markdown",
   "metadata": {},
   "source": [
    "Bước 2:"
   ]
  },
  {
   "cell_type": "code",
   "execution_count": 31,
   "metadata": {},
   "outputs": [
    {
     "data": {
      "image/png": "[encoded data removed]",
      "text/plain": [
       "<Figure size 432x288 with 2 Axes>"
      ]
     },
     "metadata": {
      "needs_background": "light"
     },
     "output_type": "display_data"
    }
   ],
   "source": [
    "fig, ax1 = plt.subplots()\n",
    "\n",
    "color = 'tab:red'\n",
    "ax1.set_xlabel('Year')\n",
    "ax1.set_ylabel('Number of price apps')\n",
    "ax1.plot(apps_by_year.loc[:, 0], color=color)\n",
    "ax1.tick_params(axis='y', labelcolor=color)\n",
    "\n",
    "ax2 = ax1.twinx()  \n",
    "\n",
    "color = 'tab:blue'\n",
    "ax2.set_ylabel('Numer of free apps')\n",
    "ax2.plot(apps_by_year.loc[:, 1], color=color)\n",
    "ax2.tick_params(axis='y', labelcolor=color)\n",
    "\n",
    "fig.tight_layout()\n",
    "plt.show()"
   ]
  },
  {
   "cell_type": "markdown",
   "metadata": {},
   "source": [
    "Bước 3:"
   ]
  },
  {
   "cell_type": "markdown",
   "metadata": {},
   "source": [
    "Ta có thể thấy xu hướng app của cả app miễn phí và app tính phí đều tăng. Ta sẽ đánh giá sự thay đổi về tỉ lệ của các app."
   ]
  },
  {
   "cell_type": "code",
   "execution_count": 32,
   "metadata": {},
   "outputs": [
    {
     "name": "stdout",
     "output_type": "stream",
     "text": [
      "{'ReleasedYear': Float64Index([2010.0, 2011.0, 2012.0, 2013.0, 2014.0, 2015.0, 2016.0, 2017.0,\n",
      "              2018.0, 2019.0, 2020.0],\n",
      "             dtype='float64', name='ReleasedYear'), 'Percents': array([83.04244775, 85.05082858, 88.39476444, 91.39043224, 93.84390448,\n",
      "       96.48191143, 97.24256786, 98.07651578, 98.3796919 , 98.87967711,\n",
      "       99.03575453])}\n"
     ]
    }
   ],
   "source": [
    "apps_by_percents = apps_by_year.groupby(level=0).apply(lambda x: 100 * x / float(x.sum()))\n",
    "year_index = apps_by_year.index.get_level_values(0).unique()\n",
    "apps_percents = {'ReleasedYear': year_index, 'Percents': apps_by_percents.loc[:, 0].values + apps_by_percents.loc[:, 1].values}\n",
    "free_apps_percents = {'ReleasedYear': year_index, 'Percents': apps_by_percents.loc[:, 1].values}\n",
    "print(free_apps_percents)"
   ]
  },
  {
   "cell_type": "markdown",
   "metadata": {},
   "source": [
    "Bước 4:"
   ]
  },
  {
   "cell_type": "code",
   "execution_count": 33,
   "metadata": {},
   "outputs": [
    {
     "data": {
      "image/png": "[encoded data removed]",
      "text/plain": [
       "<Figure size 1008x720 with 1 Axes>"
      ]
     },
     "metadata": {
      "needs_background": "light"
     },
     "output_type": "display_data"
    }
   ],
   "source": [
    "# set the figure size and background color\n",
    "plt.figure(figsize=(14, 10))\n",
    "sns.set(style=\"darkgrid\")\n",
    "\n",
    "bar1 = sns.barplot(x='ReleasedYear', y='Percents', data=apps_percents, color='darkblue')\n",
    "\n",
    "bar2 = sns.barplot(x='ReleasedYear', y='Percents', data=free_apps_percents, color='lightblue')\n",
    "\n",
    "# add legend\n",
    "top_bar = mpatches.Patch(color='darkblue', label='Free = False')\n",
    "bottom_bar = mpatches.Patch(color='lightblue', label='Free = True')\n",
    "plt.legend(handles=[top_bar, bottom_bar])\n",
    "\n",
    "# show the graph\n",
    "plt.show()"
   ]
  },
  {
   "cell_type": "markdown",
   "metadata": {},
   "source": [
    "Ta dễ dàng đánh giá được xu hướng tỉ lệ các ứng dụng free ngày càng tăng và chiếm nhiều hơn trong số lượng app. Nhưng thị trường kinh doanh ứng dụng di động ngày càng lớn, nên có thể dự đoán rằng phương thức thanh toán hay các kênh kiếm tiền phải chuyển qua các hình thức khác. Ta sẽ xem xét về tỉ lệ sử dụng ad và các thanh toán trong app để xác nhận nhận định này."
   ]
  },
  {
   "cell_type": "markdown",
   "metadata": {},
   "source": [
    "Bước 5:"
   ]
  },
  {
   "cell_type": "markdown",
   "metadata": {},
   "source": [
    "Ta xem xét xu hướng quảng cáo trong app và xu huớng giao dịch trong app"
   ]
  },
  {
   "cell_type": "code",
   "execution_count": 37,
   "metadata": {},
   "outputs": [
    {
     "name": "stdout",
     "output_type": "stream",
     "text": [
      "Thống kê số app free có để quảng cáo trong app\n",
      "ReleasedYear  Ad Supported\n",
      "2010.0        False             1818\n",
      "              True              2036\n",
      "2011.0        False             6104\n",
      "              True              6111\n",
      "2012.0        False            11759\n",
      "              True             11000\n",
      "2013.0        False            19735\n",
      "              True             19084\n",
      "2014.0        False            33824\n",
      "              True             33570\n",
      "2015.0        False            54790\n",
      "              True             56581\n",
      "2016.0        False            83993\n",
      "              True             78511\n",
      "2017.0        False           127020\n",
      "              True            127670\n",
      "2018.0        False           162574\n",
      "              True            166571\n",
      "2019.0        False           231571\n",
      "              True            243709\n",
      "2020.0        False           258632\n",
      "              True            280996\n",
      "Name: App Id, dtype: int64\n",
      "Thống kê số app free có thực hiện mua bán trong app\n",
      "ReleasedYear  In App Purchases\n",
      "2010.0        False                 3151\n",
      "              True                   703\n",
      "2011.0        False                10309\n",
      "              True                  1906\n",
      "2012.0        False                19290\n",
      "              True                  3469\n",
      "2013.0        False                32181\n",
      "              True                  6638\n",
      "2014.0        False                58494\n",
      "              True                  8900\n",
      "2015.0        False                98176\n",
      "              True                 13195\n",
      "2016.0        False               145512\n",
      "              True                 16992\n",
      "2017.0        False               232003\n",
      "              True                 22687\n",
      "2018.0        False               302910\n",
      "              True                 26235\n",
      "2019.0        False               442135\n",
      "              True                 33145\n",
      "2020.0        False               499228\n",
      "              True                 40400\n",
      "Name: App Id, dtype: int64\n"
     ]
    }
   ],
   "source": [
    "temp = gps_df.groupby(['ReleasedYear', 'Free', 'Ad Supported'])['App Id'].count()\n",
    "num_ads_app_by_year = temp.loc[:, True, :].loc[:2020]\n",
    "temp = gps_df.groupby(['ReleasedYear', 'Free', 'In App Purchases'])['App Id'].count()\n",
    "num_in_purch_app_by_year = temp.loc[:, True, :].loc[:2020]\n",
    "print('Thống kê số app free có để quảng cáo trong app')\n",
    "print(num_ads_app_by_year)\n",
    "print('Thống kê số app free có thực hiện mua bán trong app')\n",
    "print(num_in_purch_app_by_year)"
   ]
  },
  {
   "cell_type": "code",
   "execution_count": 67,
   "metadata": {},
   "outputs": [
    {
     "data": {
      "text/plain": [
       "<AxesSubplot:xlabel='ReleasedYear', ylabel='Percent'>"
      ]
     },
     "execution_count": 67,
     "metadata": {},
     "output_type": "execute_result"
    },
    {
     "data": {
      "image/png": "[encoded data removed]",
      "text/plain": [
       "<Figure size 432x288 with 1 Axes>"
      ]
     },
     "metadata": {
      "needs_background": "light"
     },
     "output_type": "display_data"
    }
   ],
   "source": [
    "ads_apps_by_percents = num_ads_app_by_year.groupby(level=0).apply(lambda x: 100 * x / float(x.sum()))\n",
    "ads_apps_by_percents = ads_apps_by_percents.loc[:, True]\n",
    "in_purch_apps_by_percents = num_in_purch_app_by_year.groupby(level=0).apply(lambda x: 100 * x / float(x.sum()))\n",
    "in_purch_apps_by_percents = in_purch_apps_by_percents.loc[:, True]\n",
    "\n",
    "ads_apps_by_percents.name = 'Ads app'\n",
    "in_purch_apps_by_percents.name = 'In purchase app'\n",
    "plt.subplot()\n",
    "ax = plt.gca()\n",
    "ax.set_ylabel('Percent')\n",
    "ax.set_ylim(0, 100)\n",
    "\n",
    "ads_apps_by_percents.plot(marker='o', legend='Ads app')\n",
    "in_purch_apps_by_percents.plot(marker='^', legend='In purchase app')"
   ]
  },
  {
   "cell_type": "markdown",
   "metadata": {},
   "source": [
    "Trái ngược với dự đoán ban đầu, tỉ lệ số app có chạy quảng cáo không thay đổi gì nhiều qua các năm. Trong khi đó số app có thực hiện giao dịch trong app lại còn có xu hướng giảm nữa. Vậy nhận định đã đưa ra ở trên là sai."
   ]
  },
  {
   "cell_type": "markdown",
   "metadata": {},
   "source": [
    "## Nhìn lại quá trình làm đồ án"
   ]
  },
  {
   "cell_type": "markdown",
   "metadata": {},
   "source": [
    "### Thành viên: Nguyễn Đình Hoàng Phúc"
   ]
  },
  {
   "cell_type": "markdown",
   "metadata": {},
   "source": [
    "### Thành viên: Lê Đặng Thiên Phúc"
   ]
  },
  {
   "cell_type": "markdown",
   "metadata": {},
   "source": [
    "## Tài liệu tham khảo"
   ]
  }
 ],
 "metadata": {
  "kernelspec": {
   "display_name": "Python 3",
   "language": "python",
   "name": "python3"
  },
  "language_info": {
   "codemirror_mode": {
    "name": "ipython",
    "version": 3
   },
   "file_extension": ".py",
   "mimetype": "text/x-python",
   "name": "python",
   "nbconvert_exporter": "python",
   "pygments_lexer": "ipython3",
   "version": "3.8.5"
  },
  "toc": {
   "base_numbering": 1,
   "nav_menu": {},
   "number_sections": true,
   "sideBar": true,
   "skip_h1_title": false,
   "title_cell": "Table of Contents",
   "title_sidebar": "Contents",
   "toc_cell": false,
   "toc_position": {
    "height": "calc(100% - 180px)",
    "left": "10px",
    "top": "150px",
    "width": "372px"
   },
   "toc_section_display": true,
   "toc_window_display": true
  }
 },
 "nbformat": 4,
 "nbformat_minor": 4
}
