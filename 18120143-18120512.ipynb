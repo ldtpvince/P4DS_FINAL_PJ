{
 "cells": [
  {
   "cell_type": "markdown",
   "metadata": {},
   "source": [
    "# Đồ án cuối kỳ"
   ]
  },
  {
   "cell_type": "markdown",
   "metadata": {},
   "source": [
    "**Các thành viên:**\n",
    "1. MSSV: 18120143 - Họ tên: Nguyễn Đình Hoàng Phúc\n",
    "2. MSSV: 18120512 - Họ tên: Lê Đặng Thiên Phúc"
   ]
  },
  {
   "cell_type": "markdown",
   "metadata": {},
   "source": [
    "---"
   ]
  },
  {
   "cell_type": "markdown",
   "metadata": {},
   "source": [
    "## Import thư viện"
   ]
  },
  {
   "cell_type": "code",
   "execution_count": 3,
   "metadata": {},
   "outputs": [],
   "source": [
    "import pandas as pd\n",
    "import matplotlib.pyplot as plt\n",
    "import numpy as np"
   ]
  },
  {
   "cell_type": "markdown",
   "metadata": {
    "heading_collapsed": true
   },
   "source": [
    "## Thu thập dữ liệu"
   ]
  },
  {
   "cell_type": "markdown",
   "metadata": {},
   "source": [
    "Dữ liệu của nhóm thuộc chủ đề Google Play Store Apps, dữ liệu crawl thông tin cơ bản của các ứng dụng trên Google Play. Bộ dữ liệu này được lấy từ Kaggle."
   ]
  },
  {
   "cell_type": "markdown",
   "metadata": {},
   "source": [
    "Dữ liệu được thu nhập bằng cách sử dụng tool Scrapy chạy trên cloud vm."
   ]
  },
  {
   "cell_type": "code",
   "execution_count": 4,
   "metadata": {},
   "outputs": [],
   "source": [
    "df = pd.read_csv('Google-Playstore.csv')"
   ]
  },
  {
   "cell_type": "code",
   "execution_count": 56,
   "metadata": {},
   "outputs": [
    {
     "data": {
      "text/html": [
       "<div>\n",
       "<style scoped>\n",
       "    .dataframe tbody tr th:only-of-type {\n",
       "        vertical-align: middle;\n",
       "    }\n",
       "\n",
       "    .dataframe tbody tr th {\n",
       "        vertical-align: top;\n",
       "    }\n",
       "\n",
       "    .dataframe thead th {\n",
       "        text-align: right;\n",
       "    }\n",
       "</style>\n",
       "<table border=\"1\" class=\"dataframe\">\n",
       "  <thead>\n",
       "    <tr style=\"text-align: right;\">\n",
       "      <th></th>\n",
       "      <th>App Name</th>\n",
       "      <th>App Id</th>\n",
       "      <th>Category</th>\n",
       "      <th>Rating</th>\n",
       "      <th>Rating Count</th>\n",
       "      <th>Installs</th>\n",
       "      <th>Minimum Installs</th>\n",
       "      <th>Maximum Installs</th>\n",
       "      <th>Free</th>\n",
       "      <th>Price</th>\n",
       "      <th>Currency</th>\n",
       "      <th>Size</th>\n",
       "      <th>Minimum Android</th>\n",
       "      <th>Developer Id</th>\n",
       "      <th>Developer Website</th>\n",
       "      <th>Developer Email</th>\n",
       "      <th>Released</th>\n",
       "      <th>Last Updated</th>\n",
       "      <th>Content Rating</th>\n",
       "      <th>Privacy Policy</th>\n",
       "      <th>Ad Supported</th>\n",
       "      <th>In App Purchases</th>\n",
       "      <th>Editors Choice</th>\n",
       "      <th>Scraped Time</th>\n",
       "    </tr>\n",
       "  </thead>\n",
       "  <tbody>\n",
       "    <tr>\n",
       "      <th>0</th>\n",
       "      <td>Gakondo</td>\n",
       "      <td>com.ishakwe.gakondo</td>\n",
       "      <td>Adventure</td>\n",
       "      <td>0.0</td>\n",
       "      <td>0.0</td>\n",
       "      <td>10+</td>\n",
       "      <td>10.0</td>\n",
       "      <td>15</td>\n",
       "      <td>True</td>\n",
       "      <td>0.0</td>\n",
       "      <td>USD</td>\n",
       "      <td>10M</td>\n",
       "      <td>7.1 and up</td>\n",
       "      <td>Jean Confident Irénée NIYIZIBYOSE</td>\n",
       "      <td>https://beniyizibyose.tk/#/</td>\n",
       "      <td>jean21101999@gmail.com</td>\n",
       "      <td>Feb 26, 2020</td>\n",
       "      <td>Feb 26, 2020</td>\n",
       "      <td>Everyone</td>\n",
       "      <td>https://beniyizibyose.tk/projects/</td>\n",
       "      <td>False</td>\n",
       "      <td>False</td>\n",
       "      <td>False</td>\n",
       "      <td>2021-06-15 20:19:35</td>\n",
       "    </tr>\n",
       "    <tr>\n",
       "      <th>1</th>\n",
       "      <td>Ampere Battery Info</td>\n",
       "      <td>com.webserveis.batteryinfo</td>\n",
       "      <td>Tools</td>\n",
       "      <td>4.4</td>\n",
       "      <td>64.0</td>\n",
       "      <td>5,000+</td>\n",
       "      <td>5000.0</td>\n",
       "      <td>7662</td>\n",
       "      <td>True</td>\n",
       "      <td>0.0</td>\n",
       "      <td>USD</td>\n",
       "      <td>2.9M</td>\n",
       "      <td>5.0 and up</td>\n",
       "      <td>Webserveis</td>\n",
       "      <td>https://webserveis.netlify.app/</td>\n",
       "      <td>webserveis@gmail.com</td>\n",
       "      <td>May 21, 2020</td>\n",
       "      <td>May 06, 2021</td>\n",
       "      <td>Everyone</td>\n",
       "      <td>https://dev4phones.wordpress.com/licencia-de-uso/</td>\n",
       "      <td>True</td>\n",
       "      <td>False</td>\n",
       "      <td>False</td>\n",
       "      <td>2021-06-15 20:19:35</td>\n",
       "    </tr>\n",
       "    <tr>\n",
       "      <th>2</th>\n",
       "      <td>Vibook</td>\n",
       "      <td>com.doantiepvien.crm</td>\n",
       "      <td>Productivity</td>\n",
       "      <td>0.0</td>\n",
       "      <td>0.0</td>\n",
       "      <td>50+</td>\n",
       "      <td>50.0</td>\n",
       "      <td>58</td>\n",
       "      <td>True</td>\n",
       "      <td>0.0</td>\n",
       "      <td>USD</td>\n",
       "      <td>3.7M</td>\n",
       "      <td>4.0.3 and up</td>\n",
       "      <td>Cabin Crew</td>\n",
       "      <td>NaN</td>\n",
       "      <td>vnacrewit@gmail.com</td>\n",
       "      <td>Aug 9, 2019</td>\n",
       "      <td>Aug 19, 2019</td>\n",
       "      <td>Everyone</td>\n",
       "      <td>https://www.vietnamairlines.com/vn/en/terms-an...</td>\n",
       "      <td>False</td>\n",
       "      <td>False</td>\n",
       "      <td>False</td>\n",
       "      <td>2021-06-15 20:19:35</td>\n",
       "    </tr>\n",
       "    <tr>\n",
       "      <th>3</th>\n",
       "      <td>Smart City Trichy Public Service Vehicles 17UC...</td>\n",
       "      <td>cst.stJoseph.ug17ucs548</td>\n",
       "      <td>Communication</td>\n",
       "      <td>5.0</td>\n",
       "      <td>5.0</td>\n",
       "      <td>10+</td>\n",
       "      <td>10.0</td>\n",
       "      <td>19</td>\n",
       "      <td>True</td>\n",
       "      <td>0.0</td>\n",
       "      <td>USD</td>\n",
       "      <td>1.8M</td>\n",
       "      <td>4.0.3 and up</td>\n",
       "      <td>Climate Smart Tech2</td>\n",
       "      <td>http://www.climatesmarttech.com/</td>\n",
       "      <td>climatesmarttech2@gmail.com</td>\n",
       "      <td>Sep 10, 2018</td>\n",
       "      <td>Oct 13, 2018</td>\n",
       "      <td>Everyone</td>\n",
       "      <td>NaN</td>\n",
       "      <td>True</td>\n",
       "      <td>False</td>\n",
       "      <td>False</td>\n",
       "      <td>2021-06-15 20:19:35</td>\n",
       "    </tr>\n",
       "    <tr>\n",
       "      <th>4</th>\n",
       "      <td>GROW.me</td>\n",
       "      <td>com.horodyski.grower</td>\n",
       "      <td>Tools</td>\n",
       "      <td>0.0</td>\n",
       "      <td>0.0</td>\n",
       "      <td>100+</td>\n",
       "      <td>100.0</td>\n",
       "      <td>478</td>\n",
       "      <td>True</td>\n",
       "      <td>0.0</td>\n",
       "      <td>USD</td>\n",
       "      <td>6.2M</td>\n",
       "      <td>4.1 and up</td>\n",
       "      <td>Rafal Milek-Horodyski</td>\n",
       "      <td>http://www.horodyski.com.pl</td>\n",
       "      <td>rmilekhorodyski@gmail.com</td>\n",
       "      <td>Feb 21, 2020</td>\n",
       "      <td>Nov 12, 2018</td>\n",
       "      <td>Everyone</td>\n",
       "      <td>http://www.horodyski.com.pl</td>\n",
       "      <td>False</td>\n",
       "      <td>False</td>\n",
       "      <td>False</td>\n",
       "      <td>2021-06-15 20:19:35</td>\n",
       "    </tr>\n",
       "  </tbody>\n",
       "</table>\n",
       "</div>"
      ],
      "text/plain": [
       "                                            App Name  \\\n",
       "0                                            Gakondo   \n",
       "1                                Ampere Battery Info   \n",
       "2                                             Vibook   \n",
       "3  Smart City Trichy Public Service Vehicles 17UC...   \n",
       "4                                            GROW.me   \n",
       "\n",
       "                       App Id       Category  Rating  Rating Count Installs  \\\n",
       "0         com.ishakwe.gakondo      Adventure     0.0           0.0      10+   \n",
       "1  com.webserveis.batteryinfo          Tools     4.4          64.0   5,000+   \n",
       "2        com.doantiepvien.crm   Productivity     0.0           0.0      50+   \n",
       "3     cst.stJoseph.ug17ucs548  Communication     5.0           5.0      10+   \n",
       "4        com.horodyski.grower          Tools     0.0           0.0     100+   \n",
       "\n",
       "   Minimum Installs  Maximum Installs  Free  Price Currency  Size  \\\n",
       "0              10.0                15  True    0.0      USD   10M   \n",
       "1            5000.0              7662  True    0.0      USD  2.9M   \n",
       "2              50.0                58  True    0.0      USD  3.7M   \n",
       "3              10.0                19  True    0.0      USD  1.8M   \n",
       "4             100.0               478  True    0.0      USD  6.2M   \n",
       "\n",
       "  Minimum Android                       Developer Id  \\\n",
       "0      7.1 and up  Jean Confident Irénée NIYIZIBYOSE   \n",
       "1      5.0 and up                         Webserveis   \n",
       "2    4.0.3 and up                         Cabin Crew   \n",
       "3    4.0.3 and up                Climate Smart Tech2   \n",
       "4      4.1 and up              Rafal Milek-Horodyski   \n",
       "\n",
       "                  Developer Website              Developer Email  \\\n",
       "0       https://beniyizibyose.tk/#/       jean21101999@gmail.com   \n",
       "1   https://webserveis.netlify.app/         webserveis@gmail.com   \n",
       "2                               NaN          vnacrewit@gmail.com   \n",
       "3  http://www.climatesmarttech.com/  climatesmarttech2@gmail.com   \n",
       "4       http://www.horodyski.com.pl    rmilekhorodyski@gmail.com   \n",
       "\n",
       "       Released  Last Updated Content Rating  \\\n",
       "0  Feb 26, 2020  Feb 26, 2020       Everyone   \n",
       "1  May 21, 2020  May 06, 2021       Everyone   \n",
       "2   Aug 9, 2019  Aug 19, 2019       Everyone   \n",
       "3  Sep 10, 2018  Oct 13, 2018       Everyone   \n",
       "4  Feb 21, 2020  Nov 12, 2018       Everyone   \n",
       "\n",
       "                                      Privacy Policy  Ad Supported  \\\n",
       "0                 https://beniyizibyose.tk/projects/         False   \n",
       "1  https://dev4phones.wordpress.com/licencia-de-uso/          True   \n",
       "2  https://www.vietnamairlines.com/vn/en/terms-an...         False   \n",
       "3                                                NaN          True   \n",
       "4                        http://www.horodyski.com.pl         False   \n",
       "\n",
       "   In App Purchases  Editors Choice         Scraped Time  \n",
       "0             False           False  2021-06-15 20:19:35  \n",
       "1             False           False  2021-06-15 20:19:35  \n",
       "2             False           False  2021-06-15 20:19:35  \n",
       "3             False           False  2021-06-15 20:19:35  \n",
       "4             False           False  2021-06-15 20:19:35  "
      ]
     },
     "execution_count": 56,
     "metadata": {},
     "output_type": "execute_result"
    }
   ],
   "source": [
    "pd.set_option('display.max_columns', None)\n",
    "df.head()"
   ]
  },
  {
   "cell_type": "markdown",
   "metadata": {},
   "source": [
    "## Khám phá dữ liệu"
   ]
  },
  {
   "cell_type": "markdown",
   "metadata": {},
   "source": [
    "Số dòng và cột của dữ liệu:"
   ]
  },
  {
   "cell_type": "code",
   "execution_count": 5,
   "metadata": {},
   "outputs": [
    {
     "name": "stdout",
     "output_type": "stream",
     "text": [
      "24 2312944\n"
     ]
    }
   ],
   "source": [
    "num_cols = len(df.columns)\n",
    "num_rows = len(df)\n",
    "print(num_cols, num_rows)"
   ]
  },
  {
   "cell_type": "markdown",
   "metadata": {},
   "source": [
    "Số dòng dữ liệu bị lặp là"
   ]
  },
  {
   "cell_type": "code",
   "execution_count": 12,
   "metadata": {},
   "outputs": [
    {
     "name": "stdout",
     "output_type": "stream",
     "text": [
      "0\n"
     ]
    }
   ],
   "source": [
    "duplicated_rows = df.duplicated(keep=False)\n",
    "num_duplicated_rows = duplicated_rows.sum()\n",
    "print(num_duplicated_rows)"
   ]
  },
  {
   "cell_type": "code",
   "execution_count": 15,
   "metadata": {},
   "outputs": [
    {
     "name": "stdout",
     "output_type": "stream",
     "text": [
      "App Name              object\n",
      "App Id                object\n",
      "Category              object\n",
      "Rating               float64\n",
      "Rating Count         float64\n",
      "Installs              object\n",
      "Minimum Installs     float64\n",
      "Maximum Installs       int64\n",
      "Free                    bool\n",
      "Price                float64\n",
      "Currency              object\n",
      "Size                  object\n",
      "Minimum Android       object\n",
      "Developer Id          object\n",
      "Developer Website     object\n",
      "Developer Email       object\n",
      "Released              object\n",
      "Last Updated          object\n",
      "Content Rating        object\n",
      "Privacy Policy        object\n",
      "Ad Supported            bool\n",
      "In App Purchases        bool\n",
      "Editors Choice          bool\n",
      "Scraped Time          object\n",
      "dtype: object\n"
     ]
    }
   ],
   "source": [
    "print(df.dtypes)"
   ]
  },
  {
   "cell_type": "markdown",
   "metadata": {},
   "source": [
    "Các trường có kiểu dữ liệu chưa phù hợp là: Installs, Minimum Installs, Size, Minimum Android, Released, Last Updated, Scraped Time"
   ]
  },
  {
   "cell_type": "code",
   "execution_count": 16,
   "metadata": {},
   "outputs": [],
   "source": [
    "df['Installs'] = pd.to_numeric(df['Installs'].str.replace(r'\\D+', '', regex=True), errors='coerce')"
   ]
  },
  {
   "cell_type": "code",
   "execution_count": 6,
   "metadata": {},
   "outputs": [],
   "source": [
    "df['Size'] = pd.to_numeric(df['Size'].str[:-1], errors='coerce')"
   ]
  },
  {
   "cell_type": "code",
   "execution_count": 7,
   "metadata": {},
   "outputs": [],
   "source": [
    "df['Minimum Android'] = df['Minimum Android'].str.replace(r' and up$', '', regex=True)"
   ]
  },
  {
   "cell_type": "code",
   "execution_count": 8,
   "metadata": {},
   "outputs": [],
   "source": [
    "df['Released'] = pd.to_datetime(df['Released'], format='%b %d, %Y', errors='coerce')"
   ]
  },
  {
   "cell_type": "code",
   "execution_count": 9,
   "metadata": {},
   "outputs": [],
   "source": [
    "df['Last Updated'] = pd.to_datetime(df['Last Updated'], format='%b %d, %Y', errors='coerce')"
   ]
  },
  {
   "cell_type": "code",
   "execution_count": 10,
   "metadata": {},
   "outputs": [],
   "source": [
    "df['Scraped Time'] = pd.to_datetime(df['Scraped Time'], format='%Y-%m-%d %H:%M:%S', errors='coerce')"
   ]
  },
  {
   "cell_type": "code",
   "execution_count": 11,
   "metadata": {},
   "outputs": [],
   "source": [
    "df['Minimum Installs'] = df['Minimum Installs'].astype('Int64')"
   ]
  },
  {
   "cell_type": "markdown",
   "metadata": {},
   "source": [
    "Các trường có kiểu dữ liệu là numeric là:"
   ]
  },
  {
   "cell_type": "code",
   "execution_count": 17,
   "metadata": {},
   "outputs": [
    {
     "data": {
      "text/plain": [
       "['Rating',\n",
       " 'Rating Count',\n",
       " 'Installs',\n",
       " 'Minimum Installs',\n",
       " 'Maximum Installs',\n",
       " 'Price',\n",
       " 'Size']"
      ]
     },
     "execution_count": 17,
     "metadata": {},
     "output_type": "execute_result"
    }
   ],
   "source": [
    "numeric_columns = list(df.select_dtypes('number'))\n",
    "numeric_columns"
   ]
  },
  {
   "cell_type": "markdown",
   "metadata": {},
   "source": [
    "Số lượng các giá trị thiếu của từng numeric_columns là:"
   ]
  },
  {
   "cell_type": "code",
   "execution_count": 18,
   "metadata": {},
   "outputs": [
    {
     "name": "stdout",
     "output_type": "stream",
     "text": [
      "{'Rating': 22883, 'Rating Count': 22883, 'Installs': 107, 'Minimum Installs': 107, 'Maximum Installs': 0, 'Price': 0, 'Size': 75961}\n",
      "{'Rating': 0.0098934518086041, 'Rating Count': 0.0098934518086041, 'Installs': 4.626138808375819e-05, 'Minimum Installs': 4.626138808375819e-05, 'Maximum Installs': 0.0, 'Price': 0.0, 'Size': 0.03284169439467622}\n"
     ]
    }
   ],
   "source": [
    "numeric_missing_values = {}\n",
    "ratio_numeric_missing_values = {}\n",
    "\n",
    "for col in numeric_columns:\n",
    "    numeric_missing_values[col] = sum(df[col].isnull())\n",
    "    ratio_numeric_missing_values[col] = numeric_missing_values[col] / num_rows\n",
    "\n",
    "print(numeric_missing_values)\n",
    "print(ratio_numeric_missing_values)"
   ]
  },
  {
   "cell_type": "code",
   "execution_count": 19,
   "metadata": {},
   "outputs": [
    {
     "name": "stdout",
     "output_type": "stream",
     "text": [
      "{'Rating': 0.0, 'Rating Count': 0.0, 'Installs': 0.0, 'Minimum Installs': 0, 'Maximum Installs': 0, 'Price': 0.0, 'Size': 1.0}\n",
      "{'Rating': 5.0, 'Rating Count': 138557570.0, 'Installs': 10000000000.0, 'Minimum Installs': 10000000000, 'Maximum Installs': 12057627016, 'Price': 400.0, 'Size': 999.0}\n"
     ]
    }
   ],
   "source": [
    "min_numeric_values = {}\n",
    "max_numeric_values = {}\n",
    "\n",
    "for col in numeric_columns:\n",
    "    min_numeric_values[col] = df[col].min()\n",
    "    max_numeric_values[col] = df[col].max()\n",
    "    \n",
    "print(min_numeric_values)\n",
    "print(max_numeric_values)"
   ]
  },
  {
   "cell_type": "markdown",
   "metadata": {},
   "source": [
    "Các trường có kiểu dữ liệu category là:"
   ]
  },
  {
   "cell_type": "code",
   "execution_count": 25,
   "metadata": {},
   "outputs": [
    {
     "data": {
      "text/plain": [
       "['Developer Email',\n",
       " 'Editors Choice',\n",
       " 'Category',\n",
       " 'Developer Id',\n",
       " 'In App Purchases',\n",
       " 'App Id',\n",
       " 'Developer Website',\n",
       " 'Minimum Android',\n",
       " 'Ad Supported',\n",
       " 'Currency',\n",
       " 'Privacy Policy',\n",
       " 'Content Rating',\n",
       " 'Free']"
      ]
     },
     "execution_count": 25,
     "metadata": {},
     "output_type": "execute_result"
    }
   ],
   "source": [
    "category_columns = list(set(df.columns) - set(numeric_columns) - set(df.select_dtypes('datetime')) - set(['App Name']))\n",
    "category_columns"
   ]
  },
  {
   "cell_type": "code",
   "execution_count": 29,
   "metadata": {},
   "outputs": [
    {
     "name": "stdout",
     "output_type": "stream",
     "text": [
      "{'Developer Email': 31, 'Editors Choice': 0, 'Category': 0, 'Developer Id': 33, 'In App Purchases': 0, 'App Id': 0, 'Developer Website': 760835, 'Minimum Android': 6530, 'Ad Supported': 0, 'Currency': 135, 'Privacy Policy': 420953, 'Content Rating': 0, 'Free': 0}\n",
      "{'Developer Email': 1.340283206164957e-05, 'Editors Choice': 0.0, 'Category': 0.0, 'Developer Id': 1.4267530904336638e-05, 'In App Purchases': 0.0, 'App Id': 0.0, 'Developer Website': 0.32894657198790805, 'Minimum Android': 0.0028232417213732803, 'Ad Supported': 0.0, 'Currency': 5.836717188137715e-05, 'Privacy Policy': 0.18199878596282487, 'Content Rating': 0.0, 'Free': 0.0}\n"
     ]
    }
   ],
   "source": [
    "category_missing_values = {}\n",
    "ratio_category_missing_values = {}\n",
    "\n",
    "for col in category_columns:\n",
    "    category_missing_values[col] = sum(df[col].isnull())\n",
    "    ratio_category_missing_values[col] = category_missing_values[col] / num_rows\n",
    "\n",
    "print(category_missing_values)\n",
    "print(ratio_category_missing_values)"
   ]
  },
  {
   "cell_type": "markdown",
   "metadata": {},
   "source": [
    "Số lượng các giá trị khác nhau của các trường category là:"
   ]
  },
  {
   "cell_type": "code",
   "execution_count": 33,
   "metadata": {},
   "outputs": [
    {
     "name": "stdout",
     "output_type": "stream",
     "text": [
      "{'Developer Email': 950456, 'Editors Choice': 2, 'Category': 48, 'Developer Id': 758371, 'In App Purchases': 2, 'App Id': 2312944, 'Developer Website': 810440, 'Minimum Android': 147, 'Ad Supported': 2, 'Currency': 15, 'Privacy Policy': 977743, 'Content Rating': 6, 'Free': 2}\n"
     ]
    }
   ],
   "source": [
    "distinct_category_values = {}\n",
    "\n",
    "for col in category_columns:\n",
    "    distinct_category_values[col] = df[col].nunique()\n",
    "\n",
    "print(distinct_category_values)"
   ]
  },
  {
   "cell_type": "code",
   "execution_count": 34,
   "metadata": {},
   "outputs": [
    {
     "data": {
      "text/html": [
       "<div>\n",
       "<style scoped>\n",
       "    .dataframe tbody tr th:only-of-type {\n",
       "        vertical-align: middle;\n",
       "    }\n",
       "\n",
       "    .dataframe tbody tr th {\n",
       "        vertical-align: top;\n",
       "    }\n",
       "\n",
       "    .dataframe thead th {\n",
       "        text-align: right;\n",
       "    }\n",
       "</style>\n",
       "<table border=\"1\" class=\"dataframe\">\n",
       "  <thead>\n",
       "    <tr style=\"text-align: right;\">\n",
       "      <th></th>\n",
       "      <th>Developer Email</th>\n",
       "      <th>Editors Choice</th>\n",
       "      <th>Category</th>\n",
       "      <th>Developer Id</th>\n",
       "      <th>In App Purchases</th>\n",
       "      <th>App Id</th>\n",
       "      <th>Developer Website</th>\n",
       "      <th>Minimum Android</th>\n",
       "      <th>Ad Supported</th>\n",
       "      <th>Currency</th>\n",
       "      <th>Privacy Policy</th>\n",
       "      <th>Content Rating</th>\n",
       "      <th>Free</th>\n",
       "    </tr>\n",
       "  </thead>\n",
       "  <tbody>\n",
       "    <tr>\n",
       "      <th>924264</th>\n",
       "      <td>support@maentrus.com</td>\n",
       "      <td>False</td>\n",
       "      <td>Casual</td>\n",
       "      <td>PT. MAENTRUS Digital Lab</td>\n",
       "      <td>True</td>\n",
       "      <td>com.mt.p2b</td>\n",
       "      <td>https://www.maentrus.co.id</td>\n",
       "      <td>4.4</td>\n",
       "      <td>True</td>\n",
       "      <td>USD</td>\n",
       "      <td>https://www.iubenda.com/privacy-policy/52886600</td>\n",
       "      <td>Everyone</td>\n",
       "      <td>True</td>\n",
       "    </tr>\n",
       "    <tr>\n",
       "      <th>2305767</th>\n",
       "      <td>radioclassichitssjrp@gmail.com</td>\n",
       "      <td>False</td>\n",
       "      <td>Music &amp; Audio</td>\n",
       "      <td>Vivam Hosting</td>\n",
       "      <td>False</td>\n",
       "      <td>com.uc.radioclassichits</td>\n",
       "      <td>http://www.radioclassichits.noar.net.br/</td>\n",
       "      <td>4.1</td>\n",
       "      <td>False</td>\n",
       "      <td>USD</td>\n",
       "      <td>https://vivamhosting.com.br/politicas-apps.html</td>\n",
       "      <td>Everyone</td>\n",
       "      <td>True</td>\n",
       "    </tr>\n",
       "    <tr>\n",
       "      <th>386853</th>\n",
       "      <td>info@mark-shark.com</td>\n",
       "      <td>False</td>\n",
       "      <td>Shopping</td>\n",
       "      <td>F.A.A</td>\n",
       "      <td>False</td>\n",
       "      <td>com.mark.shark</td>\n",
       "      <td>https://www.mark-shark.com</td>\n",
       "      <td>4.2</td>\n",
       "      <td>False</td>\n",
       "      <td>USD</td>\n",
       "      <td>https://www.mark-shark.com</td>\n",
       "      <td>Everyone</td>\n",
       "      <td>True</td>\n",
       "    </tr>\n",
       "    <tr>\n",
       "      <th>2002810</th>\n",
       "      <td>fabs@clayfortress.com</td>\n",
       "      <td>False</td>\n",
       "      <td>Puzzle</td>\n",
       "      <td>DEV77</td>\n",
       "      <td>False</td>\n",
       "      <td>com.dev77.downlight</td>\n",
       "      <td>http://clayfortress.com</td>\n",
       "      <td>4.0.3</td>\n",
       "      <td>False</td>\n",
       "      <td>USD</td>\n",
       "      <td>http://privacy.dev77.com/downlight.html</td>\n",
       "      <td>Everyone</td>\n",
       "      <td>True</td>\n",
       "    </tr>\n",
       "    <tr>\n",
       "      <th>1482834</th>\n",
       "      <td>hoangtuan211@gmail.com</td>\n",
       "      <td>False</td>\n",
       "      <td>Education</td>\n",
       "      <td>Hoang Tuan</td>\n",
       "      <td>True</td>\n",
       "      <td>com.freakingjapanese</td>\n",
       "      <td>NaN</td>\n",
       "      <td>4.4</td>\n",
       "      <td>True</td>\n",
       "      <td>USD</td>\n",
       "      <td>NaN</td>\n",
       "      <td>Everyone</td>\n",
       "      <td>True</td>\n",
       "    </tr>\n",
       "    <tr>\n",
       "      <th>770415</th>\n",
       "      <td>oufufengs@yeah.net</td>\n",
       "      <td>False</td>\n",
       "      <td>Personalization</td>\n",
       "      <td>zhOngTIan</td>\n",
       "      <td>False</td>\n",
       "      <td>onlystar.lednapps</td>\n",
       "      <td>NaN</td>\n",
       "      <td>2.3</td>\n",
       "      <td>True</td>\n",
       "      <td>USD</td>\n",
       "      <td>NaN</td>\n",
       "      <td>Everyone</td>\n",
       "      <td>True</td>\n",
       "    </tr>\n",
       "    <tr>\n",
       "      <th>828844</th>\n",
       "      <td>info@quistor.com</td>\n",
       "      <td>False</td>\n",
       "      <td>Business</td>\n",
       "      <td>Quistor</td>\n",
       "      <td>False</td>\n",
       "      <td>com.quistor.watchlist</td>\n",
       "      <td>http://www.quistor.com</td>\n",
       "      <td>6.0</td>\n",
       "      <td>False</td>\n",
       "      <td>USD</td>\n",
       "      <td>https://www.quistor.com/privacy/</td>\n",
       "      <td>Everyone</td>\n",
       "      <td>True</td>\n",
       "    </tr>\n",
       "  </tbody>\n",
       "</table>\n",
       "</div>"
      ],
      "text/plain": [
       "                        Developer Email  Editors Choice         Category  \\\n",
       "924264             support@maentrus.com           False           Casual   \n",
       "2305767  radioclassichitssjrp@gmail.com           False    Music & Audio   \n",
       "386853              info@mark-shark.com           False         Shopping   \n",
       "2002810           fabs@clayfortress.com           False           Puzzle   \n",
       "1482834          hoangtuan211@gmail.com           False        Education   \n",
       "770415               oufufengs@yeah.net           False  Personalization   \n",
       "828844                 info@quistor.com           False         Business   \n",
       "\n",
       "                     Developer Id  In App Purchases                   App Id  \\\n",
       "924264   PT. MAENTRUS Digital Lab              True               com.mt.p2b   \n",
       "2305767             Vivam Hosting             False  com.uc.radioclassichits   \n",
       "386853                      F.A.A             False           com.mark.shark   \n",
       "2002810                     DEV77             False      com.dev77.downlight   \n",
       "1482834                Hoang Tuan              True     com.freakingjapanese   \n",
       "770415                  zhOngTIan             False        onlystar.lednapps   \n",
       "828844                    Quistor             False    com.quistor.watchlist   \n",
       "\n",
       "                                Developer Website Minimum Android  \\\n",
       "924264                 https://www.maentrus.co.id             4.4   \n",
       "2305767  http://www.radioclassichits.noar.net.br/             4.1   \n",
       "386853                 https://www.mark-shark.com             4.2   \n",
       "2002810                   http://clayfortress.com           4.0.3   \n",
       "1482834                                       NaN             4.4   \n",
       "770415                                        NaN             2.3   \n",
       "828844                     http://www.quistor.com             6.0   \n",
       "\n",
       "         Ad Supported Currency  \\\n",
       "924264           True      USD   \n",
       "2305767         False      USD   \n",
       "386853          False      USD   \n",
       "2002810         False      USD   \n",
       "1482834          True      USD   \n",
       "770415           True      USD   \n",
       "828844          False      USD   \n",
       "\n",
       "                                          Privacy Policy Content Rating  Free  \n",
       "924264   https://www.iubenda.com/privacy-policy/52886600       Everyone  True  \n",
       "2305767  https://vivamhosting.com.br/politicas-apps.html       Everyone  True  \n",
       "386853                        https://www.mark-shark.com       Everyone  True  \n",
       "2002810          http://privacy.dev77.com/downlight.html       Everyone  True  \n",
       "1482834                                              NaN       Everyone  True  \n",
       "770415                                               NaN       Everyone  True  \n",
       "828844                  https://www.quistor.com/privacy/       Everyone  True  "
      ]
     },
     "execution_count": 34,
     "metadata": {},
     "output_type": "execute_result"
    }
   ],
   "source": [
    "df[category_columns].sample(n=7)"
   ]
  },
  {
   "cell_type": "markdown",
   "metadata": {},
   "source": [
    "## Tiền xử lý"
   ]
  },
  {
   "cell_type": "markdown",
   "metadata": {},
   "source": [
    "## Đưa ra các câu hỏi có ý nghĩa cần trả lời"
   ]
  },
  {
   "cell_type": "markdown",
   "metadata": {},
   "source": [
    "App có category nào sẽ có lượt tải xuống cao nhất (xét trên columns Install)?"
   ]
  },
  {
   "cell_type": "markdown",
   "metadata": {},
   "source": [
    "Developer nào có tổng số lượt tải các app cao nhất?"
   ]
  },
  {
   "cell_type": "markdown",
   "metadata": {},
   "source": [
    "## Phân tích dữ liệu để trả lời các câu hỏi trên"
   ]
  },
  {
   "cell_type": "markdown",
   "metadata": {},
   "source": [
    "## Nhìn lại quá trình làm đồ án"
   ]
  },
  {
   "cell_type": "markdown",
   "metadata": {},
   "source": [
    "### Thành viên: Nguyễn Đình Hoàng Phúc"
   ]
  },
  {
   "cell_type": "markdown",
   "metadata": {},
   "source": [
    "### Thành viên: Lê Đặng Thiên Phúc"
   ]
  },
  {
   "cell_type": "markdown",
   "metadata": {},
   "source": [
    "## Tài liệu tham khảo"
   ]
  }
 ],
 "metadata": {
  "kernelspec": {
   "display_name": "Python 3",
   "language": "python",
   "name": "python3"
  },
  "language_info": {
   "codemirror_mode": {
    "name": "ipython",
    "version": 3
   },
   "file_extension": ".py",
   "mimetype": "text/x-python",
   "name": "python",
   "nbconvert_exporter": "python",
   "pygments_lexer": "ipython3",
   "version": "3.8.5"
  },
  "toc": {
   "base_numbering": 1,
   "nav_menu": {},
   "number_sections": true,
   "sideBar": true,
   "skip_h1_title": false,
   "title_cell": "Table of Contents",
   "title_sidebar": "Contents",
   "toc_cell": false,
   "toc_position": {
    "height": "calc(100% - 180px)",
    "left": "10px",
    "top": "150px",
    "width": "372px"
   },
   "toc_section_display": true,
   "toc_window_display": true
  }
 },
 "nbformat": 4,
 "nbformat_minor": 4
}
