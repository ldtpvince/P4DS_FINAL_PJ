{
 "cells": [
  {
   "cell_type": "markdown",
   "metadata": {},
   "source": [
    "# Đồ án cuối kỳ"
   ]
  },
  {
   "cell_type": "markdown",
   "metadata": {},
   "source": [
    "**Các thành viên:**\n",
    "1. MSSV: 18120143 - Họ tên: Nguyễn Đình Hoàng Phúc\n",
    "2. MSSV: 18120512 - Họ tên: Lê Đặng Thiên Phúc"
   ]
  },
  {
   "cell_type": "markdown",
   "metadata": {},
   "source": [
    "---"
   ]
  },
  {
   "cell_type": "markdown",
   "metadata": {},
   "source": [
    "## Import thư viện"
   ]
  },
  {
   "cell_type": "code",
   "execution_count": 1,
   "metadata": {},
   "outputs": [],
   "source": [
    "import pandas as pd\n",
    "import matplotlib.pyplot as plt\n",
    "import numpy as np"
   ]
  },
  {
   "cell_type": "markdown",
   "metadata": {
    "heading_collapsed": true
   },
   "source": [
    "## Thu thập dữ liệu"
   ]
  },
  {
   "cell_type": "markdown",
   "metadata": {},
   "source": [
    "Dữ liệu của nhóm thuộc chủ đề Google Play Store Apps, dữ liệu crawl thông tin cơ bản của các ứng dụng trên Google Play. Bộ dữ liệu này được lấy từ Kaggle."
   ]
  },
  {
   "cell_type": "markdown",
   "metadata": {},
   "source": [
    "Dữ liệu được thu nhập bằng cách sử dụng tool Scrapy chạy trên cloud vm."
   ]
  },
  {
   "cell_type": "markdown",
   "metadata": {},
   "source": [
    "## Khám phá dữ liệu"
   ]
  },
  {
   "cell_type": "markdown",
   "metadata": {},
   "source": [
    "### Đọc dữ liệu từ file"
   ]
  },
  {
   "cell_type": "code",
   "execution_count": 2,
   "metadata": {},
   "outputs": [],
   "source": [
    "df = pd.read_csv('Google-Playstore.csv')"
   ]
  },
  {
   "cell_type": "code",
   "execution_count": 3,
   "metadata": {},
   "outputs": [
    {
     "data": {
      "text/html": [
       "<div>\n",
       "<style scoped>\n",
       "    .dataframe tbody tr th:only-of-type {\n",
       "        vertical-align: middle;\n",
       "    }\n",
       "\n",
       "    .dataframe tbody tr th {\n",
       "        vertical-align: top;\n",
       "    }\n",
       "\n",
       "    .dataframe thead th {\n",
       "        text-align: right;\n",
       "    }\n",
       "</style>\n",
       "<table border=\"1\" class=\"dataframe\">\n",
       "  <thead>\n",
       "    <tr style=\"text-align: right;\">\n",
       "      <th></th>\n",
       "      <th>App Name</th>\n",
       "      <th>App Id</th>\n",
       "      <th>Category</th>\n",
       "      <th>Rating</th>\n",
       "      <th>Rating Count</th>\n",
       "      <th>Installs</th>\n",
       "      <th>Minimum Installs</th>\n",
       "      <th>Maximum Installs</th>\n",
       "      <th>Free</th>\n",
       "      <th>Price</th>\n",
       "      <th>Currency</th>\n",
       "      <th>Size</th>\n",
       "      <th>Minimum Android</th>\n",
       "      <th>Developer Id</th>\n",
       "      <th>Developer Website</th>\n",
       "      <th>Developer Email</th>\n",
       "      <th>Released</th>\n",
       "      <th>Last Updated</th>\n",
       "      <th>Content Rating</th>\n",
       "      <th>Privacy Policy</th>\n",
       "      <th>Ad Supported</th>\n",
       "      <th>In App Purchases</th>\n",
       "      <th>Editors Choice</th>\n",
       "      <th>Scraped Time</th>\n",
       "    </tr>\n",
       "  </thead>\n",
       "  <tbody>\n",
       "    <tr>\n",
       "      <th>0</th>\n",
       "      <td>Gakondo</td>\n",
       "      <td>com.ishakwe.gakondo</td>\n",
       "      <td>Adventure</td>\n",
       "      <td>0.0</td>\n",
       "      <td>0.0</td>\n",
       "      <td>10+</td>\n",
       "      <td>10.0</td>\n",
       "      <td>15</td>\n",
       "      <td>True</td>\n",
       "      <td>0.0</td>\n",
       "      <td>USD</td>\n",
       "      <td>10M</td>\n",
       "      <td>7.1 and up</td>\n",
       "      <td>Jean Confident Irénée NIYIZIBYOSE</td>\n",
       "      <td>https://beniyizibyose.tk/#/</td>\n",
       "      <td>jean21101999@gmail.com</td>\n",
       "      <td>Feb 26, 2020</td>\n",
       "      <td>Feb 26, 2020</td>\n",
       "      <td>Everyone</td>\n",
       "      <td>https://beniyizibyose.tk/projects/</td>\n",
       "      <td>False</td>\n",
       "      <td>False</td>\n",
       "      <td>False</td>\n",
       "      <td>2021-06-15 20:19:35</td>\n",
       "    </tr>\n",
       "    <tr>\n",
       "      <th>1</th>\n",
       "      <td>Ampere Battery Info</td>\n",
       "      <td>com.webserveis.batteryinfo</td>\n",
       "      <td>Tools</td>\n",
       "      <td>4.4</td>\n",
       "      <td>64.0</td>\n",
       "      <td>5,000+</td>\n",
       "      <td>5000.0</td>\n",
       "      <td>7662</td>\n",
       "      <td>True</td>\n",
       "      <td>0.0</td>\n",
       "      <td>USD</td>\n",
       "      <td>2.9M</td>\n",
       "      <td>5.0 and up</td>\n",
       "      <td>Webserveis</td>\n",
       "      <td>https://webserveis.netlify.app/</td>\n",
       "      <td>webserveis@gmail.com</td>\n",
       "      <td>May 21, 2020</td>\n",
       "      <td>May 06, 2021</td>\n",
       "      <td>Everyone</td>\n",
       "      <td>https://dev4phones.wordpress.com/licencia-de-uso/</td>\n",
       "      <td>True</td>\n",
       "      <td>False</td>\n",
       "      <td>False</td>\n",
       "      <td>2021-06-15 20:19:35</td>\n",
       "    </tr>\n",
       "    <tr>\n",
       "      <th>2</th>\n",
       "      <td>Vibook</td>\n",
       "      <td>com.doantiepvien.crm</td>\n",
       "      <td>Productivity</td>\n",
       "      <td>0.0</td>\n",
       "      <td>0.0</td>\n",
       "      <td>50+</td>\n",
       "      <td>50.0</td>\n",
       "      <td>58</td>\n",
       "      <td>True</td>\n",
       "      <td>0.0</td>\n",
       "      <td>USD</td>\n",
       "      <td>3.7M</td>\n",
       "      <td>4.0.3 and up</td>\n",
       "      <td>Cabin Crew</td>\n",
       "      <td>NaN</td>\n",
       "      <td>vnacrewit@gmail.com</td>\n",
       "      <td>Aug 9, 2019</td>\n",
       "      <td>Aug 19, 2019</td>\n",
       "      <td>Everyone</td>\n",
       "      <td>https://www.vietnamairlines.com/vn/en/terms-an...</td>\n",
       "      <td>False</td>\n",
       "      <td>False</td>\n",
       "      <td>False</td>\n",
       "      <td>2021-06-15 20:19:35</td>\n",
       "    </tr>\n",
       "    <tr>\n",
       "      <th>3</th>\n",
       "      <td>Smart City Trichy Public Service Vehicles 17UC...</td>\n",
       "      <td>cst.stJoseph.ug17ucs548</td>\n",
       "      <td>Communication</td>\n",
       "      <td>5.0</td>\n",
       "      <td>5.0</td>\n",
       "      <td>10+</td>\n",
       "      <td>10.0</td>\n",
       "      <td>19</td>\n",
       "      <td>True</td>\n",
       "      <td>0.0</td>\n",
       "      <td>USD</td>\n",
       "      <td>1.8M</td>\n",
       "      <td>4.0.3 and up</td>\n",
       "      <td>Climate Smart Tech2</td>\n",
       "      <td>http://www.climatesmarttech.com/</td>\n",
       "      <td>climatesmarttech2@gmail.com</td>\n",
       "      <td>Sep 10, 2018</td>\n",
       "      <td>Oct 13, 2018</td>\n",
       "      <td>Everyone</td>\n",
       "      <td>NaN</td>\n",
       "      <td>True</td>\n",
       "      <td>False</td>\n",
       "      <td>False</td>\n",
       "      <td>2021-06-15 20:19:35</td>\n",
       "    </tr>\n",
       "    <tr>\n",
       "      <th>4</th>\n",
       "      <td>GROW.me</td>\n",
       "      <td>com.horodyski.grower</td>\n",
       "      <td>Tools</td>\n",
       "      <td>0.0</td>\n",
       "      <td>0.0</td>\n",
       "      <td>100+</td>\n",
       "      <td>100.0</td>\n",
       "      <td>478</td>\n",
       "      <td>True</td>\n",
       "      <td>0.0</td>\n",
       "      <td>USD</td>\n",
       "      <td>6.2M</td>\n",
       "      <td>4.1 and up</td>\n",
       "      <td>Rafal Milek-Horodyski</td>\n",
       "      <td>http://www.horodyski.com.pl</td>\n",
       "      <td>rmilekhorodyski@gmail.com</td>\n",
       "      <td>Feb 21, 2020</td>\n",
       "      <td>Nov 12, 2018</td>\n",
       "      <td>Everyone</td>\n",
       "      <td>http://www.horodyski.com.pl</td>\n",
       "      <td>False</td>\n",
       "      <td>False</td>\n",
       "      <td>False</td>\n",
       "      <td>2021-06-15 20:19:35</td>\n",
       "    </tr>\n",
       "  </tbody>\n",
       "</table>\n",
       "</div>"
      ],
      "text/plain": [
       "                                            App Name  \\\n",
       "0                                            Gakondo   \n",
       "1                                Ampere Battery Info   \n",
       "2                                             Vibook   \n",
       "3  Smart City Trichy Public Service Vehicles 17UC...   \n",
       "4                                            GROW.me   \n",
       "\n",
       "                       App Id       Category  Rating  Rating Count Installs  \\\n",
       "0         com.ishakwe.gakondo      Adventure     0.0           0.0      10+   \n",
       "1  com.webserveis.batteryinfo          Tools     4.4          64.0   5,000+   \n",
       "2        com.doantiepvien.crm   Productivity     0.0           0.0      50+   \n",
       "3     cst.stJoseph.ug17ucs548  Communication     5.0           5.0      10+   \n",
       "4        com.horodyski.grower          Tools     0.0           0.0     100+   \n",
       "\n",
       "   Minimum Installs  Maximum Installs  Free  Price Currency  Size  \\\n",
       "0              10.0                15  True    0.0      USD   10M   \n",
       "1            5000.0              7662  True    0.0      USD  2.9M   \n",
       "2              50.0                58  True    0.0      USD  3.7M   \n",
       "3              10.0                19  True    0.0      USD  1.8M   \n",
       "4             100.0               478  True    0.0      USD  6.2M   \n",
       "\n",
       "  Minimum Android                       Developer Id  \\\n",
       "0      7.1 and up  Jean Confident Irénée NIYIZIBYOSE   \n",
       "1      5.0 and up                         Webserveis   \n",
       "2    4.0.3 and up                         Cabin Crew   \n",
       "3    4.0.3 and up                Climate Smart Tech2   \n",
       "4      4.1 and up              Rafal Milek-Horodyski   \n",
       "\n",
       "                  Developer Website              Developer Email  \\\n",
       "0       https://beniyizibyose.tk/#/       jean21101999@gmail.com   \n",
       "1   https://webserveis.netlify.app/         webserveis@gmail.com   \n",
       "2                               NaN          vnacrewit@gmail.com   \n",
       "3  http://www.climatesmarttech.com/  climatesmarttech2@gmail.com   \n",
       "4       http://www.horodyski.com.pl    rmilekhorodyski@gmail.com   \n",
       "\n",
       "       Released  Last Updated Content Rating  \\\n",
       "0  Feb 26, 2020  Feb 26, 2020       Everyone   \n",
       "1  May 21, 2020  May 06, 2021       Everyone   \n",
       "2   Aug 9, 2019  Aug 19, 2019       Everyone   \n",
       "3  Sep 10, 2018  Oct 13, 2018       Everyone   \n",
       "4  Feb 21, 2020  Nov 12, 2018       Everyone   \n",
       "\n",
       "                                      Privacy Policy  Ad Supported  \\\n",
       "0                 https://beniyizibyose.tk/projects/         False   \n",
       "1  https://dev4phones.wordpress.com/licencia-de-uso/          True   \n",
       "2  https://www.vietnamairlines.com/vn/en/terms-an...         False   \n",
       "3                                                NaN          True   \n",
       "4                        http://www.horodyski.com.pl         False   \n",
       "\n",
       "   In App Purchases  Editors Choice         Scraped Time  \n",
       "0             False           False  2021-06-15 20:19:35  \n",
       "1             False           False  2021-06-15 20:19:35  \n",
       "2             False           False  2021-06-15 20:19:35  \n",
       "3             False           False  2021-06-15 20:19:35  \n",
       "4             False           False  2021-06-15 20:19:35  "
      ]
     },
     "execution_count": 3,
     "metadata": {},
     "output_type": "execute_result"
    }
   ],
   "source": [
    "pd.set_option('display.max_columns', None)\n",
    "df.head()"
   ]
  },
  {
   "cell_type": "markdown",
   "metadata": {},
   "source": [
    "### Dữ liệu có bao nhiêu dòng và bao nhiêu cột"
   ]
  },
  {
   "cell_type": "code",
   "execution_count": 4,
   "metadata": {},
   "outputs": [
    {
     "name": "stdout",
     "output_type": "stream",
     "text": [
      "24 2312944\n"
     ]
    }
   ],
   "source": [
    "num_cols = len(df.columns)\n",
    "num_rows = len(df)\n",
    "print(num_cols, num_rows)"
   ]
  },
  {
   "cell_type": "markdown",
   "metadata": {},
   "source": [
    "### Mỗi dòng có ý nghĩa gì? Có vấn đề các dòng có ý nghĩa khác nhau không?"
   ]
  },
  {
   "cell_type": "markdown",
   "metadata": {},
   "source": [
    "Mỗi dòng lưu trữ thông tin được hiển thị trên Google Play Store. Không thấy các dòng có ý nghĩa khác nhau."
   ]
  },
  {
   "cell_type": "markdown",
   "metadata": {},
   "source": [
    "### Dữ liệu có các dòng bị lặp không?"
   ]
  },
  {
   "cell_type": "markdown",
   "metadata": {},
   "source": [
    "Số dòng dữ liệu bị lặp là"
   ]
  },
  {
   "cell_type": "code",
   "execution_count": 5,
   "metadata": {},
   "outputs": [
    {
     "name": "stdout",
     "output_type": "stream",
     "text": [
      "0\n"
     ]
    }
   ],
   "source": [
    "duplicated_rows = df.duplicated(keep=False)\n",
    "num_duplicated_rows = duplicated_rows.sum()\n",
    "print(num_duplicated_rows)"
   ]
  },
  {
   "cell_type": "markdown",
   "metadata": {},
   "source": [
    "### Mỗi cột có ý nghĩa gì?"
   ]
  },
  {
   "cell_type": "markdown",
   "metadata": {},
   "source": [
    "Ý nghĩa của từng cột dữ liệu:\n",
    "* App Name: tên ứng dụng\n",
    "* App Id: id của ứng dụng\n",
    "* Category: thể loại ứng dụng\n",
    "* Rating: chỉ số đánh giá trung bình\n",
    "* Rating Count: số đánh giá\n",
    "* Installs: số lượt tải\n",
    "* Minimum Installs: số lượt tải tối thiểu\n",
    "* Maximum Installs: số lượt tải tối đa\n",
    "* Free: ứng dụng là mĩễn phí hay trả tiền\n",
    "* Price: giá ứng dụng\n",
    "* Currency: đồng tiền dùng để thanh toán\n",
    "* Size: kích cỡ\n",
    "* Minimum Android: phiên bản android tối thiểu để chạy ứng dụng\n",
    "* Developer Id: id của nhà phát triển\n",
    "* Developer Website: web của nhà phát triển\n",
    "* Developer Email: email của nhà phát triển\n",
    "* Released: ngày phát hành\n",
    "* Privacy Policy: chính sách bảo mật\n",
    "* Last Updated: ngày cập nhật gần đây nhất\n",
    "* Content Rating: đánh giá nội dung ứng dụng theo chính sách Google Play\n",
    "* Ad Supported: ứng dụng có quảng cáo không\n",
    "* In app purchases: có thực hiện mua bán trong ứng dụng không\n",
    "* Editor Choice: có được đánh giá chuẩn Editor Choice the Google Play không\n",
    "* Scraped Time: thời gian thu nhập dữ liệu"
   ]
  },
  {
   "cell_type": "markdown",
   "metadata": {},
   "source": [
    "### Mỗi cột hiện đang có kiểu dữ liệu gì? Có cột nào có kiểu dữ liệu chưa phù hợp để có thể xử lý tiếp không?"
   ]
  },
  {
   "cell_type": "markdown",
   "metadata": {},
   "source": [
    "Các hàm bổ trợ:"
   ]
  },
  {
   "cell_type": "code",
   "execution_count": 34,
   "metadata": {},
   "outputs": [],
   "source": [
    "def missing_ratio(s):\n",
    "    return s.isna().mean() * 100\n",
    "def num_diff_vals(s):\n",
    "    return int(s.nunique())\n",
    "def diff_vals(s):\n",
    "    return s.dropna().unique()"
   ]
  },
  {
   "cell_type": "markdown",
   "metadata": {},
   "source": [
    "Kiểu dữ liệu của từng cột là:"
   ]
  },
  {
   "cell_type": "code",
   "execution_count": 7,
   "metadata": {},
   "outputs": [
    {
     "name": "stdout",
     "output_type": "stream",
     "text": [
      "App Name              object\n",
      "App Id                object\n",
      "Category              object\n",
      "Rating               float64\n",
      "Rating Count         float64\n",
      "Installs              object\n",
      "Minimum Installs     float64\n",
      "Maximum Installs       int64\n",
      "Free                    bool\n",
      "Price                float64\n",
      "Currency              object\n",
      "Size                  object\n",
      "Minimum Android       object\n",
      "Developer Id          object\n",
      "Developer Website     object\n",
      "Developer Email       object\n",
      "Released              object\n",
      "Last Updated          object\n",
      "Content Rating        object\n",
      "Privacy Policy        object\n",
      "Ad Supported            bool\n",
      "In App Purchases        bool\n",
      "Editors Choice          bool\n",
      "Scraped Time          object\n",
      "dtype: object\n"
     ]
    }
   ],
   "source": [
    "print(df.dtypes)"
   ]
  },
  {
   "cell_type": "markdown",
   "metadata": {},
   "source": [
    "Các cột có kiểu dữ liệu chưa phù hợp là: Installs, Minimum Installs, Size, Minimum Android, Released, Last Updated, Scraped Time. Ta thực hiện tiền xử lý cho các dữ liệu về kiểu phù hợp."
   ]
  },
  {
   "cell_type": "markdown",
   "metadata": {},
   "source": [
    "Dữ liệu ở cột Installs thường sẽ có dạng 'XX,XXX+' với X là các chữ số. Ta sử dụng regex để tách lấy các chữ số X ra."
   ]
  },
  {
   "cell_type": "code",
   "execution_count": 8,
   "metadata": {},
   "outputs": [],
   "source": [
    "df['Installs'] = pd.to_numeric(df['Installs'].str.replace(r'\\D+', '', regex=True), errors='coerce').astype('Int64')"
   ]
  },
  {
   "cell_type": "markdown",
   "metadata": {},
   "source": [
    "Ta chuyển dữ liệu ở cột Minimum installs từ dạng float64 về int64:"
   ]
  },
  {
   "cell_type": "code",
   "execution_count": 9,
   "metadata": {},
   "outputs": [],
   "source": [
    "df['Minimum Installs'] = df['Minimum Installs'].astype('Int64')"
   ]
  },
  {
   "cell_type": "markdown",
   "metadata": {},
   "source": [
    "Dữ liệu ở cột Size lưu trữ thông tin kích cỡ của ứng dụng nhưng ở dưới dạng String, trước tiên ta kiểm tra xem dữ liệu này có những định dạng nào sau chữ số ví dụ Size: XX.XM"
   ]
  },
  {
   "cell_type": "code",
   "execution_count": 10,
   "metadata": {},
   "outputs": [
    {
     "data": {
      "text/plain": [
       "{'G', 'M', 'Varies with device', 'k', nan}"
      ]
     },
     "execution_count": 10,
     "metadata": {},
     "output_type": "execute_result"
    }
   ],
   "source": [
    "set(df['Size'].str.extract(r'([^\\d]+)$', expand=False).values)"
   ]
  },
  {
   "cell_type": "markdown",
   "metadata": {},
   "source": [
    "Ta thấy có các loại kích cỡ G, M, k, các giá trị còn lại ta có thể thay thành NaN."
   ]
  },
  {
   "cell_type": "markdown",
   "metadata": {},
   "source": [
    "Tính toán lại các kích cỡ KB và GB về MB"
   ]
  },
  {
   "cell_type": "code",
   "execution_count": 11,
   "metadata": {},
   "outputs": [],
   "source": [
    "size_nums = df['Size'].str.replace(',','').str.extract(r'((?:\\d+.\\d+)|(?:\\d+))', expand=False).astype('float64')\n",
    "size_nums[df['Size'].str[-1] == 'k'] /= 1000\n",
    "size_nums[df['Size'].str[-1] == 'G'] *= 1000"
   ]
  },
  {
   "cell_type": "code",
   "execution_count": 32,
   "metadata": {},
   "outputs": [],
   "source": [
    "df['Size'] = size_nums"
   ]
  },
  {
   "cell_type": "markdown",
   "metadata": {},
   "source": [
    "Dữ liệu cột Minimum Android có dạng 'X.X and up' với X là chữ số liên quan đến version của Android. Ta kiểm tra xe có dòng nào không phù hợp không."
   ]
  },
  {
   "cell_type": "code",
   "execution_count": 12,
   "metadata": {},
   "outputs": [
    {
     "data": {
      "text/plain": [
       "{'1.0 - 6.0',\n",
       " '1.1 - 4.4',\n",
       " '1.5 - 2.1',\n",
       " '1.5 - 3.2',\n",
       " '1.6 - 2.1',\n",
       " '1.6 - 4.0.2',\n",
       " '1.6 - 4.0.4',\n",
       " '1.6 - 4.2.2',\n",
       " '1.6 - 4.4',\n",
       " '1.6 - 4.4W',\n",
       " '1.6 - 5.1',\n",
       " '1.6 - 7.0',\n",
       " '1.6 - 7.1.1',\n",
       " '2.0 - 2.3.4',\n",
       " '2.0 - 8.0',\n",
       " '2.1 - 2.3.4',\n",
       " '2.1 - 3.1',\n",
       " '2.1 - 3.2',\n",
       " '2.1 - 4.1.1',\n",
       " '2.1 - 4.4',\n",
       " '2.1 - 4.4W',\n",
       " '2.1 - 5.0',\n",
       " '2.1 - 5.1',\n",
       " '2.1 - 6.0',\n",
       " '2.1 - 7.1.1',\n",
       " '2.2',\n",
       " '2.2 - 2.3.4',\n",
       " '2.2 - 3.0',\n",
       " '2.2 - 3.2',\n",
       " '2.2 - 4.0.4',\n",
       " '2.2 - 4.1.1',\n",
       " '2.2 - 4.2.2',\n",
       " '2.2 - 4.3',\n",
       " '2.2 - 4.4',\n",
       " '2.2 - 4.4W',\n",
       " '2.2 - 5.0',\n",
       " '2.2 - 5.1',\n",
       " '2.2 - 6.0',\n",
       " '2.2 - 8.0',\n",
       " '2.3 - 3.2',\n",
       " '2.3 - 4.0.2',\n",
       " '2.3 - 4.1.1',\n",
       " '2.3 - 4.4',\n",
       " '2.3 - 4.4W',\n",
       " '2.3 - 5.0',\n",
       " '2.3 - 5.1',\n",
       " '2.3 - 6.0',\n",
       " '2.3 - 7.0',\n",
       " '2.3 - 7.1.1',\n",
       " '2.3 - 8.0',\n",
       " '2.3.3 - 2.3.4',\n",
       " '2.3.3 - 4.0.4',\n",
       " '2.3.3 - 4.4',\n",
       " '2.3.3 - 4.4W',\n",
       " '2.3.3 - 5.0',\n",
       " '2.3.3 - 5.1',\n",
       " '2.3.3 - 6.0',\n",
       " '2.3.3 - 7.1.1',\n",
       " '2.3.3 - 8.0',\n",
       " '3.0 - 3.2',\n",
       " '3.0 - 4.1.1',\n",
       " '3.0 - 4.4',\n",
       " '3.0 - 4.4W',\n",
       " '3.0 - 5.0',\n",
       " '3.0 - 5.1',\n",
       " '3.0 - 6.0',\n",
       " '3.0 - 7.0',\n",
       " '3.0 - 7.1.1',\n",
       " '3.0 - 8.0',\n",
       " '3.2 - 4.1.1',\n",
       " '3.2 - 4.4',\n",
       " '3.2 - 5.1',\n",
       " '3.2 - 6.0',\n",
       " '3.2 - 7.1.1',\n",
       " '4.0 - 4.0.4',\n",
       " '4.0 - 4.4',\n",
       " '4.0 - 4.4W',\n",
       " '4.0 - 5.0',\n",
       " '4.0 - 5.1',\n",
       " '4.0 - 6.0',\n",
       " '4.0 - 7.0',\n",
       " '4.0 - 7.1.1',\n",
       " '4.0 - 8.0',\n",
       " '4.0.3 - 4.2.2',\n",
       " '4.0.3 - 4.4',\n",
       " '4.0.3 - 5.1',\n",
       " '4.0.3 - 6.0',\n",
       " '4.0.3 - 7.0',\n",
       " '4.0.3 - 7.1.1',\n",
       " '4.0.3 - 8.0',\n",
       " '4.1 - 4.3',\n",
       " '4.1 - 4.4',\n",
       " '4.1 - 4.4W',\n",
       " '4.1 - 5.0',\n",
       " '4.1 - 5.1',\n",
       " '4.1 - 6.0',\n",
       " '4.1 - 7.0',\n",
       " '4.1 - 7.1.1',\n",
       " '4.1 - 8.0',\n",
       " '4.2 - 4.2.2',\n",
       " '4.2 - 4.3',\n",
       " '4.2 - 4.4W',\n",
       " '4.2 - 6.0',\n",
       " '4.2 - 7.1.1',\n",
       " '4.2 - 8.0',\n",
       " '4.3',\n",
       " '4.3 - 4.4',\n",
       " '4.3 - 4.4W',\n",
       " '4.3 - 5.1',\n",
       " '4.3 - 8.0',\n",
       " '4.4',\n",
       " '4.4 - 4.4W',\n",
       " '4.4 - 5.1',\n",
       " '4.4 - 6.0',\n",
       " '4.4 - 7.0',\n",
       " '4.4 - 7.1.1',\n",
       " '4.4 - 8.0',\n",
       " '5.0 - 6.0',\n",
       " '5.0 - 7.1.1',\n",
       " '5.0 - 8.0',\n",
       " '5.1',\n",
       " '5.1 - 7.1.1',\n",
       " '6.0',\n",
       " '6.0 - 7.1.1',\n",
       " '6.0 - 8.0',\n",
       " '7.0',\n",
       " '8.0',\n",
       " 'Varies with device',\n",
       " nan}"
      ]
     },
     "execution_count": 12,
     "metadata": {},
     "output_type": "execute_result"
    }
   ],
   "source": [
    "set(df['Minimum Android'].str.extract(r'(.*(?<!and up)$)', expand=False).values)"
   ]
  },
  {
   "cell_type": "markdown",
   "metadata": {},
   "source": [
    "Tách cột Minimum Android thành Min Android Ver và Max Android Ver"
   ]
  },
  {
   "cell_type": "code",
   "execution_count": 13,
   "metadata": {},
   "outputs": [],
   "source": [
    "min_android_ver = df['Minimum Android'].str.extract(r'((?:\\d.\\d.\\d)|(?:\\d.\\d))', expand=False)"
   ]
  },
  {
   "cell_type": "code",
   "execution_count": 14,
   "metadata": {},
   "outputs": [],
   "source": [
    "max_android_ver = df['Minimum Android'].str.extract(r'((?<=\\- ).*)', expand=False)"
   ]
  },
  {
   "cell_type": "code",
   "execution_count": 15,
   "metadata": {},
   "outputs": [],
   "source": [
    "df['Min Android Ver'] = min_android_ver"
   ]
  },
  {
   "cell_type": "code",
   "execution_count": 16,
   "metadata": {},
   "outputs": [],
   "source": [
    "df['Max Android Ver'] = max_android_ver"
   ]
  },
  {
   "cell_type": "markdown",
   "metadata": {},
   "source": [
    "Với các cột String có kiểu dạng datetime ta thực hiện xử lý như sau:"
   ]
  },
  {
   "cell_type": "code",
   "execution_count": 17,
   "metadata": {},
   "outputs": [],
   "source": [
    "df['Released'] = pd.to_datetime(df['Released'], format='%b %d, %Y', errors='coerce')"
   ]
  },
  {
   "cell_type": "code",
   "execution_count": 18,
   "metadata": {},
   "outputs": [],
   "source": [
    "df['Last Updated'] = pd.to_datetime(df['Last Updated'], format='%b %d, %Y', errors='coerce')"
   ]
  },
  {
   "cell_type": "code",
   "execution_count": 19,
   "metadata": {},
   "outputs": [],
   "source": [
    "df['Scraped Time'] = pd.to_datetime(df['Scraped Time'], format='%Y-%m-%d %H:%M:%S', errors='coerce')"
   ]
  },
  {
   "cell_type": "markdown",
   "metadata": {},
   "source": [
    "Các trường có kiểu dữ liệu là numeric là:"
   ]
  },
  {
   "cell_type": "code",
   "execution_count": 20,
   "metadata": {},
   "outputs": [
    {
     "data": {
      "text/plain": [
       "['Rating',\n",
       " 'Rating Count',\n",
       " 'Installs',\n",
       " 'Minimum Installs',\n",
       " 'Maximum Installs',\n",
       " 'Price']"
      ]
     },
     "execution_count": 20,
     "metadata": {},
     "output_type": "execute_result"
    }
   ],
   "source": [
    "numeric_columns = list(df.select_dtypes('number'))\n",
    "numeric_columns"
   ]
  },
  {
   "cell_type": "markdown",
   "metadata": {},
   "source": [
    "Số lượng các giá trị thiếu của từng numeric_columns là:"
   ]
  },
  {
   "cell_type": "code",
   "execution_count": 43,
   "metadata": {},
   "outputs": [
    {
     "data": {
      "text/html": [
       "<div>\n",
       "<style scoped>\n",
       "    .dataframe tbody tr th:only-of-type {\n",
       "        vertical-align: middle;\n",
       "    }\n",
       "\n",
       "    .dataframe tbody tr th {\n",
       "        vertical-align: top;\n",
       "    }\n",
       "\n",
       "    .dataframe thead th {\n",
       "        text-align: right;\n",
       "    }\n",
       "</style>\n",
       "<table border=\"1\" class=\"dataframe\">\n",
       "  <thead>\n",
       "    <tr style=\"text-align: right;\">\n",
       "      <th></th>\n",
       "      <th>Rating</th>\n",
       "      <th>Rating Count</th>\n",
       "      <th>Installs</th>\n",
       "      <th>Minimum Installs</th>\n",
       "      <th>Maximum Installs</th>\n",
       "      <th>Price</th>\n",
       "    </tr>\n",
       "  </thead>\n",
       "  <tbody>\n",
       "    <tr>\n",
       "      <th>missing_ratio</th>\n",
       "      <td>0.989345</td>\n",
       "      <td>9.893452e-01</td>\n",
       "      <td>4.626139e-03</td>\n",
       "      <td>4.626139e-03</td>\n",
       "      <td>0.000000e+00</td>\n",
       "      <td>0.0</td>\n",
       "    </tr>\n",
       "    <tr>\n",
       "      <th>min</th>\n",
       "      <td>0.000000</td>\n",
       "      <td>0.000000e+00</td>\n",
       "      <td>0.000000e+00</td>\n",
       "      <td>0.000000e+00</td>\n",
       "      <td>0.000000e+00</td>\n",
       "      <td>0.0</td>\n",
       "    </tr>\n",
       "    <tr>\n",
       "      <th>max</th>\n",
       "      <td>5.000000</td>\n",
       "      <td>1.385576e+08</td>\n",
       "      <td>1.000000e+10</td>\n",
       "      <td>1.000000e+10</td>\n",
       "      <td>1.205763e+10</td>\n",
       "      <td>400.0</td>\n",
       "    </tr>\n",
       "  </tbody>\n",
       "</table>\n",
       "</div>"
      ],
      "text/plain": [
       "                 Rating  Rating Count      Installs  Minimum Installs  \\\n",
       "missing_ratio  0.989345  9.893452e-01  4.626139e-03      4.626139e-03   \n",
       "min            0.000000  0.000000e+00  0.000000e+00      0.000000e+00   \n",
       "max            5.000000  1.385576e+08  1.000000e+10      1.000000e+10   \n",
       "\n",
       "               Maximum Installs  Price  \n",
       "missing_ratio      0.000000e+00    0.0  \n",
       "min                0.000000e+00    0.0  \n",
       "max                1.205763e+10  400.0  "
      ]
     },
     "execution_count": 43,
     "metadata": {},
     "output_type": "execute_result"
    }
   ],
   "source": [
    "numeric_values = df[numeric_columns]\n",
    "numeric_values = numeric_values.agg([missing_ratio, pd.Series.min, pd.Series.max])\n",
    "\n",
    "numeric_values"
   ]
  },
  {
   "cell_type": "markdown",
   "metadata": {},
   "source": [
    "Các trường có kiểu dữ liệu category là:"
   ]
  },
  {
   "cell_type": "code",
   "execution_count": 23,
   "metadata": {},
   "outputs": [
    {
     "data": {
      "text/plain": [
       "['In App Purchases',\n",
       " 'Developer Website',\n",
       " 'Developer Id',\n",
       " 'Currency',\n",
       " 'Category',\n",
       " 'Min Android Ver',\n",
       " 'Max Android Ver',\n",
       " 'Privacy Policy',\n",
       " 'Editors Choice',\n",
       " 'Developer Email',\n",
       " 'Minimum Android',\n",
       " 'Free',\n",
       " 'Ad Supported',\n",
       " 'App Id',\n",
       " 'Size',\n",
       " 'Content Rating']"
      ]
     },
     "execution_count": 23,
     "metadata": {},
     "output_type": "execute_result"
    }
   ],
   "source": [
    "category_columns = list(set(df.columns) - set(numeric_columns) - set(df.select_dtypes('datetime')) - set(['App Name']))\n",
    "category_columns"
   ]
  },
  {
   "cell_type": "code",
   "execution_count": 36,
   "metadata": {},
   "outputs": [
    {
     "data": {
      "text/html": [
       "<div>\n",
       "<style scoped>\n",
       "    .dataframe tbody tr th:only-of-type {\n",
       "        vertical-align: middle;\n",
       "    }\n",
       "\n",
       "    .dataframe tbody tr th {\n",
       "        vertical-align: top;\n",
       "    }\n",
       "\n",
       "    .dataframe thead th {\n",
       "        text-align: right;\n",
       "    }\n",
       "</style>\n",
       "<table border=\"1\" class=\"dataframe\">\n",
       "  <thead>\n",
       "    <tr style=\"text-align: right;\">\n",
       "      <th></th>\n",
       "      <th>In App Purchases</th>\n",
       "      <th>Developer Website</th>\n",
       "      <th>Developer Id</th>\n",
       "      <th>Currency</th>\n",
       "      <th>Category</th>\n",
       "      <th>Min Android Ver</th>\n",
       "      <th>Max Android Ver</th>\n",
       "      <th>Privacy Policy</th>\n",
       "      <th>Editors Choice</th>\n",
       "      <th>Developer Email</th>\n",
       "      <th>Minimum Android</th>\n",
       "      <th>Free</th>\n",
       "      <th>Ad Supported</th>\n",
       "      <th>App Id</th>\n",
       "      <th>Size</th>\n",
       "      <th>Content Rating</th>\n",
       "    </tr>\n",
       "  </thead>\n",
       "  <tbody>\n",
       "    <tr>\n",
       "      <th>missing_ratio</th>\n",
       "      <td>0.0</td>\n",
       "      <td>32.894657</td>\n",
       "      <td>0.001427</td>\n",
       "      <td>0.005837</td>\n",
       "      <td>0.0</td>\n",
       "      <td>2.280384</td>\n",
       "      <td>99.980415</td>\n",
       "      <td>18.199879</td>\n",
       "      <td>0.0</td>\n",
       "      <td>0.00134</td>\n",
       "      <td>0.282324</td>\n",
       "      <td>0.0</td>\n",
       "      <td>0.0</td>\n",
       "      <td>0.0</td>\n",
       "      <td>3.241453</td>\n",
       "      <td>0.0</td>\n",
       "    </tr>\n",
       "    <tr>\n",
       "      <th>num_diff_vals</th>\n",
       "      <td>2.0</td>\n",
       "      <td>810440.000000</td>\n",
       "      <td>758371.000000</td>\n",
       "      <td>15.000000</td>\n",
       "      <td>48.0</td>\n",
       "      <td>25.000000</td>\n",
       "      <td>18.000000</td>\n",
       "      <td>977743.000000</td>\n",
       "      <td>2.0</td>\n",
       "      <td>950456.00000</td>\n",
       "      <td>154.000000</td>\n",
       "      <td>2.0</td>\n",
       "      <td>2.0</td>\n",
       "      <td>2312944.0</td>\n",
       "      <td>1653.000000</td>\n",
       "      <td>6.0</td>\n",
       "    </tr>\n",
       "  </tbody>\n",
       "</table>\n",
       "</div>"
      ],
      "text/plain": [
       "               In App Purchases  Developer Website   Developer Id   Currency  \\\n",
       "missing_ratio               0.0          32.894657       0.001427   0.005837   \n",
       "num_diff_vals               2.0      810440.000000  758371.000000  15.000000   \n",
       "\n",
       "               Category  Min Android Ver  Max Android Ver  Privacy Policy  \\\n",
       "missing_ratio       0.0         2.280384        99.980415       18.199879   \n",
       "num_diff_vals      48.0        25.000000        18.000000   977743.000000   \n",
       "\n",
       "               Editors Choice  Developer Email  Minimum Android  Free  \\\n",
       "missing_ratio             0.0          0.00134         0.282324   0.0   \n",
       "num_diff_vals             2.0     950456.00000       154.000000   2.0   \n",
       "\n",
       "               Ad Supported     App Id         Size  Content Rating  \n",
       "missing_ratio           0.0        0.0     3.241453             0.0  \n",
       "num_diff_vals           2.0  2312944.0  1653.000000             6.0  "
      ]
     },
     "execution_count": 36,
     "metadata": {},
     "output_type": "execute_result"
    }
   ],
   "source": [
    "category_values = df[category_columns]\n",
    "categories_values = category_values.agg([missing_ratio, num_diff_vals])\n",
    "\n",
    "categories_values"
   ]
  },
  {
   "cell_type": "markdown",
   "metadata": {},
   "source": [
    "Số lượng các giá trị khác nhau của các trường category là:"
   ]
  },
  {
   "cell_type": "code",
   "execution_count": 30,
   "metadata": {},
   "outputs": [
    {
     "data": {
      "text/html": [
       "<div>\n",
       "<style scoped>\n",
       "    .dataframe tbody tr th:only-of-type {\n",
       "        vertical-align: middle;\n",
       "    }\n",
       "\n",
       "    .dataframe tbody tr th {\n",
       "        vertical-align: top;\n",
       "    }\n",
       "\n",
       "    .dataframe thead th {\n",
       "        text-align: right;\n",
       "    }\n",
       "</style>\n",
       "<table border=\"1\" class=\"dataframe\">\n",
       "  <thead>\n",
       "    <tr style=\"text-align: right;\">\n",
       "      <th></th>\n",
       "      <th>In App Purchases</th>\n",
       "      <th>Developer Website</th>\n",
       "      <th>Developer Id</th>\n",
       "      <th>Currency</th>\n",
       "      <th>Category</th>\n",
       "      <th>Min Android Ver</th>\n",
       "      <th>Max Android Ver</th>\n",
       "      <th>Privacy Policy</th>\n",
       "      <th>Editors Choice</th>\n",
       "      <th>Developer Email</th>\n",
       "      <th>Minimum Android</th>\n",
       "      <th>Free</th>\n",
       "      <th>Ad Supported</th>\n",
       "      <th>App Id</th>\n",
       "      <th>Size</th>\n",
       "      <th>Content Rating</th>\n",
       "    </tr>\n",
       "  </thead>\n",
       "  <tbody>\n",
       "    <tr>\n",
       "      <th>2122746</th>\n",
       "      <td>False</td>\n",
       "      <td>http://www.koshambisecuritysystem.com</td>\n",
       "      <td>GPS Tracking Software</td>\n",
       "      <td>USD</td>\n",
       "      <td>Tools</td>\n",
       "      <td>4.4</td>\n",
       "      <td>NaN</td>\n",
       "      <td>http://www.koshambisecuritysystem.com/privacy-...</td>\n",
       "      <td>False</td>\n",
       "      <td>info.koshambi@gmail.com</td>\n",
       "      <td>4.4 and up</td>\n",
       "      <td>True</td>\n",
       "      <td>False</td>\n",
       "      <td>com.koshambi.dev</td>\n",
       "      <td>11M</td>\n",
       "      <td>Everyone</td>\n",
       "    </tr>\n",
       "    <tr>\n",
       "      <th>376387</th>\n",
       "      <td>False</td>\n",
       "      <td>NaN</td>\n",
       "      <td>J&amp;M Studio</td>\n",
       "      <td>USD</td>\n",
       "      <td>Music &amp; Audio</td>\n",
       "      <td>4.1</td>\n",
       "      <td>NaN</td>\n",
       "      <td>https://sites.google.com/view/radio-free-onlin...</td>\n",
       "      <td>False</td>\n",
       "      <td>jymstudio2019@gmail.com</td>\n",
       "      <td>4.1 and up</td>\n",
       "      <td>True</td>\n",
       "      <td>True</td>\n",
       "      <td>com.jymstudio.fabulous1580.radio.app.charles.city</td>\n",
       "      <td>4.9M</td>\n",
       "      <td>Teen</td>\n",
       "    </tr>\n",
       "    <tr>\n",
       "      <th>2015128</th>\n",
       "      <td>False</td>\n",
       "      <td>https://www.digisoftmm.com</td>\n",
       "      <td>DigiSoft (Myanmar) Co., Ltd</td>\n",
       "      <td>USD</td>\n",
       "      <td>Communication</td>\n",
       "      <td>5.0</td>\n",
       "      <td>NaN</td>\n",
       "      <td>https://www.digisoftmm.com</td>\n",
       "      <td>False</td>\n",
       "      <td>info@digisoftmm.com</td>\n",
       "      <td>5.0 and up</td>\n",
       "      <td>True</td>\n",
       "      <td>False</td>\n",
       "      <td>com.digisoft.agrimatch</td>\n",
       "      <td>50M</td>\n",
       "      <td>Everyone</td>\n",
       "    </tr>\n",
       "    <tr>\n",
       "      <th>1563580</th>\n",
       "      <td>False</td>\n",
       "      <td>http://www.netkoncept.com</td>\n",
       "      <td>netkoncept.com</td>\n",
       "      <td>USD</td>\n",
       "      <td>Travel &amp; Local</td>\n",
       "      <td>4.4</td>\n",
       "      <td>NaN</td>\n",
       "      <td>http://prowod.pl/254/polityka-prywatnosci.html</td>\n",
       "      <td>False</td>\n",
       "      <td>info@netkoncept.com</td>\n",
       "      <td>4.4 and up</td>\n",
       "      <td>True</td>\n",
       "      <td>False</td>\n",
       "      <td>pl.prowod</td>\n",
       "      <td>10M</td>\n",
       "      <td>Everyone</td>\n",
       "    </tr>\n",
       "    <tr>\n",
       "      <th>524219</th>\n",
       "      <td>False</td>\n",
       "      <td>https://wqfzjwen.app-adstxt.dev/app-ads.txt</td>\n",
       "      <td>Shady al-Adimi</td>\n",
       "      <td>USD</td>\n",
       "      <td>Music &amp; Audio</td>\n",
       "      <td>4.3</td>\n",
       "      <td>NaN</td>\n",
       "      <td>https://sites.google.com/view/moroccansongs2021</td>\n",
       "      <td>False</td>\n",
       "      <td>meherahmedmswod2021@gmail.com</td>\n",
       "      <td>4.3 and up</td>\n",
       "      <td>True</td>\n",
       "      <td>True</td>\n",
       "      <td>com.songs_offline.jalil_balirmu</td>\n",
       "      <td>20M</td>\n",
       "      <td>Teen</td>\n",
       "    </tr>\n",
       "    <tr>\n",
       "      <th>741625</th>\n",
       "      <td>False</td>\n",
       "      <td>http://saeaerodesign.com/</td>\n",
       "      <td>SAE Collegiate Design Competitions</td>\n",
       "      <td>USD</td>\n",
       "      <td>Education</td>\n",
       "      <td>4.4</td>\n",
       "      <td>NaN</td>\n",
       "      <td>https://www.saeaerodesign.com/Page.aspx?pageid...</td>\n",
       "      <td>False</td>\n",
       "      <td>collegiatecompetitions@sae.org</td>\n",
       "      <td>4.4 and up</td>\n",
       "      <td>True</td>\n",
       "      <td>False</td>\n",
       "      <td>org.collegiatedesign.aero.cdsapp</td>\n",
       "      <td>68M</td>\n",
       "      <td>Everyone</td>\n",
       "    </tr>\n",
       "    <tr>\n",
       "      <th>1563220</th>\n",
       "      <td>False</td>\n",
       "      <td>NaN</td>\n",
       "      <td>smartclicksa</td>\n",
       "      <td>USD</td>\n",
       "      <td>Business</td>\n",
       "      <td>4.1</td>\n",
       "      <td>NaN</td>\n",
       "      <td>NaN</td>\n",
       "      <td>False</td>\n",
       "      <td>info@smartclicksa.com</td>\n",
       "      <td>4.1 and up</td>\n",
       "      <td>True</td>\n",
       "      <td>False</td>\n",
       "      <td>com.smartclicksa</td>\n",
       "      <td>6.3M</td>\n",
       "      <td>Everyone</td>\n",
       "    </tr>\n",
       "  </tbody>\n",
       "</table>\n",
       "</div>"
      ],
      "text/plain": [
       "         In App Purchases                            Developer Website  \\\n",
       "2122746             False        http://www.koshambisecuritysystem.com   \n",
       "376387              False                                          NaN   \n",
       "2015128             False                   https://www.digisoftmm.com   \n",
       "1563580             False                    http://www.netkoncept.com   \n",
       "524219              False  https://wqfzjwen.app-adstxt.dev/app-ads.txt   \n",
       "741625              False                    http://saeaerodesign.com/   \n",
       "1563220             False                                          NaN   \n",
       "\n",
       "                               Developer Id Currency        Category  \\\n",
       "2122746               GPS Tracking Software      USD           Tools   \n",
       "376387                           J&M Studio      USD   Music & Audio   \n",
       "2015128         DigiSoft (Myanmar) Co., Ltd      USD   Communication   \n",
       "1563580                      netkoncept.com      USD  Travel & Local   \n",
       "524219                       Shady al-Adimi      USD   Music & Audio   \n",
       "741625   SAE Collegiate Design Competitions      USD       Education   \n",
       "1563220                        smartclicksa      USD        Business   \n",
       "\n",
       "        Min Android Ver Max Android Ver  \\\n",
       "2122746             4.4             NaN   \n",
       "376387              4.1             NaN   \n",
       "2015128             5.0             NaN   \n",
       "1563580             4.4             NaN   \n",
       "524219              4.3             NaN   \n",
       "741625              4.4             NaN   \n",
       "1563220             4.1             NaN   \n",
       "\n",
       "                                            Privacy Policy  Editors Choice  \\\n",
       "2122746  http://www.koshambisecuritysystem.com/privacy-...           False   \n",
       "376387   https://sites.google.com/view/radio-free-onlin...           False   \n",
       "2015128                         https://www.digisoftmm.com           False   \n",
       "1563580     http://prowod.pl/254/polityka-prywatnosci.html           False   \n",
       "524219     https://sites.google.com/view/moroccansongs2021           False   \n",
       "741625   https://www.saeaerodesign.com/Page.aspx?pageid...           False   \n",
       "1563220                                                NaN           False   \n",
       "\n",
       "                        Developer Email Minimum Android  Free  Ad Supported  \\\n",
       "2122746         info.koshambi@gmail.com      4.4 and up  True         False   \n",
       "376387          jymstudio2019@gmail.com      4.1 and up  True          True   \n",
       "2015128             info@digisoftmm.com      5.0 and up  True         False   \n",
       "1563580             info@netkoncept.com      4.4 and up  True         False   \n",
       "524219    meherahmedmswod2021@gmail.com      4.3 and up  True          True   \n",
       "741625   collegiatecompetitions@sae.org      4.4 and up  True         False   \n",
       "1563220           info@smartclicksa.com      4.1 and up  True         False   \n",
       "\n",
       "                                                    App Id  Size  \\\n",
       "2122746                                   com.koshambi.dev   11M   \n",
       "376387   com.jymstudio.fabulous1580.radio.app.charles.city  4.9M   \n",
       "2015128                             com.digisoft.agrimatch   50M   \n",
       "1563580                                          pl.prowod   10M   \n",
       "524219                     com.songs_offline.jalil_balirmu   20M   \n",
       "741625                    org.collegiatedesign.aero.cdsapp   68M   \n",
       "1563220                                   com.smartclicksa  6.3M   \n",
       "\n",
       "        Content Rating  \n",
       "2122746       Everyone  \n",
       "376387            Teen  \n",
       "2015128       Everyone  \n",
       "1563580       Everyone  \n",
       "524219            Teen  \n",
       "741625        Everyone  \n",
       "1563220       Everyone  "
      ]
     },
     "execution_count": 30,
     "metadata": {},
     "output_type": "execute_result"
    }
   ],
   "source": [
    "df[category_columns].sample(n=7)"
   ]
  },
  {
   "cell_type": "markdown",
   "metadata": {},
   "source": [
    "Các cột category không có dấu hiệu gì bất thường cả."
   ]
  },
  {
   "cell_type": "markdown",
   "metadata": {},
   "source": [
    "## Tiền xử lý"
   ]
  },
  {
   "cell_type": "markdown",
   "metadata": {},
   "source": [
    "## Đưa ra các câu hỏi có ý nghĩa cần trả lời"
   ]
  },
  {
   "cell_type": "markdown",
   "metadata": {},
   "source": [
    "App có category nào sẽ có lượt tải xuống cao nhất (xét trên columns Install)?"
   ]
  },
  {
   "cell_type": "markdown",
   "metadata": {},
   "source": [
    "Developer nào có tổng số lượt tải các app cao nhất?"
   ]
  },
  {
   "cell_type": "markdown",
   "metadata": {},
   "source": [
    "## Phân tích dữ liệu để trả lời các câu hỏi trên"
   ]
  },
  {
   "cell_type": "markdown",
   "metadata": {},
   "source": [
    "## Nhìn lại quá trình làm đồ án"
   ]
  },
  {
   "cell_type": "markdown",
   "metadata": {},
   "source": [
    "### Thành viên: Nguyễn Đình Hoàng Phúc"
   ]
  },
  {
   "cell_type": "markdown",
   "metadata": {},
   "source": [
    "### Thành viên: Lê Đặng Thiên Phúc"
   ]
  },
  {
   "cell_type": "markdown",
   "metadata": {},
   "source": [
    "## Tài liệu tham khảo"
   ]
  }
 ],
 "metadata": {
  "kernelspec": {
   "display_name": "Python 3",
   "language": "python",
   "name": "python3"
  },
  "language_info": {
   "codemirror_mode": {
    "name": "ipython",
    "version": 3
   },
   "file_extension": ".py",
   "mimetype": "text/x-python",
   "name": "python",
   "nbconvert_exporter": "python",
   "pygments_lexer": "ipython3",
   "version": "3.8.5"
  },
  "toc": {
   "base_numbering": 1,
   "nav_menu": {},
   "number_sections": true,
   "sideBar": true,
   "skip_h1_title": false,
   "title_cell": "Table of Contents",
   "title_sidebar": "Contents",
   "toc_cell": false,
   "toc_position": {
    "height": "calc(100% - 180px)",
    "left": "10px",
    "top": "150px",
    "width": "372px"
   },
   "toc_section_display": true,
   "toc_window_display": true
  }
 },
 "nbformat": 4,
 "nbformat_minor": 4
}
