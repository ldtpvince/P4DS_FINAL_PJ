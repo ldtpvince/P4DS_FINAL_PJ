{
 "cells": [
  {
   "cell_type": "markdown",
   "metadata": {},
   "source": [
    "# Đồ án cuối kỳ"
   ]
  },
  {
   "cell_type": "markdown",
   "metadata": {},
   "source": [
    "**Các thành viên:**\n",
    "1. MSSV: 18120143 - Họ tên: Nguyễn Đình Hoàng Phúc\n",
    "2. MSSV: 18120512 - Họ tên: Lê Đặng Thiên Phúc"
   ]
  },
  {
   "cell_type": "markdown",
   "metadata": {},
   "source": [
    "---"
   ]
  },
  {
   "cell_type": "markdown",
   "metadata": {},
   "source": [
    "## Import thư viện"
   ]
  },
  {
   "cell_type": "code",
   "execution_count": 1,
   "metadata": {},
   "outputs": [
    {
     "name": "stdout",
     "output_type": "stream",
     "text": [
      "Requirement already satisfied: ipywidgets in /home/phuc/.conda/envs/min_ds-env/lib/python3.8/site-packages (7.6.5)\n",
      "Requirement already satisfied: ipython-genutils~=0.2.0 in /home/phuc/.conda/envs/min_ds-env/lib/python3.8/site-packages (from ipywidgets) (0.2.0)\n",
      "Requirement already satisfied: widgetsnbextension~=3.5.0 in /home/phuc/.conda/envs/min_ds-env/lib/python3.8/site-packages (from ipywidgets) (3.5.2)\n",
      "Requirement already satisfied: jupyterlab-widgets>=1.0.0 in /home/phuc/.conda/envs/min_ds-env/lib/python3.8/site-packages (from ipywidgets) (1.0.2)\n",
      "Requirement already satisfied: traitlets>=4.3.1 in /home/phuc/.conda/envs/min_ds-env/lib/python3.8/site-packages (from ipywidgets) (5.1.1)\n",
      "Requirement already satisfied: nbformat>=4.2.0 in /home/phuc/.conda/envs/min_ds-env/lib/python3.8/site-packages (from ipywidgets) (5.1.3)\n",
      "Requirement already satisfied: ipython>=4.0.0 in /home/phuc/.conda/envs/min_ds-env/lib/python3.8/site-packages (from ipywidgets) (7.30.1)\n",
      "Requirement already satisfied: ipykernel>=4.5.1 in /home/phuc/.conda/envs/min_ds-env/lib/python3.8/site-packages (from ipywidgets) (6.6.0)\n",
      "Requirement already satisfied: jupyter-client<8.0 in /home/phuc/.conda/envs/min_ds-env/lib/python3.8/site-packages (from ipykernel>=4.5.1->ipywidgets) (7.1.0)\n",
      "Requirement already satisfied: debugpy<2.0,>=1.0.0 in /home/phuc/.conda/envs/min_ds-env/lib/python3.8/site-packages (from ipykernel>=4.5.1->ipywidgets) (1.5.1)\n",
      "Requirement already satisfied: matplotlib-inline<0.2.0,>=0.1.0 in /home/phuc/.conda/envs/min_ds-env/lib/python3.8/site-packages (from ipykernel>=4.5.1->ipywidgets) (0.1.3)\n",
      "Requirement already satisfied: tornado<7.0,>=4.2 in /home/phuc/.conda/envs/min_ds-env/lib/python3.8/site-packages (from ipykernel>=4.5.1->ipywidgets) (6.1)\n",
      "Requirement already satisfied: setuptools>=18.5 in /home/phuc/.conda/envs/min_ds-env/lib/python3.8/site-packages (from ipython>=4.0.0->ipywidgets) (59.4.0)\n",
      "Requirement already satisfied: decorator in /home/phuc/.conda/envs/min_ds-env/lib/python3.8/site-packages (from ipython>=4.0.0->ipywidgets) (5.1.0)\n",
      "Requirement already satisfied: pexpect>4.3 in /home/phuc/.conda/envs/min_ds-env/lib/python3.8/site-packages (from ipython>=4.0.0->ipywidgets) (4.8.0)\n",
      "Requirement already satisfied: jedi>=0.16 in /home/phuc/.conda/envs/min_ds-env/lib/python3.8/site-packages (from ipython>=4.0.0->ipywidgets) (0.18.1)\n",
      "Requirement already satisfied: pygments in /home/phuc/.conda/envs/min_ds-env/lib/python3.8/site-packages (from ipython>=4.0.0->ipywidgets) (2.10.0)\n",
      "Requirement already satisfied: prompt-toolkit!=3.0.0,!=3.0.1,<3.1.0,>=2.0.0 in /home/phuc/.conda/envs/min_ds-env/lib/python3.8/site-packages (from ipython>=4.0.0->ipywidgets) (3.0.23)\n",
      "Requirement already satisfied: pickleshare in /home/phuc/.conda/envs/min_ds-env/lib/python3.8/site-packages (from ipython>=4.0.0->ipywidgets) (0.7.5)\n",
      "Requirement already satisfied: backcall in /home/phuc/.conda/envs/min_ds-env/lib/python3.8/site-packages (from ipython>=4.0.0->ipywidgets) (0.2.0)\n",
      "Requirement already satisfied: jsonschema!=2.5.0,>=2.4 in /home/phuc/.conda/envs/min_ds-env/lib/python3.8/site-packages (from nbformat>=4.2.0->ipywidgets) (4.2.1)\n",
      "Requirement already satisfied: jupyter-core in /home/phuc/.conda/envs/min_ds-env/lib/python3.8/site-packages (from nbformat>=4.2.0->ipywidgets) (4.9.1)\n",
      "Requirement already satisfied: notebook>=4.4.1 in /home/phuc/.conda/envs/min_ds-env/lib/python3.8/site-packages (from widgetsnbextension~=3.5.0->ipywidgets) (6.4.6)\n",
      "Requirement already satisfied: parso<0.9.0,>=0.8.0 in /home/phuc/.conda/envs/min_ds-env/lib/python3.8/site-packages (from jedi>=0.16->ipython>=4.0.0->ipywidgets) (0.8.3)\n",
      "Requirement already satisfied: pyrsistent!=0.17.0,!=0.17.1,!=0.17.2,>=0.14.0 in /home/phuc/.conda/envs/min_ds-env/lib/python3.8/site-packages (from jsonschema!=2.5.0,>=2.4->nbformat>=4.2.0->ipywidgets) (0.18.0)\n",
      "Requirement already satisfied: importlib-resources>=1.4.0 in /home/phuc/.conda/envs/min_ds-env/lib/python3.8/site-packages (from jsonschema!=2.5.0,>=2.4->nbformat>=4.2.0->ipywidgets) (5.4.0)\n",
      "Requirement already satisfied: attrs>=17.4.0 in /home/phuc/.conda/envs/min_ds-env/lib/python3.8/site-packages (from jsonschema!=2.5.0,>=2.4->nbformat>=4.2.0->ipywidgets) (21.2.0)\n",
      "Requirement already satisfied: pyzmq>=13 in /home/phuc/.conda/envs/min_ds-env/lib/python3.8/site-packages (from jupyter-client<8.0->ipykernel>=4.5.1->ipywidgets) (22.3.0)\n",
      "Requirement already satisfied: nest-asyncio>=1.5 in /home/phuc/.conda/envs/min_ds-env/lib/python3.8/site-packages (from jupyter-client<8.0->ipykernel>=4.5.1->ipywidgets) (1.5.4)\n",
      "Requirement already satisfied: python-dateutil>=2.1 in /home/phuc/.conda/envs/min_ds-env/lib/python3.8/site-packages (from jupyter-client<8.0->ipykernel>=4.5.1->ipywidgets) (2.8.2)\n",
      "Requirement already satisfied: entrypoints in /home/phuc/.conda/envs/min_ds-env/lib/python3.8/site-packages (from jupyter-client<8.0->ipykernel>=4.5.1->ipywidgets) (0.3)\n",
      "Requirement already satisfied: terminado>=0.8.3 in /home/phuc/.conda/envs/min_ds-env/lib/python3.8/site-packages (from notebook>=4.4.1->widgetsnbextension~=3.5.0->ipywidgets) (0.12.1)\n",
      "Requirement already satisfied: argon2-cffi in /home/phuc/.conda/envs/min_ds-env/lib/python3.8/site-packages (from notebook>=4.4.1->widgetsnbextension~=3.5.0->ipywidgets) (21.1.0)\n",
      "Requirement already satisfied: jinja2 in /home/phuc/.conda/envs/min_ds-env/lib/python3.8/site-packages (from notebook>=4.4.1->widgetsnbextension~=3.5.0->ipywidgets) (3.0.3)\n",
      "Requirement already satisfied: Send2Trash>=1.8.0 in /home/phuc/.conda/envs/min_ds-env/lib/python3.8/site-packages (from notebook>=4.4.1->widgetsnbextension~=3.5.0->ipywidgets) (1.8.0)\n",
      "Requirement already satisfied: prometheus-client in /home/phuc/.conda/envs/min_ds-env/lib/python3.8/site-packages (from notebook>=4.4.1->widgetsnbextension~=3.5.0->ipywidgets) (0.12.0)\n",
      "Requirement already satisfied: nbconvert in /home/phuc/.conda/envs/min_ds-env/lib/python3.8/site-packages (from notebook>=4.4.1->widgetsnbextension~=3.5.0->ipywidgets) (6.3.0)\n",
      "Requirement already satisfied: ptyprocess>=0.5 in /home/phuc/.conda/envs/min_ds-env/lib/python3.8/site-packages (from pexpect>4.3->ipython>=4.0.0->ipywidgets) (0.7.0)\n",
      "Requirement already satisfied: wcwidth in /home/phuc/.conda/envs/min_ds-env/lib/python3.8/site-packages (from prompt-toolkit!=3.0.0,!=3.0.1,<3.1.0,>=2.0.0->ipython>=4.0.0->ipywidgets) (0.2.5)\n",
      "Requirement already satisfied: zipp>=3.1.0 in /home/phuc/.conda/envs/min_ds-env/lib/python3.8/site-packages (from importlib-resources>=1.4.0->jsonschema!=2.5.0,>=2.4->nbformat>=4.2.0->ipywidgets) (3.6.0)\n",
      "Requirement already satisfied: six>=1.5 in /home/phuc/.conda/envs/min_ds-env/lib/python3.8/site-packages (from python-dateutil>=2.1->jupyter-client<8.0->ipykernel>=4.5.1->ipywidgets) (1.16.0)\n",
      "Requirement already satisfied: cffi>=1.0.0 in /home/phuc/.conda/envs/min_ds-env/lib/python3.8/site-packages (from argon2-cffi->notebook>=4.4.1->widgetsnbextension~=3.5.0->ipywidgets) (1.14.6)\n",
      "Requirement already satisfied: MarkupSafe>=2.0 in /home/phuc/.conda/envs/min_ds-env/lib/python3.8/site-packages (from jinja2->notebook>=4.4.1->widgetsnbextension~=3.5.0->ipywidgets) (2.0.1)\n",
      "Requirement already satisfied: bleach in /home/phuc/.conda/envs/min_ds-env/lib/python3.8/site-packages (from nbconvert->notebook>=4.4.1->widgetsnbextension~=3.5.0->ipywidgets) (4.1.0)\n",
      "Requirement already satisfied: jupyterlab-pygments in /home/phuc/.conda/envs/min_ds-env/lib/python3.8/site-packages (from nbconvert->notebook>=4.4.1->widgetsnbextension~=3.5.0->ipywidgets) (0.1.2)\n",
      "Requirement already satisfied: testpath in /home/phuc/.conda/envs/min_ds-env/lib/python3.8/site-packages (from nbconvert->notebook>=4.4.1->widgetsnbextension~=3.5.0->ipywidgets) (0.5.0)\n",
      "Requirement already satisfied: nbclient<0.6.0,>=0.5.0 in /home/phuc/.conda/envs/min_ds-env/lib/python3.8/site-packages (from nbconvert->notebook>=4.4.1->widgetsnbextension~=3.5.0->ipywidgets) (0.5.9)\n",
      "Requirement already satisfied: mistune<2,>=0.8.1 in /home/phuc/.conda/envs/min_ds-env/lib/python3.8/site-packages (from nbconvert->notebook>=4.4.1->widgetsnbextension~=3.5.0->ipywidgets) (0.8.4)\n",
      "Requirement already satisfied: defusedxml in /home/phuc/.conda/envs/min_ds-env/lib/python3.8/site-packages (from nbconvert->notebook>=4.4.1->widgetsnbextension~=3.5.0->ipywidgets) (0.7.1)\n",
      "Requirement already satisfied: pandocfilters>=1.4.1 in /home/phuc/.conda/envs/min_ds-env/lib/python3.8/site-packages (from nbconvert->notebook>=4.4.1->widgetsnbextension~=3.5.0->ipywidgets) (1.5.0)\n",
      "Requirement already satisfied: pycparser in /home/phuc/.conda/envs/min_ds-env/lib/python3.8/site-packages (from cffi>=1.0.0->argon2-cffi->notebook>=4.4.1->widgetsnbextension~=3.5.0->ipywidgets) (2.21)\n"
     ]
    },
    {
     "name": "stdout",
     "output_type": "stream",
     "text": [
      "Requirement already satisfied: webencodings in /home/phuc/.conda/envs/min_ds-env/lib/python3.8/site-packages (from bleach->nbconvert->notebook>=4.4.1->widgetsnbextension~=3.5.0->ipywidgets) (0.5.1)\r\n",
      "Requirement already satisfied: packaging in /home/phuc/.conda/envs/min_ds-env/lib/python3.8/site-packages (from bleach->nbconvert->notebook>=4.4.1->widgetsnbextension~=3.5.0->ipywidgets) (21.3)\r\n",
      "Requirement already satisfied: pyparsing!=3.0.5,>=2.0.2 in /home/phuc/.conda/envs/min_ds-env/lib/python3.8/site-packages (from packaging->bleach->nbconvert->notebook>=4.4.1->widgetsnbextension~=3.5.0->ipywidgets) (3.0.6)\r\n"
     ]
    }
   ],
   "source": [
    "!pip install ipywidgets"
   ]
  },
  {
   "cell_type": "code",
   "execution_count": 2,
   "metadata": {},
   "outputs": [
    {
     "name": "stdout",
     "output_type": "stream",
     "text": [
      "Enabling notebook extension jupyter-js-widgets/extension...\r\n",
      "      - Validating: \u001b[32mOK\u001b[0m\r\n"
     ]
    }
   ],
   "source": [
    "!jupyter nbextension enable --py --sys-prefix widgetsnbextension"
   ]
  },
  {
   "cell_type": "code",
   "execution_count": 3,
   "metadata": {},
   "outputs": [],
   "source": [
    "import pandas as pd\n",
    "import matplotlib.pyplot as plt\n",
    "import numpy as np\n",
    "import seaborn as sns\n",
    "import matplotlib.patches as mpatches\n",
    "from ipywidgets import interact, fixed"
   ]
  },
  {
   "cell_type": "markdown",
   "metadata": {
    "heading_collapsed": true
   },
   "source": [
    "## Thu thập dữ liệu"
   ]
  },
  {
   "cell_type": "markdown",
   "metadata": {},
   "source": [
    "Trong đồ án lần này nhóm chúng em sử dụng bộ dữ liệu thông tin các **Ứng dụng trên Google Play Store**. <br>\n",
    "Bộ dữ liệu được tạo vào 05/04/19 và cập nhật lần cuối vào 16/06/21 trên trang Kaggle, [đường dẫn](https://www.kaggle.com/gauthamp10/google-playstore-apps). Bộ dữ liệu được thu thập bằng cách crawl từ trang web của Google Play sử dụng tool Scrapy chạy trên cloud VM và có chứa nhiều thông tin liên quan đến ứng dụng như tên, kích thước, rating,..."
   ]
  },
  {
   "cell_type": "markdown",
   "metadata": {},
   "source": [
    "## Khám phá dữ liệu"
   ]
  },
  {
   "cell_type": "markdown",
   "metadata": {},
   "source": [
    "### Đọc dữ liệu từ file .csv vào Dataframe"
   ]
  },
  {
   "cell_type": "code",
   "execution_count": 4,
   "metadata": {},
   "outputs": [
    {
     "data": {
      "text/html": [
       "<div>\n",
       "<style scoped>\n",
       "    .dataframe tbody tr th:only-of-type {\n",
       "        vertical-align: middle;\n",
       "    }\n",
       "\n",
       "    .dataframe tbody tr th {\n",
       "        vertical-align: top;\n",
       "    }\n",
       "\n",
       "    .dataframe thead th {\n",
       "        text-align: right;\n",
       "    }\n",
       "</style>\n",
       "<table border=\"1\" class=\"dataframe\">\n",
       "  <thead>\n",
       "    <tr style=\"text-align: right;\">\n",
       "      <th></th>\n",
       "      <th>App Name</th>\n",
       "      <th>App Id</th>\n",
       "      <th>Category</th>\n",
       "      <th>Rating</th>\n",
       "      <th>Rating Count</th>\n",
       "      <th>Installs</th>\n",
       "      <th>Minimum Installs</th>\n",
       "      <th>Maximum Installs</th>\n",
       "      <th>Free</th>\n",
       "      <th>Price</th>\n",
       "      <th>...</th>\n",
       "      <th>Developer Website</th>\n",
       "      <th>Developer Email</th>\n",
       "      <th>Released</th>\n",
       "      <th>Last Updated</th>\n",
       "      <th>Content Rating</th>\n",
       "      <th>Privacy Policy</th>\n",
       "      <th>Ad Supported</th>\n",
       "      <th>In App Purchases</th>\n",
       "      <th>Editors Choice</th>\n",
       "      <th>Scraped Time</th>\n",
       "    </tr>\n",
       "  </thead>\n",
       "  <tbody>\n",
       "    <tr>\n",
       "      <th>0</th>\n",
       "      <td>Gakondo</td>\n",
       "      <td>com.ishakwe.gakondo</td>\n",
       "      <td>Adventure</td>\n",
       "      <td>0.0</td>\n",
       "      <td>0.0</td>\n",
       "      <td>10+</td>\n",
       "      <td>10.0</td>\n",
       "      <td>15</td>\n",
       "      <td>True</td>\n",
       "      <td>0.0</td>\n",
       "      <td>...</td>\n",
       "      <td>https://beniyizibyose.tk/#/</td>\n",
       "      <td>jean21101999@gmail.com</td>\n",
       "      <td>Feb 26, 2020</td>\n",
       "      <td>Feb 26, 2020</td>\n",
       "      <td>Everyone</td>\n",
       "      <td>https://beniyizibyose.tk/projects/</td>\n",
       "      <td>False</td>\n",
       "      <td>False</td>\n",
       "      <td>False</td>\n",
       "      <td>2021-06-15 20:19:35</td>\n",
       "    </tr>\n",
       "    <tr>\n",
       "      <th>1</th>\n",
       "      <td>Ampere Battery Info</td>\n",
       "      <td>com.webserveis.batteryinfo</td>\n",
       "      <td>Tools</td>\n",
       "      <td>4.4</td>\n",
       "      <td>64.0</td>\n",
       "      <td>5,000+</td>\n",
       "      <td>5000.0</td>\n",
       "      <td>7662</td>\n",
       "      <td>True</td>\n",
       "      <td>0.0</td>\n",
       "      <td>...</td>\n",
       "      <td>https://webserveis.netlify.app/</td>\n",
       "      <td>webserveis@gmail.com</td>\n",
       "      <td>May 21, 2020</td>\n",
       "      <td>May 06, 2021</td>\n",
       "      <td>Everyone</td>\n",
       "      <td>https://dev4phones.wordpress.com/licencia-de-uso/</td>\n",
       "      <td>True</td>\n",
       "      <td>False</td>\n",
       "      <td>False</td>\n",
       "      <td>2021-06-15 20:19:35</td>\n",
       "    </tr>\n",
       "    <tr>\n",
       "      <th>2</th>\n",
       "      <td>Vibook</td>\n",
       "      <td>com.doantiepvien.crm</td>\n",
       "      <td>Productivity</td>\n",
       "      <td>0.0</td>\n",
       "      <td>0.0</td>\n",
       "      <td>50+</td>\n",
       "      <td>50.0</td>\n",
       "      <td>58</td>\n",
       "      <td>True</td>\n",
       "      <td>0.0</td>\n",
       "      <td>...</td>\n",
       "      <td>NaN</td>\n",
       "      <td>vnacrewit@gmail.com</td>\n",
       "      <td>Aug 9, 2019</td>\n",
       "      <td>Aug 19, 2019</td>\n",
       "      <td>Everyone</td>\n",
       "      <td>https://www.vietnamairlines.com/vn/en/terms-an...</td>\n",
       "      <td>False</td>\n",
       "      <td>False</td>\n",
       "      <td>False</td>\n",
       "      <td>2021-06-15 20:19:35</td>\n",
       "    </tr>\n",
       "    <tr>\n",
       "      <th>3</th>\n",
       "      <td>Smart City Trichy Public Service Vehicles 17UC...</td>\n",
       "      <td>cst.stJoseph.ug17ucs548</td>\n",
       "      <td>Communication</td>\n",
       "      <td>5.0</td>\n",
       "      <td>5.0</td>\n",
       "      <td>10+</td>\n",
       "      <td>10.0</td>\n",
       "      <td>19</td>\n",
       "      <td>True</td>\n",
       "      <td>0.0</td>\n",
       "      <td>...</td>\n",
       "      <td>http://www.climatesmarttech.com/</td>\n",
       "      <td>climatesmarttech2@gmail.com</td>\n",
       "      <td>Sep 10, 2018</td>\n",
       "      <td>Oct 13, 2018</td>\n",
       "      <td>Everyone</td>\n",
       "      <td>NaN</td>\n",
       "      <td>True</td>\n",
       "      <td>False</td>\n",
       "      <td>False</td>\n",
       "      <td>2021-06-15 20:19:35</td>\n",
       "    </tr>\n",
       "    <tr>\n",
       "      <th>4</th>\n",
       "      <td>GROW.me</td>\n",
       "      <td>com.horodyski.grower</td>\n",
       "      <td>Tools</td>\n",
       "      <td>0.0</td>\n",
       "      <td>0.0</td>\n",
       "      <td>100+</td>\n",
       "      <td>100.0</td>\n",
       "      <td>478</td>\n",
       "      <td>True</td>\n",
       "      <td>0.0</td>\n",
       "      <td>...</td>\n",
       "      <td>http://www.horodyski.com.pl</td>\n",
       "      <td>rmilekhorodyski@gmail.com</td>\n",
       "      <td>Feb 21, 2020</td>\n",
       "      <td>Nov 12, 2018</td>\n",
       "      <td>Everyone</td>\n",
       "      <td>http://www.horodyski.com.pl</td>\n",
       "      <td>False</td>\n",
       "      <td>False</td>\n",
       "      <td>False</td>\n",
       "      <td>2021-06-15 20:19:35</td>\n",
       "    </tr>\n",
       "  </tbody>\n",
       "</table>\n",
       "<p>5 rows × 24 columns</p>\n",
       "</div>"
      ],
      "text/plain": [
       "                                            App Name  \\\n",
       "0                                            Gakondo   \n",
       "1                                Ampere Battery Info   \n",
       "2                                             Vibook   \n",
       "3  Smart City Trichy Public Service Vehicles 17UC...   \n",
       "4                                            GROW.me   \n",
       "\n",
       "                       App Id       Category  Rating  Rating Count Installs  \\\n",
       "0         com.ishakwe.gakondo      Adventure     0.0           0.0      10+   \n",
       "1  com.webserveis.batteryinfo          Tools     4.4          64.0   5,000+   \n",
       "2        com.doantiepvien.crm   Productivity     0.0           0.0      50+   \n",
       "3     cst.stJoseph.ug17ucs548  Communication     5.0           5.0      10+   \n",
       "4        com.horodyski.grower          Tools     0.0           0.0     100+   \n",
       "\n",
       "   Minimum Installs  Maximum Installs  Free  Price  ...  \\\n",
       "0              10.0                15  True    0.0  ...   \n",
       "1            5000.0              7662  True    0.0  ...   \n",
       "2              50.0                58  True    0.0  ...   \n",
       "3              10.0                19  True    0.0  ...   \n",
       "4             100.0               478  True    0.0  ...   \n",
       "\n",
       "                  Developer Website              Developer Email  \\\n",
       "0       https://beniyizibyose.tk/#/       jean21101999@gmail.com   \n",
       "1   https://webserveis.netlify.app/         webserveis@gmail.com   \n",
       "2                               NaN          vnacrewit@gmail.com   \n",
       "3  http://www.climatesmarttech.com/  climatesmarttech2@gmail.com   \n",
       "4       http://www.horodyski.com.pl    rmilekhorodyski@gmail.com   \n",
       "\n",
       "       Released  Last Updated Content Rating  \\\n",
       "0  Feb 26, 2020  Feb 26, 2020       Everyone   \n",
       "1  May 21, 2020  May 06, 2021       Everyone   \n",
       "2   Aug 9, 2019  Aug 19, 2019       Everyone   \n",
       "3  Sep 10, 2018  Oct 13, 2018       Everyone   \n",
       "4  Feb 21, 2020  Nov 12, 2018       Everyone   \n",
       "\n",
       "                                      Privacy Policy Ad Supported  \\\n",
       "0                 https://beniyizibyose.tk/projects/        False   \n",
       "1  https://dev4phones.wordpress.com/licencia-de-uso/         True   \n",
       "2  https://www.vietnamairlines.com/vn/en/terms-an...        False   \n",
       "3                                                NaN         True   \n",
       "4                        http://www.horodyski.com.pl        False   \n",
       "\n",
       "  In App Purchases Editors Choice         Scraped Time  \n",
       "0            False          False  2021-06-15 20:19:35  \n",
       "1            False          False  2021-06-15 20:19:35  \n",
       "2            False          False  2021-06-15 20:19:35  \n",
       "3            False          False  2021-06-15 20:19:35  \n",
       "4            False          False  2021-06-15 20:19:35  \n",
       "\n",
       "[5 rows x 24 columns]"
      ]
     },
     "execution_count": 4,
     "metadata": {},
     "output_type": "execute_result"
    }
   ],
   "source": [
    "gps_df = pd.read_csv('Google-Playstore.csv')\n",
    "gps_df.head()"
   ]
  },
  {
   "cell_type": "markdown",
   "metadata": {},
   "source": [
    "### Dữ liệu gồm bao nhiêu dòng và cột?"
   ]
  },
  {
   "cell_type": "code",
   "execution_count": 5,
   "metadata": {},
   "outputs": [
    {
     "name": "stdout",
     "output_type": "stream",
     "text": [
      "Bộ dữ liệu có 2312944 dòng và 24 cột\n"
     ]
    }
   ],
   "source": [
    "num_rows, num_cols = gps_df.shape\n",
    "print('Bộ dữ liệu có {} dòng và {} cột'.format(num_rows, num_cols))"
   ]
  },
  {
   "cell_type": "markdown",
   "metadata": {},
   "source": [
    "### Mỗi dòng có ý nghĩa gì? Có vấn đề các dòng có ý nghĩa khác nhau không?"
   ]
  },
  {
   "cell_type": "markdown",
   "metadata": {},
   "source": [
    "Mỗi dòng là chi tiết thông tin của một ứng dụng trên Google Play Store. Có vẻ không có dòng nào có ý nghĩa khác."
   ]
  },
  {
   "cell_type": "markdown",
   "metadata": {},
   "source": [
    "### Dữ liệu có các dòng bị lặp không?"
   ]
  },
  {
   "cell_type": "code",
   "execution_count": 6,
   "metadata": {},
   "outputs": [
    {
     "name": "stdout",
     "output_type": "stream",
     "text": [
      "Có 0 dòng bị lặp.\n"
     ]
    }
   ],
   "source": [
    "duplicated_rows = gps_df.duplicated()\n",
    "num_duplicated_rows = len(gps_df[duplicated_rows])\n",
    "print(\"Có {} dòng bị lặp.\".format(num_duplicated_rows))"
   ]
  },
  {
   "cell_type": "markdown",
   "metadata": {},
   "source": [
    "### Mỗi cột có ý nghĩa gì?"
   ]
  },
  {
   "cell_type": "markdown",
   "metadata": {},
   "source": [
    "Dưới đây là phần mô tả của tác giả về các cột trong file \"Google-Playstore.csv\":\n",
    "\n",
    "- **App Name**: tên ứng dụng.\n",
    "- **App Id**:  id của ứng dụng.\n",
    "- **Category**: thể loại ứng dụng.\n",
    "- **Rating**: chỉ số đánh giá trung bình.\n",
    "- **Rating Count**: số lượt đánh giá.\n",
    "- **Installs**: số lượt tải.\n",
    "- **Minimum Installs**: số lượt tải tối thiểu.\n",
    "- **Maximum Installs**: số lượt tải tối đa.\n",
    "- **Free**: ứng dụng là mĩễn phí hay trả tiền.\n",
    "- **Price**: giá ứng dụng.\n",
    "- **Currency**: loại đồng tiền dùng để thanh toán.\n",
    "- **Size**: kích cỡ ứng dụng\n",
    "- **Minimum Android**: phiên bản android tối thiểu để chạy ứng dụng.\n",
    "- **Developer Id**: ID của nhà phát triển.\n",
    "- **Developer Website**: Web của nhà phát triển.\n",
    "- **Developer Email**: Email của nhà phát triển.\n",
    "- **Released**: Ngày phát hành của ứng dụng.\n",
    "- **Last Updated**: Ngày cập nhật ứng dụng gần đây nhất.\n",
    "- **Content Rating**: Đánh giá nội dung ứng dụng theo chính sách Google Play.\n",
    "- **Privacy Policy**: Chính sách bảo mật.\n",
    "- **Ad Supported**: Ứng dụng có quảng cáo không.\n",
    "- **In app purchases**: Có thực hiện việc mua bán trong ứng dụng không.\n",
    "- **Editor Choice**: Có được đánh giá chuẩn Editor Choice the Google Play không?\n",
    "- **Scraped Time**: thời gian thu nhập dữ liệu (GMT)"
   ]
  },
  {
   "cell_type": "markdown",
   "metadata": {},
   "source": [
    "### Mỗi cột hiện đang có kiểu dữ liệu gì? Có cột nào có kiểu dữ liệu chưa phù hợp để có thể xử lý tiếp không?"
   ]
  },
  {
   "cell_type": "code",
   "execution_count": 7,
   "metadata": {},
   "outputs": [
    {
     "data": {
      "text/plain": [
       "App Name              object\n",
       "App Id                object\n",
       "Category              object\n",
       "Rating               float64\n",
       "Rating Count         float64\n",
       "Installs              object\n",
       "Minimum Installs     float64\n",
       "Maximum Installs       int64\n",
       "Free                    bool\n",
       "Price                float64\n",
       "Currency              object\n",
       "Size                  object\n",
       "Minimum Android       object\n",
       "Developer Id          object\n",
       "Developer Website     object\n",
       "Developer Email       object\n",
       "Released              object\n",
       "Last Updated          object\n",
       "Content Rating        object\n",
       "Privacy Policy        object\n",
       "Ad Supported            bool\n",
       "In App Purchases        bool\n",
       "Editors Choice          bool\n",
       "Scraped Time          object\n",
       "dtype: object"
      ]
     },
     "execution_count": 7,
     "metadata": {},
     "output_type": "execute_result"
    }
   ],
   "source": [
    "col_dtypes = gps_df.dtypes\n",
    "col_dtypes"
   ]
  },
  {
   "cell_type": "markdown",
   "metadata": {},
   "source": [
    "- Các cột `Rating`, `Rating Count`, `Minium Installs`, `Maximum Installs` `Price` có dạng numerical.\n",
    "- Các cột `Free`, `Ad Supported`, `In App Purchases`, `Editors Choice` có kiểu `bool` thuộc dạng categorical.\n",
    "- Các cột còn lại đều có kiểu là `object`. Do không có cảnh báo về mixed typed. Dự đoán các cột này có kiểu dữ liệu thật là `string`. Ta quan sát kỹ thêm một chút các cột này để xử lý."
   ]
  },
  {
   "cell_type": "markdown",
   "metadata": {},
   "source": [
    "#### Quan sát thêm các cột có kiểu `object`"
   ]
  },
  {
   "cell_type": "markdown",
   "metadata": {},
   "source": [
    "Các hàm hỗ trợ:"
   ]
  },
  {
   "cell_type": "code",
   "execution_count": 8,
   "metadata": {},
   "outputs": [],
   "source": [
    "def missing_ratio(s):\n",
    "    return s.isna().mean() * 100\n",
    "def num_diff_vals(s):\n",
    "    return s.nunique()\n",
    "def diff_vals(s):\n",
    "    return s.dropna().unique()"
   ]
  },
  {
   "cell_type": "markdown",
   "metadata": {},
   "source": [
    "Quan sát các cột có kiểu dữ liệu `object`."
   ]
  },
  {
   "cell_type": "code",
   "execution_count": 9,
   "metadata": {},
   "outputs": [
    {
     "data": {
      "text/html": [
       "<div>\n",
       "<style scoped>\n",
       "    .dataframe tbody tr th:only-of-type {\n",
       "        vertical-align: middle;\n",
       "    }\n",
       "\n",
       "    .dataframe tbody tr th {\n",
       "        vertical-align: top;\n",
       "    }\n",
       "\n",
       "    .dataframe thead th {\n",
       "        text-align: right;\n",
       "    }\n",
       "</style>\n",
       "<table border=\"1\" class=\"dataframe\">\n",
       "  <thead>\n",
       "    <tr style=\"text-align: right;\">\n",
       "      <th></th>\n",
       "      <th>App Name</th>\n",
       "      <th>App Id</th>\n",
       "      <th>Category</th>\n",
       "      <th>Installs</th>\n",
       "      <th>Currency</th>\n",
       "      <th>Size</th>\n",
       "      <th>Minimum Android</th>\n",
       "      <th>Developer Id</th>\n",
       "      <th>Developer Website</th>\n",
       "      <th>Developer Email</th>\n",
       "      <th>Released</th>\n",
       "      <th>Last Updated</th>\n",
       "      <th>Content Rating</th>\n",
       "      <th>Privacy Policy</th>\n",
       "      <th>Scraped Time</th>\n",
       "    </tr>\n",
       "  </thead>\n",
       "  <tbody>\n",
       "    <tr>\n",
       "      <th>missing_ratio</th>\n",
       "      <td>0.000086</td>\n",
       "      <td>0.0</td>\n",
       "      <td>0.0</td>\n",
       "      <td>0.004626</td>\n",
       "      <td>0.005837</td>\n",
       "      <td>0.008474</td>\n",
       "      <td>0.282324</td>\n",
       "      <td>0.001427</td>\n",
       "      <td>32.894657</td>\n",
       "      <td>0.00134</td>\n",
       "      <td>3.071972</td>\n",
       "      <td>0.0</td>\n",
       "      <td>0.0</td>\n",
       "      <td>18.199879</td>\n",
       "      <td>0.0</td>\n",
       "    </tr>\n",
       "    <tr>\n",
       "      <th>num_diff_vals</th>\n",
       "      <td>2177944</td>\n",
       "      <td>2312944</td>\n",
       "      <td>48</td>\n",
       "      <td>22</td>\n",
       "      <td>15</td>\n",
       "      <td>1657</td>\n",
       "      <td>154</td>\n",
       "      <td>758371</td>\n",
       "      <td>810440</td>\n",
       "      <td>950456</td>\n",
       "      <td>4158</td>\n",
       "      <td>3918</td>\n",
       "      <td>6</td>\n",
       "      <td>977743</td>\n",
       "      <td>67374</td>\n",
       "    </tr>\n",
       "    <tr>\n",
       "      <th>diff_vals</th>\n",
       "      <td>[Gakondo, Ampere Battery Info, Vibook, Smart C...</td>\n",
       "      <td>[com.ishakwe.gakondo, com.webserveis.batteryin...</td>\n",
       "      <td>[Adventure, Tools, Productivity, Communication...</td>\n",
       "      <td>[10+, 5,000+, 50+, 100+, 1,000+, 500+, 50,000+...</td>\n",
       "      <td>[USD, XXX, CAD, EUR, INR, VND, GBP, BRL, KRW, ...</td>\n",
       "      <td>[10M, 2.9M, 3.7M, 1.8M, 6.2M, 46M, 2.5M, 16M, ...</td>\n",
       "      <td>[7.1 and up, 5.0 and up, 4.0.3 and up, 4.1 and...</td>\n",
       "      <td>[Jean Confident Irénée NIYIZIBYOSE, Webserveis...</td>\n",
       "      <td>[https://beniyizibyose.tk/#/, https://webserve...</td>\n",
       "      <td>[jean21101999@gmail.com, webserveis@gmail.com,...</td>\n",
       "      <td>[Feb 26, 2020, May 21, 2020, Aug 9, 2019, Sep ...</td>\n",
       "      <td>[Feb 26, 2020, May 06, 2021, Aug 19, 2019, Oct...</td>\n",
       "      <td>[Everyone, Teen, Mature 17+, Everyone 10+, Adu...</td>\n",
       "      <td>[https://beniyizibyose.tk/projects/, https://d...</td>\n",
       "      <td>[2021-06-15 20:19:35, 2021-06-15 20:19:36, 202...</td>\n",
       "    </tr>\n",
       "  </tbody>\n",
       "</table>\n",
       "</div>"
      ],
      "text/plain": [
       "                                                        App Name  \\\n",
       "missing_ratio                                           0.000086   \n",
       "num_diff_vals                                            2177944   \n",
       "diff_vals      [Gakondo, Ampere Battery Info, Vibook, Smart C...   \n",
       "\n",
       "                                                          App Id  \\\n",
       "missing_ratio                                                0.0   \n",
       "num_diff_vals                                            2312944   \n",
       "diff_vals      [com.ishakwe.gakondo, com.webserveis.batteryin...   \n",
       "\n",
       "                                                        Category  \\\n",
       "missing_ratio                                                0.0   \n",
       "num_diff_vals                                                 48   \n",
       "diff_vals      [Adventure, Tools, Productivity, Communication...   \n",
       "\n",
       "                                                        Installs  \\\n",
       "missing_ratio                                           0.004626   \n",
       "num_diff_vals                                                 22   \n",
       "diff_vals      [10+, 5,000+, 50+, 100+, 1,000+, 500+, 50,000+...   \n",
       "\n",
       "                                                        Currency  \\\n",
       "missing_ratio                                           0.005837   \n",
       "num_diff_vals                                                 15   \n",
       "diff_vals      [USD, XXX, CAD, EUR, INR, VND, GBP, BRL, KRW, ...   \n",
       "\n",
       "                                                            Size  \\\n",
       "missing_ratio                                           0.008474   \n",
       "num_diff_vals                                               1657   \n",
       "diff_vals      [10M, 2.9M, 3.7M, 1.8M, 6.2M, 46M, 2.5M, 16M, ...   \n",
       "\n",
       "                                                 Minimum Android  \\\n",
       "missing_ratio                                           0.282324   \n",
       "num_diff_vals                                                154   \n",
       "diff_vals      [7.1 and up, 5.0 and up, 4.0.3 and up, 4.1 and...   \n",
       "\n",
       "                                                    Developer Id  \\\n",
       "missing_ratio                                           0.001427   \n",
       "num_diff_vals                                             758371   \n",
       "diff_vals      [Jean Confident Irénée NIYIZIBYOSE, Webserveis...   \n",
       "\n",
       "                                               Developer Website  \\\n",
       "missing_ratio                                          32.894657   \n",
       "num_diff_vals                                             810440   \n",
       "diff_vals      [https://beniyizibyose.tk/#/, https://webserve...   \n",
       "\n",
       "                                                 Developer Email  \\\n",
       "missing_ratio                                            0.00134   \n",
       "num_diff_vals                                             950456   \n",
       "diff_vals      [jean21101999@gmail.com, webserveis@gmail.com,...   \n",
       "\n",
       "                                                        Released  \\\n",
       "missing_ratio                                           3.071972   \n",
       "num_diff_vals                                               4158   \n",
       "diff_vals      [Feb 26, 2020, May 21, 2020, Aug 9, 2019, Sep ...   \n",
       "\n",
       "                                                    Last Updated  \\\n",
       "missing_ratio                                                0.0   \n",
       "num_diff_vals                                               3918   \n",
       "diff_vals      [Feb 26, 2020, May 06, 2021, Aug 19, 2019, Oct...   \n",
       "\n",
       "                                                  Content Rating  \\\n",
       "missing_ratio                                                0.0   \n",
       "num_diff_vals                                                  6   \n",
       "diff_vals      [Everyone, Teen, Mature 17+, Everyone 10+, Adu...   \n",
       "\n",
       "                                                  Privacy Policy  \\\n",
       "missing_ratio                                          18.199879   \n",
       "num_diff_vals                                             977743   \n",
       "diff_vals      [https://beniyizibyose.tk/projects/, https://d...   \n",
       "\n",
       "                                                    Scraped Time  \n",
       "missing_ratio                                                0.0  \n",
       "num_diff_vals                                              67374  \n",
       "diff_vals      [2021-06-15 20:19:35, 2021-06-15 20:19:36, 202...  "
      ]
     },
     "execution_count": 9,
     "metadata": {},
     "output_type": "execute_result"
    }
   ],
   "source": [
    "object_col_df = gps_df[['App Name', 'App Id', 'Category', 'Installs', 'Currency',\n",
    "       'Size', 'Minimum Android', 'Developer Id', 'Developer Website',\n",
    "       'Developer Email', 'Released', 'Last Updated', 'Content Rating',\n",
    "       'Privacy Policy',\n",
    "       'Scraped Time']]\n",
    "object_col_profiles_df = object_col_df.agg([missing_ratio, num_diff_vals, diff_vals])\n",
    "object_col_profiles_df"
   ]
  },
  {
   "cell_type": "markdown",
   "metadata": {},
   "source": [
    "Quan sát kỹ hơn cột `Minimum Android`"
   ]
  },
  {
   "cell_type": "code",
   "execution_count": 10,
   "metadata": {},
   "outputs": [
    {
     "data": {
      "text/plain": [
       "array(['7.1 and up', '5.0 and up', '4.0.3 and up', '4.1 and up',\n",
       "       '6.0 and up', '4.4 and up', '4.0 and up', '4.2 and up',\n",
       "       '2.1 and up', '7.0 and up', '2.2 and up', '2.3 and up',\n",
       "       '4.3 and up', '5.1 and up', '1.6 and up', '3.0 and up',\n",
       "       'Varies with device', '8.0 and up', '2.3.3 and up', '4.4W and up',\n",
       "       '3.2 and up', '1.5 and up', '4.0.3 - 7.1.1', '3.1 and up',\n",
       "       '2.0 and up', '1.0 and up', '1.1 and up', '2.0.1 and up',\n",
       "       '4.4 - 6.0', '2.1 - 4.4', '4.0 - 5.0', '2.0 - 2.3.4', '2.2 - 4.4',\n",
       "       '4.1 - 7.0', '4.1 - 6.0', '4.0 - 4.4W', '4.0 - 4.4', '4.0.3 - 7.0',\n",
       "       '2.3 - 5.0', '4.0 - 7.1.1', '4.1 - 7.1.1', '4.0 - 7.0',\n",
       "       '4.1 - 8.0', '4.0 - 6.0', '2.3 - 7.0', '4.0 - 8.0', '2.3 - 6.0',\n",
       "       '2.1 - 2.3.4', '3.0 - 4.1.1', '2.2 - 3.0', '2.0 - 8.0',\n",
       "       '4.0.3 - 8.0', '3.0 - 4.4W', '4.4 - 7.1.1', '4.4 - 8.0',\n",
       "       '4.0.3 - 6.0', '1.6 - 4.0.4', '8.0', '2.3 - 5.1', '2.1 - 7.1.1',\n",
       "       '2.3 - 4.4W', '4.4 - 7.0', '6.0 - 7.1.1', '2.3 - 4.4',\n",
       "       '2.2 - 4.0.4', '2.1 - 4.1.1', '3.0 - 8.0', '3.0 - 5.1',\n",
       "       '2.1 - 6.0', '6.0 - 8.0', '5.0 - 8.0', '4.1 - 5.1', '3.2 - 4.4',\n",
       "       '2.1 - 5.0', '4.1 - 4.3', '5.0 - 6.0', '5.1 - 7.1.1', '2.2 - 5.1',\n",
       "       '4.1 - 5.0', '2.3.3 - 4.4', '2.2 - 5.0', '2.2', '4.1 - 4.4',\n",
       "       '1.6 - 5.1', '4.2 - 7.1.1', '2.1 - 5.1', '1.6 - 4.4W',\n",
       "       '4.3 - 4.4W', '3.0 - 4.4', '2.1 - 3.1', '2.3 - 7.1.1',\n",
       "       '1.6 - 4.0.2', '4.0 - 4.0.4', '4.2 - 4.4W', '3.0 - 7.1.1',\n",
       "       '3.2 - 7.1.1', '3.0 - 6.0', '2.2 - 4.4W', '4.0.3 - 4.4',\n",
       "       '4.0.3 - 5.1', '6.0', '4.3', '1.1 - 4.4', '2.3.3 - 8.0',\n",
       "       '2.3.3 - 5.0', '2.2 - 6.0', '3.0 - 5.0', '2.3.3 - 2.3.4',\n",
       "       '1.5 - 2.1', '2.2 - 3.2', '5.0 - 7.1.1', '2.1 - 3.2',\n",
       "       '4.2 - 4.2.2', '2.3.3 - 5.1', '2.2 - 4.1.1', '1.6 - 4.4',\n",
       "       '4.2 - 4.3', '4.0 - 5.1', '1.6 - 7.0', '3.0 - 7.0', '1.0 - 6.0',\n",
       "       '2.3.3 - 4.0.4', '2.3 - 3.2', '4.3 - 8.0', '2.3 - 8.0',\n",
       "       '3.2 - 6.0', '2.3.3 - 7.1.1', '4.2 - 8.0', '2.2 - 4.3',\n",
       "       '3.2 - 4.1.1', '4.4 - 5.1', '2.3 - 4.1.1', '2.1 - 4.4W', '4.4',\n",
       "       '2.3.3 - 4.4W', '4.1 - 4.4W', '1.6 - 7.1.1', '2.2 - 4.2.2',\n",
       "       '4.3 - 5.1', '4.0.3 - 4.2.2', '2.2 - 2.3.4', '4.3 - 4.4',\n",
       "       '4.2 - 6.0', '4.4 - 4.4W', '2.3 - 4.0.2', '3.2 - 5.1', '7.0',\n",
       "       '3.0 - 3.2', '1.6 - 4.2.2', '5.1', '1.5 - 3.2', '2.2 - 8.0',\n",
       "       '1.6 - 2.1', '2.3.3 - 6.0'], dtype=object)"
      ]
     },
     "execution_count": 10,
     "metadata": {},
     "output_type": "execute_result"
    }
   ],
   "source": [
    "object_col_profiles_df['Minimum Android']['diff_vals']"
   ]
  },
  {
   "cell_type": "markdown",
   "metadata": {},
   "source": [
    "Quan sát dữ liệu và dựa và ý nghĩa, ta thấy:\n",
    "- Các cột `App Name`, `App Id`, `Category`, `Currency`, `Developer Id`, `Developer Website`, `Developer Email`,`Content Rating`, `Privacy Policy`, chắc chắn được xếp vào categorical. \n",
    "- Các cột `Installs`: số lượt tải, `Size`: kích thước ứng dụng có thể được đưa sang kiểu số.\n",
    "- Các cột `Released`, `Last Updated`, `Scraped Time`: có thể chuyển về datetime.\n",
    "- Cột `Minimum Android` : là dữ liệu dạng khoảng, có thể tiền xử lý chia thành hai cột phiên bản hệ điều hành thấp nhất và cao nhất. Hai cột mới thêm vào có thể chuyển về dạng numerical, nhưng ta sẽ chưa chuyển vội. Sẽ tiền xử lý tiếp nếu thấy cần thiết."
   ]
  },
  {
   "cell_type": "markdown",
   "metadata": {},
   "source": [
    "#### Tiền xử lý"
   ]
  },
  {
   "cell_type": "markdown",
   "metadata": {},
   "source": [
    "Ta tiền xử lý chuyển dữ liệu các cột được phân loại là numerical có kiểu object về lại kiểu số."
   ]
  },
  {
   "cell_type": "markdown",
   "metadata": {},
   "source": [
    "##### Chuyển cột `Size` sang dạng số:\n",
    "Xem thử các pattern đứng sau dữ liệu số là gì:"
   ]
  },
  {
   "cell_type": "code",
   "execution_count": 11,
   "metadata": {},
   "outputs": [
    {
     "data": {
      "text/plain": [
       "{'G', 'M', 'Varies with device', 'k', nan}"
      ]
     },
     "execution_count": 11,
     "metadata": {},
     "output_type": "execute_result"
    }
   ],
   "source": [
    "set(gps_df['Size'].str.extract(r'([^\\d]+)$', expand=False).values)"
   ]
  },
  {
   "cell_type": "markdown",
   "metadata": {},
   "source": [
    "Ta chỉ chấp nhận các pattern string của cột `Size` có dạng là:\n",
    "- Chứa chuỗi: *Varies with device*\n",
    "- Kích thước dưới dạng: `{số}M` (số Megabyte của ứng dụng).\n",
    "- Kích thước dưới dạng: `{số}k` (số Kilobyte của ứng dụng). \n",
    "- Kích thước dưới dạng: `{số}G` (số Gigabyte của ứng dụng). \n",
    "Đếm xem thử có bao nhiêu dòng không có dạng như vậy:"
   ]
  },
  {
   "cell_type": "code",
   "execution_count": 12,
   "metadata": {},
   "outputs": [
    {
     "name": "stdout",
     "output_type": "stream",
     "text": [
      "Số dòng không chuyển đổi được:  196\n",
      "Các dòng không chuyển đổi được có các giá trị:  [nan]\n"
     ]
    }
   ],
   "source": [
    "out_of_pattern_rows = gps_df['Size'].str.replace(',','').str.extract(r'((?:Varies with device)|(?:\\d+.\\d+[MGk])|(?:\\d+[MGk]))', expand=False).isna()\n",
    "print(\"Số dòng không chuyển đổi được: \", len(gps_df[out_of_pattern_rows]))\n",
    "print(\"Các dòng không chuyển đổi được có các giá trị: \",gps_df[out_of_pattern_rows]['Size'].unique())"
   ]
  },
  {
   "cell_type": "markdown",
   "metadata": {},
   "source": [
    "Chỉ có **196** dòng lạc loài do chúng mang giá trị \"nan\" cũng không đáng kể."
   ]
  },
  {
   "cell_type": "markdown",
   "metadata": {},
   "source": [
    "Mặc dù ý nghĩa của 'Varies with device' và không theo pattern là khác nhau. Trong đồ án này nhóm chúng em xem hai giá trị này là tương đương nhau là không thu thập được và để giá trị `N/A` cho chúng."
   ]
  },
  {
   "cell_type": "code",
   "execution_count": 13,
   "metadata": {},
   "outputs": [],
   "source": [
    "gps_df.loc[out_of_pattern_rows,'Size'] = np.nan\n",
    "gps_df.loc[gps_df['Size']=='Varies with device','Size'] = np.nan"
   ]
  },
  {
   "cell_type": "markdown",
   "metadata": {},
   "source": [
    "Tách phần số của cột `Size`"
   ]
  },
  {
   "cell_type": "code",
   "execution_count": 14,
   "metadata": {},
   "outputs": [],
   "source": [
    "size_nums = gps_df['Size'].str.replace(',','').str.extract(r'((?:\\d+.\\d+)|(?:\\d+))', expand=False).astype('float64')"
   ]
  },
  {
   "cell_type": "markdown",
   "metadata": {},
   "source": [
    "Các dòng có đơn vị là KB và GB cần được chuyển đổi về cùng đơn vị MB."
   ]
  },
  {
   "cell_type": "code",
   "execution_count": 15,
   "metadata": {},
   "outputs": [],
   "source": [
    "size_nums[gps_df['Size'].str[-1]=='k'] *= (1/1024)\n",
    "size_nums[gps_df['Size'].str[-1]=='G'] *= 1024"
   ]
  },
  {
   "cell_type": "markdown",
   "metadata": {},
   "source": [
    "Gán lại vào Dataframe chính."
   ]
  },
  {
   "cell_type": "code",
   "execution_count": 16,
   "metadata": {},
   "outputs": [],
   "source": [
    "gps_df['Size'] = size_nums"
   ]
  },
  {
   "cell_type": "markdown",
   "metadata": {},
   "source": [
    "##### Chuyển cột `Installs` sang dạng số: \n",
    "Ta chỉ chấp nhận các pattern string của cột `Installs` có dạng là: số nguyên và dấu cộng \"+\" liền sau đó. (1000+, 1000,000+,...). Đếm xem thử có bao nhiêu dòng không có dạng như vậy:"
   ]
  },
  {
   "cell_type": "code",
   "execution_count": 17,
   "metadata": {
    "scrolled": true
   },
   "outputs": [
    {
     "name": "stdout",
     "output_type": "stream",
     "text": [
      "Số dòng không chuyển đổi được:  107\n",
      "Các dòng không chuyển đổi được có các giá trị:  [nan]\n"
     ]
    }
   ],
   "source": [
    "out_of_pattern_rows = gps_df['Installs'].str.replace(',','').str.extract(r'((?:\\d+[+]))', expand=False).isna()\n",
    "print(\"Số dòng không chuyển đổi được: \", len(gps_df[out_of_pattern_rows]))\n",
    "print(\"Các dòng không chuyển đổi được có các giá trị: \",gps_df[out_of_pattern_rows]['Installs'].unique())"
   ]
  },
  {
   "cell_type": "markdown",
   "metadata": {},
   "source": [
    "Chỉ có **107** dòng lạc loài, cũng không đáng kể, ta bỏ qua các dòng này và cho chúng bằng `N/A`."
   ]
  },
  {
   "cell_type": "code",
   "execution_count": 18,
   "metadata": {},
   "outputs": [],
   "source": [
    "gps_df.loc[out_of_pattern_rows,'Installs'] = np.nan"
   ]
  },
  {
   "cell_type": "markdown",
   "metadata": {},
   "source": [
    "Gán lại vào Dataframe chính:"
   ]
  },
  {
   "cell_type": "code",
   "execution_count": 19,
   "metadata": {},
   "outputs": [],
   "source": [
    "install_nums = gps_df['Installs'].str.replace(',','').str.extract(r'((?:\\d+))', expand=False).astype('float64')\n",
    "gps_df['Installs'] = install_nums"
   ]
  },
  {
   "cell_type": "markdown",
   "metadata": {},
   "source": [
    "##### Chuyển các cột `Released`, `Last Updated`, `Scraped Time` sang datetime."
   ]
  },
  {
   "cell_type": "markdown",
   "metadata": {},
   "source": [
    "Làm với cột `Released` trước:"
   ]
  },
  {
   "cell_type": "code",
   "execution_count": 20,
   "metadata": {},
   "outputs": [
    {
     "name": "stdout",
     "output_type": "stream",
     "text": [
      "Số dòng không chuyển đổi được:  71053\n",
      "Các dòng không chuyển đổi được có các giá trị:  [nan]\n"
     ]
    }
   ],
   "source": [
    "out_of_pattern_rows = pd.to_datetime(gps_df['Released'], format = '%b %d, %Y', errors = 'coerce').isna()\n",
    "print(\"Số dòng không chuyển đổi được: \", len(gps_df[out_of_pattern_rows]))\n",
    "print(\"Các dòng không chuyển đổi được có các giá trị: \",gps_df[out_of_pattern_rows]['Released'].unique())"
   ]
  },
  {
   "cell_type": "markdown",
   "metadata": {},
   "source": [
    "Có **71035** dòng dữ liệu không chuyển được. Cũng khá nhiều nhưng đều mang giá trị `N/A` nên có thể bỏ qua"
   ]
  },
  {
   "cell_type": "code",
   "execution_count": 21,
   "metadata": {},
   "outputs": [],
   "source": [
    "gps_df['Released'] = pd.to_datetime(gps_df['Released'], format = '%b %d, %Y', errors = 'coerce')"
   ]
  },
  {
   "cell_type": "markdown",
   "metadata": {},
   "source": [
    "Làm với cột `Last Updated`:"
   ]
  },
  {
   "cell_type": "code",
   "execution_count": 22,
   "metadata": {},
   "outputs": [
    {
     "name": "stdout",
     "output_type": "stream",
     "text": [
      "Số dòng không chuyển đổi được:  0\n",
      "Các dòng không chuyển đổi được có các giá trị:  []\n"
     ]
    }
   ],
   "source": [
    "out_of_pattern_rows = pd.to_datetime(gps_df['Last Updated'], format = '%b %d, %Y', errors = 'coerce').isna()\n",
    "print(\"Số dòng không chuyển đổi được: \", len(gps_df[out_of_pattern_rows]))\n",
    "print(\"Các dòng không chuyển đổi được có các giá trị: \",gps_df[out_of_pattern_rows]['Last Updated'].unique())"
   ]
  },
  {
   "cell_type": "code",
   "execution_count": 23,
   "metadata": {},
   "outputs": [],
   "source": [
    "gps_df['Last Updated'] = pd.to_datetime(gps_df['Last Updated'], format = '%b %d, %Y', errors = 'coerce')"
   ]
  },
  {
   "cell_type": "markdown",
   "metadata": {},
   "source": [
    "Làm với cột `Scraped Time`:"
   ]
  },
  {
   "cell_type": "code",
   "execution_count": 24,
   "metadata": {},
   "outputs": [
    {
     "name": "stdout",
     "output_type": "stream",
     "text": [
      "Số dòng không chuyển đổi được:  0\n",
      "Các dòng không chuyển đổi được có các giá trị:  []\n"
     ]
    }
   ],
   "source": [
    "out_of_pattern_rows = pd.to_datetime(gps_df['Scraped Time'], format = '%Y-%m-%d %H:%M:%S', errors = 'coerce').isna()\n",
    "print(\"Số dòng không chuyển đổi được: \", len(gps_df[out_of_pattern_rows]))\n",
    "print(\"Các dòng không chuyển đổi được có các giá trị: \",gps_df[out_of_pattern_rows]['Scraped Time'].unique())"
   ]
  },
  {
   "cell_type": "code",
   "execution_count": 25,
   "metadata": {},
   "outputs": [],
   "source": [
    "gps_df['Scraped Time'] = pd.to_datetime(gps_df['Scraped Time'], format = '%Y-%m-%d %H:%M:%S', errors = 'coerce')"
   ]
  },
  {
   "cell_type": "markdown",
   "metadata": {},
   "source": [
    "Tới đây ta đã giải quyết xong một số cột có dữ liệu `numerical` cần thiết. <br>\n",
    "##### Kiểm tra xem dữ liệu `numerical` đã hợp lý chưa?"
   ]
  },
  {
   "cell_type": "code",
   "execution_count": 26,
   "metadata": {},
   "outputs": [
    {
     "data": {
      "text/html": [
       "<div>\n",
       "<style scoped>\n",
       "    .dataframe tbody tr th:only-of-type {\n",
       "        vertical-align: middle;\n",
       "    }\n",
       "\n",
       "    .dataframe tbody tr th {\n",
       "        vertical-align: top;\n",
       "    }\n",
       "\n",
       "    .dataframe thead th {\n",
       "        text-align: right;\n",
       "    }\n",
       "</style>\n",
       "<table border=\"1\" class=\"dataframe\">\n",
       "  <thead>\n",
       "    <tr style=\"text-align: right;\">\n",
       "      <th></th>\n",
       "      <th>Rating</th>\n",
       "      <th>Rating Count</th>\n",
       "      <th>Installs</th>\n",
       "      <th>Size</th>\n",
       "      <th>Minimum Installs</th>\n",
       "      <th>Maximum Installs</th>\n",
       "      <th>Price</th>\n",
       "      <th>Released</th>\n",
       "      <th>Last Updated</th>\n",
       "      <th>Scraped Time</th>\n",
       "    </tr>\n",
       "  </thead>\n",
       "  <tbody>\n",
       "    <tr>\n",
       "      <th>missing_ratio</th>\n",
       "      <td>0.989345</td>\n",
       "      <td>9.893452e-01</td>\n",
       "      <td>4.626139e-03</td>\n",
       "      <td>3.241453</td>\n",
       "      <td>4.626139e-03</td>\n",
       "      <td>0.000000e+00</td>\n",
       "      <td>0.0</td>\n",
       "      <td>3.071972</td>\n",
       "      <td>0.0</td>\n",
       "      <td>0.0</td>\n",
       "    </tr>\n",
       "    <tr>\n",
       "      <th>min</th>\n",
       "      <td>0.000000</td>\n",
       "      <td>0.000000e+00</td>\n",
       "      <td>0.000000e+00</td>\n",
       "      <td>0.003125</td>\n",
       "      <td>0.000000e+00</td>\n",
       "      <td>0.000000e+00</td>\n",
       "      <td>0.0</td>\n",
       "      <td>2010-01-28 00:00:00</td>\n",
       "      <td>2009-02-09 00:00:00</td>\n",
       "      <td>2021-06-15 20:19:35</td>\n",
       "    </tr>\n",
       "    <tr>\n",
       "      <th>max</th>\n",
       "      <td>5.000000</td>\n",
       "      <td>1.385576e+08</td>\n",
       "      <td>1.000000e+10</td>\n",
       "      <td>1536.000000</td>\n",
       "      <td>1.000000e+10</td>\n",
       "      <td>1.205763e+10</td>\n",
       "      <td>400.0</td>\n",
       "      <td>2021-06-16 00:00:00</td>\n",
       "      <td>2021-06-16 00:00:00</td>\n",
       "      <td>2021-06-16 15:10:42</td>\n",
       "    </tr>\n",
       "  </tbody>\n",
       "</table>\n",
       "</div>"
      ],
      "text/plain": [
       "                 Rating  Rating Count      Installs         Size  \\\n",
       "missing_ratio  0.989345  9.893452e-01  4.626139e-03     3.241453   \n",
       "min            0.000000  0.000000e+00  0.000000e+00     0.003125   \n",
       "max            5.000000  1.385576e+08  1.000000e+10  1536.000000   \n",
       "\n",
       "               Minimum Installs  Maximum Installs  Price             Released  \\\n",
       "missing_ratio      4.626139e-03      0.000000e+00    0.0             3.071972   \n",
       "min                0.000000e+00      0.000000e+00    0.0  2010-01-28 00:00:00   \n",
       "max                1.000000e+10      1.205763e+10  400.0  2021-06-16 00:00:00   \n",
       "\n",
       "                      Last Updated         Scraped Time  \n",
       "missing_ratio                  0.0                  0.0  \n",
       "min            2009-02-09 00:00:00  2021-06-15 20:19:35  \n",
       "max            2021-06-16 00:00:00  2021-06-16 15:10:42  "
      ]
     },
     "execution_count": 26,
     "metadata": {},
     "output_type": "execute_result"
    }
   ],
   "source": [
    "numerical_col_df = gps_df[['Rating', 'Rating Count', 'Installs', 'Size' ,'Minimum Installs', 'Maximum Installs', 'Price', 'Released', 'Last Updated', 'Scraped Time']]\n",
    "numerical_col_profiles_df = numerical_col_df.agg([missing_ratio, pd.Series.min, pd.Series.max])\n",
    "numerical_col_profiles_df"
   ]
  },
  {
   "cell_type": "markdown",
   "metadata": {},
   "source": [
    "Ba cột, `Installs`, `Minimum Installs`, và `Maximum Installs` được mô tả trong bộ dữ liệu không rõ ràng. Chúng em đã tìm thêm trên Internet nhưng chưa được kết quả mong muốn. Mà theo kết quả bên trên thì cột `Installs` và `Minimum Installs` có vẻ giống nhau về các tính chất. Nên ta sẽ quan sát thêm một chút ba cột này."
   ]
  },
  {
   "cell_type": "markdown",
   "metadata": {},
   "source": [
    "Kiểm tra hai cột `Installs` và `Minimum Installs` có giống nhau không?"
   ]
  },
  {
   "cell_type": "code",
   "execution_count": 27,
   "metadata": {},
   "outputs": [
    {
     "name": "stdout",
     "output_type": "stream",
     "text": [
      "Hai cột giống nhau: True\n"
     ]
    }
   ],
   "source": [
    "is_same = ((gps_df['Installs'] == gps_df['Minimum Installs']) | (gps_df['Installs'].isna() & gps_df['Minimum Installs'].isna())).all()\n",
    "print(\"Hai cột giống nhau: {}\".format(is_same))"
   ]
  },
  {
   "cell_type": "markdown",
   "metadata": {},
   "source": [
    "Xem thử các giá trị của `Installs`:"
   ]
  },
  {
   "cell_type": "code",
   "execution_count": 28,
   "metadata": {},
   "outputs": [
    {
     "data": {
      "text/plain": [
       "array([1.e+01, 5.e+03, 5.e+01, 1.e+02, 1.e+03, 5.e+02, 5.e+04, 1.e+04,\n",
       "       1.e+00, 5.e+05, 1.e+05, 5.e+00, 1.e+07, 1.e+06, 5.e+06, 0.e+00,\n",
       "       1.e+08,    nan, 5.e+07, 1.e+09, 5.e+08, 5.e+09, 1.e+10])"
      ]
     },
     "execution_count": 28,
     "metadata": {},
     "output_type": "execute_result"
    }
   ],
   "source": [
    "gps_df['Installs'].unique()"
   ]
  },
  {
   "cell_type": "markdown",
   "metadata": {},
   "source": [
    "Từ đây, nhóm em dự đoán khá chắc chắn là cột `Installs` thuộc dạng `categorical` cho biết mốc số lượt tải của ứng dụng. Cột `Minimum Installs` chỉ là cột `Installs` được tách ra dưới dạng số. Từ đây ta sẽ phân hai cột `Installs` và `Minumum Installs` vào dạng `categorical`."
   ]
  },
  {
   "cell_type": "markdown",
   "metadata": {},
   "source": [
    "Kiểm tra lại cột `Maximum Installs`:"
   ]
  },
  {
   "cell_type": "code",
   "execution_count": 29,
   "metadata": {},
   "outputs": [
    {
     "name": "stdout",
     "output_type": "stream",
     "text": [
      "Cột \"Maximum Installs\" có 251563 giá trị khác nhau.\n",
      "Các giá trị:  [     15    7662      58 ...  590469 7274660  814548]\n"
     ]
    }
   ],
   "source": [
    "print(\"Cột \\\"Maximum Installs\\\" có {} giá trị khác nhau.\".format(gps_df['Maximum Installs'].nunique()))\n",
    "print(\"Các giá trị: \", gps_df['Maximum Installs'].unique())"
   ]
  },
  {
   "cell_type": "markdown",
   "metadata": {},
   "source": [
    "Có thể cho rằng cột `Maximum Installs` là số lượt tải mà Google Play đã ghi nhận cho ứng dụng."
   ]
  },
  {
   "cell_type": "markdown",
   "metadata": {},
   "source": [
    "Tới đây nhóm chưa thấy thêm điểm gì bất thường. Ta sẽ tiếp tục xử lý cho các cột khác!"
   ]
  },
  {
   "cell_type": "markdown",
   "metadata": {},
   "source": [
    "##### Tách cột `Minimum Android` thành 2 cột là Min Android Ver và Max Android Ver"
   ]
  },
  {
   "cell_type": "code",
   "execution_count": 30,
   "metadata": {},
   "outputs": [],
   "source": [
    "android_ver_pattern_1 = gps_df['Minimum Android'].str.extract(r'((?:\\d.\\d.\\d)|(?:\\d.\\d))', expand = False)\n",
    "android_ver_pattern_2 = gps_df['Minimum Android'].str.extract(r'((?<=\\- ).*)', expand=False)"
   ]
  },
  {
   "cell_type": "code",
   "execution_count": 31,
   "metadata": {},
   "outputs": [],
   "source": [
    "gps_df['Min Android Ver'] = android_ver_pattern_1"
   ]
  },
  {
   "cell_type": "code",
   "execution_count": 32,
   "metadata": {},
   "outputs": [],
   "source": [
    "gps_df['Max Android Ver'] = android_ver_pattern_2"
   ]
  },
  {
   "cell_type": "markdown",
   "metadata": {},
   "source": [
    "Tới đây ta đã giải quyết xong một số cột có dữ liệu `categorical` cần thiết. \n",
    "##### Kiểm tra xem dữ liệu `categorical` đã hợp lý chưa?"
   ]
  },
  {
   "cell_type": "code",
   "execution_count": 33,
   "metadata": {},
   "outputs": [
    {
     "data": {
      "text/html": [
       "<div>\n",
       "<style scoped>\n",
       "    .dataframe tbody tr th:only-of-type {\n",
       "        vertical-align: middle;\n",
       "    }\n",
       "\n",
       "    .dataframe tbody tr th {\n",
       "        vertical-align: top;\n",
       "    }\n",
       "\n",
       "    .dataframe thead th {\n",
       "        text-align: right;\n",
       "    }\n",
       "</style>\n",
       "<table border=\"1\" class=\"dataframe\">\n",
       "  <thead>\n",
       "    <tr style=\"text-align: right;\">\n",
       "      <th></th>\n",
       "      <th>App Name</th>\n",
       "      <th>App Id</th>\n",
       "      <th>Installs</th>\n",
       "      <th>Minimum Installs</th>\n",
       "      <th>Category</th>\n",
       "      <th>Currency</th>\n",
       "      <th>Minimum Android</th>\n",
       "      <th>Min Android Ver</th>\n",
       "      <th>Max Android Ver</th>\n",
       "      <th>Developer Id</th>\n",
       "      <th>Developer Website</th>\n",
       "      <th>Developer Email</th>\n",
       "      <th>Content Rating</th>\n",
       "      <th>Privacy Policy</th>\n",
       "      <th>Free</th>\n",
       "      <th>Ad Supported</th>\n",
       "      <th>In App Purchases</th>\n",
       "      <th>Editors Choice</th>\n",
       "    </tr>\n",
       "  </thead>\n",
       "  <tbody>\n",
       "    <tr>\n",
       "      <th>missing_ratio</th>\n",
       "      <td>0.000086</td>\n",
       "      <td>0.0</td>\n",
       "      <td>0.004626</td>\n",
       "      <td>0.004626</td>\n",
       "      <td>0.0</td>\n",
       "      <td>0.005837</td>\n",
       "      <td>0.282324</td>\n",
       "      <td>2.280384</td>\n",
       "      <td>99.980415</td>\n",
       "      <td>0.001427</td>\n",
       "      <td>32.894657</td>\n",
       "      <td>0.00134</td>\n",
       "      <td>0.0</td>\n",
       "      <td>18.199879</td>\n",
       "      <td>0.0</td>\n",
       "      <td>0.0</td>\n",
       "      <td>0.0</td>\n",
       "      <td>0.0</td>\n",
       "    </tr>\n",
       "    <tr>\n",
       "      <th>num_diff_vals</th>\n",
       "      <td>2177944</td>\n",
       "      <td>2312944</td>\n",
       "      <td>22</td>\n",
       "      <td>22</td>\n",
       "      <td>48</td>\n",
       "      <td>15</td>\n",
       "      <td>154</td>\n",
       "      <td>25</td>\n",
       "      <td>18</td>\n",
       "      <td>758371</td>\n",
       "      <td>810440</td>\n",
       "      <td>950456</td>\n",
       "      <td>6</td>\n",
       "      <td>977743</td>\n",
       "      <td>2</td>\n",
       "      <td>2</td>\n",
       "      <td>2</td>\n",
       "      <td>2</td>\n",
       "    </tr>\n",
       "    <tr>\n",
       "      <th>diff_vals</th>\n",
       "      <td>[Gakondo, Ampere Battery Info, Vibook, Smart C...</td>\n",
       "      <td>[com.ishakwe.gakondo, com.webserveis.batteryin...</td>\n",
       "      <td>[10.0, 5000.0, 50.0, 100.0, 1000.0, 500.0, 500...</td>\n",
       "      <td>[10.0, 5000.0, 50.0, 100.0, 1000.0, 500.0, 500...</td>\n",
       "      <td>[Adventure, Tools, Productivity, Communication...</td>\n",
       "      <td>[USD, XXX, CAD, EUR, INR, VND, GBP, BRL, KRW, ...</td>\n",
       "      <td>[7.1 and up, 5.0 and up, 4.0.3 and up, 4.1 and...</td>\n",
       "      <td>[7.1, 5.0, 4.0.3, 4.1, 6.0, 4.4, 4.0, 4.2, 2.1...</td>\n",
       "      <td>[7.1.1, 6.0, 4.4, 5.0, 2.3.4, 7.0, 4.4W, 8.0, ...</td>\n",
       "      <td>[Jean Confident Irénée NIYIZIBYOSE, Webserveis...</td>\n",
       "      <td>[https://beniyizibyose.tk/#/, https://webserve...</td>\n",
       "      <td>[jean21101999@gmail.com, webserveis@gmail.com,...</td>\n",
       "      <td>[Everyone, Teen, Mature 17+, Everyone 10+, Adu...</td>\n",
       "      <td>[https://beniyizibyose.tk/projects/, https://d...</td>\n",
       "      <td>[True, False]</td>\n",
       "      <td>[False, True]</td>\n",
       "      <td>[False, True]</td>\n",
       "      <td>[False, True]</td>\n",
       "    </tr>\n",
       "  </tbody>\n",
       "</table>\n",
       "</div>"
      ],
      "text/plain": [
       "                                                        App Name  \\\n",
       "missing_ratio                                           0.000086   \n",
       "num_diff_vals                                            2177944   \n",
       "diff_vals      [Gakondo, Ampere Battery Info, Vibook, Smart C...   \n",
       "\n",
       "                                                          App Id  \\\n",
       "missing_ratio                                                0.0   \n",
       "num_diff_vals                                            2312944   \n",
       "diff_vals      [com.ishakwe.gakondo, com.webserveis.batteryin...   \n",
       "\n",
       "                                                        Installs  \\\n",
       "missing_ratio                                           0.004626   \n",
       "num_diff_vals                                                 22   \n",
       "diff_vals      [10.0, 5000.0, 50.0, 100.0, 1000.0, 500.0, 500...   \n",
       "\n",
       "                                                Minimum Installs  \\\n",
       "missing_ratio                                           0.004626   \n",
       "num_diff_vals                                                 22   \n",
       "diff_vals      [10.0, 5000.0, 50.0, 100.0, 1000.0, 500.0, 500...   \n",
       "\n",
       "                                                        Category  \\\n",
       "missing_ratio                                                0.0   \n",
       "num_diff_vals                                                 48   \n",
       "diff_vals      [Adventure, Tools, Productivity, Communication...   \n",
       "\n",
       "                                                        Currency  \\\n",
       "missing_ratio                                           0.005837   \n",
       "num_diff_vals                                                 15   \n",
       "diff_vals      [USD, XXX, CAD, EUR, INR, VND, GBP, BRL, KRW, ...   \n",
       "\n",
       "                                                 Minimum Android  \\\n",
       "missing_ratio                                           0.282324   \n",
       "num_diff_vals                                                154   \n",
       "diff_vals      [7.1 and up, 5.0 and up, 4.0.3 and up, 4.1 and...   \n",
       "\n",
       "                                                 Min Android Ver  \\\n",
       "missing_ratio                                           2.280384   \n",
       "num_diff_vals                                                 25   \n",
       "diff_vals      [7.1, 5.0, 4.0.3, 4.1, 6.0, 4.4, 4.0, 4.2, 2.1...   \n",
       "\n",
       "                                                 Max Android Ver  \\\n",
       "missing_ratio                                          99.980415   \n",
       "num_diff_vals                                                 18   \n",
       "diff_vals      [7.1.1, 6.0, 4.4, 5.0, 2.3.4, 7.0, 4.4W, 8.0, ...   \n",
       "\n",
       "                                                    Developer Id  \\\n",
       "missing_ratio                                           0.001427   \n",
       "num_diff_vals                                             758371   \n",
       "diff_vals      [Jean Confident Irénée NIYIZIBYOSE, Webserveis...   \n",
       "\n",
       "                                               Developer Website  \\\n",
       "missing_ratio                                          32.894657   \n",
       "num_diff_vals                                             810440   \n",
       "diff_vals      [https://beniyizibyose.tk/#/, https://webserve...   \n",
       "\n",
       "                                                 Developer Email  \\\n",
       "missing_ratio                                            0.00134   \n",
       "num_diff_vals                                             950456   \n",
       "diff_vals      [jean21101999@gmail.com, webserveis@gmail.com,...   \n",
       "\n",
       "                                                  Content Rating  \\\n",
       "missing_ratio                                                0.0   \n",
       "num_diff_vals                                                  6   \n",
       "diff_vals      [Everyone, Teen, Mature 17+, Everyone 10+, Adu...   \n",
       "\n",
       "                                                  Privacy Policy  \\\n",
       "missing_ratio                                          18.199879   \n",
       "num_diff_vals                                             977743   \n",
       "diff_vals      [https://beniyizibyose.tk/projects/, https://d...   \n",
       "\n",
       "                        Free   Ad Supported In App Purchases Editors Choice  \n",
       "missing_ratio            0.0            0.0              0.0            0.0  \n",
       "num_diff_vals              2              2                2              2  \n",
       "diff_vals      [True, False]  [False, True]    [False, True]  [False, True]  "
      ]
     },
     "execution_count": 33,
     "metadata": {},
     "output_type": "execute_result"
    }
   ],
   "source": [
    "categorical_col_df = gps_df[['App Name', 'App Id','Installs', 'Minimum Installs', 'Category', 'Currency',\n",
    "                             'Minimum Android', 'Min Android Ver', 'Max Android Ver', 'Developer Id', 'Developer Website',\n",
    "                             'Developer Email', 'Content Rating',\n",
    "                             'Privacy Policy', 'Free', 'Ad Supported', 'In App Purchases', 'Editors Choice']]\n",
    "categorical_col_profiles_df = categorical_col_df.agg([missing_ratio, num_diff_vals, diff_vals])\n",
    "categorical_col_profiles_df"
   ]
  },
  {
   "cell_type": "markdown",
   "metadata": {},
   "source": [
    "Quan sát kỹ hơn 4 cột `Category`, `Currency` và `Content Rating`"
   ]
  },
  {
   "cell_type": "code",
   "execution_count": 34,
   "metadata": {},
   "outputs": [
    {
     "data": {
      "text/plain": [
       "array(['Adventure', 'Tools', 'Productivity', 'Communication', 'Social',\n",
       "       'Libraries & Demo', 'Lifestyle', 'Personalization', 'Racing',\n",
       "       'Maps & Navigation', 'Travel & Local', 'Food & Drink',\n",
       "       'Books & Reference', 'Medical', 'Puzzle', 'Entertainment',\n",
       "       'Arcade', 'Auto & Vehicles', 'Photography', 'Health & Fitness',\n",
       "       'Education', 'Shopping', 'Board', 'Music & Audio', 'Sports',\n",
       "       'Beauty', 'Business', 'Educational', 'Finance', 'News & Magazines',\n",
       "       'Casual', 'Art & Design', 'House & Home', 'Card', 'Events',\n",
       "       'Trivia', 'Weather', 'Strategy', 'Word', 'Video Players & Editors',\n",
       "       'Action', 'Simulation', 'Music', 'Dating', 'Role Playing',\n",
       "       'Casino', 'Comics', 'Parenting'], dtype=object)"
      ]
     },
     "execution_count": 34,
     "metadata": {},
     "output_type": "execute_result"
    }
   ],
   "source": [
    "categorical_col_profiles_df['Category']['diff_vals']"
   ]
  },
  {
   "cell_type": "code",
   "execution_count": 35,
   "metadata": {},
   "outputs": [
    {
     "data": {
      "text/plain": [
       "array(['USD', 'XXX', 'CAD', 'EUR', 'INR', 'VND', 'GBP', 'BRL', 'KRW',\n",
       "       'TRY', 'RUB', 'SGD', 'AUD', 'PKR', 'ZAR'], dtype=object)"
      ]
     },
     "execution_count": 35,
     "metadata": {},
     "output_type": "execute_result"
    }
   ],
   "source": [
    "categorical_col_profiles_df['Currency']['diff_vals']"
   ]
  },
  {
   "cell_type": "code",
   "execution_count": 36,
   "metadata": {},
   "outputs": [
    {
     "data": {
      "text/plain": [
       "array(['Everyone', 'Teen', 'Mature 17+', 'Everyone 10+',\n",
       "       'Adults only 18+', 'Unrated'], dtype=object)"
      ]
     },
     "execution_count": 36,
     "metadata": {},
     "output_type": "execute_result"
    }
   ],
   "source": [
    "categorical_col_profiles_df['Content Rating']['diff_vals']"
   ]
  },
  {
   "cell_type": "markdown",
   "metadata": {},
   "source": [
    "Cột currency có giá trị \"XXX\" mang ý nghĩa là \"No currency\" (theo Wikipedia). Còn lại chưa có gì đáng chú ý hay bất thường."
   ]
  },
  {
   "cell_type": "markdown",
   "metadata": {},
   "source": [
    "## Đưa ra các câu hỏi có ý nghĩa cần trả lời"
   ]
  },
  {
   "cell_type": "markdown",
   "metadata": {},
   "source": [
    "Sau khi suy nghĩ và thảo luận, nhóm thống nhất đưa ra các câu hỏi sau:\n",
    "1. Thường các app được đưa ra vào tháng nào trong năm?\n",
    "2. Các công ty có nhiều lượt tải nhất thì app chủ yếu chủ đề gì?\n",
    "3. Có phải càng gần đây app càng nặng?\n",
    "4. Xu hướng app theo free hay tính phí?"
   ]
  },
  {
   "cell_type": "markdown",
   "metadata": {},
   "source": [
    "## Phân tích dữ liệu để trả lời các câu hỏi trên"
   ]
  },
  {
   "cell_type": "markdown",
   "metadata": {},
   "source": [
    "### 1. Thường các ứng dụng được đưa ra thị trường vào tháng nào trong năm?\n",
    "Trả lời được câu hỏi này có thể cho biết xu hướng phát hành của các nhà phát hành ứng dụng, liệu họ có một \"mùa phát hành\" nào đó riêng hay không. Đối với nhà sản xuất ứng dụng họ có thể tính toán thời điểm để đưa ứng dụng ra ngoài, chạy các chiến lược quảng cáo, khuyến mãi hợp lý. Người dùng cũng có thể dựa vào thông tin này để tìm kiếm, dùng thử những ứng dụng mới.\n",
    "\n",
    "Với câu hỏi này nhóm sẽ phân tích và quan sát dữ liệu theo 3 cách:\n",
    "- Tổng số app được đưa ra thị trường mỗi tháng qua từng năm.\n",
    "- Trung bình tổng số app được đưa ra thị trường trong từng tháng trong tất cả các năm trong bộ dữ liệu\n",
    "- Trung bình số tổng app được đưa ra thị trường trong từng tháng qua tất cả các năm của một số category nổi bật nhất.\n",
    "\n",
    "Trước khi trả lời các câu hỏi, nhóm sẽ tiền xử lý qua các bước:\n",
    "- Bước 1: Thêm 2 cột Month_Released và Year_Released vào gps_df\n",
    "- Bước 2: Kiểm tra số mẫu dữ liệu từng năm và xử lý để đảm bảo không có sự mất cân bằng.\n",
    "- Bước 3: Quan sát phân bố của thông tin \"Số lượt tải\" trong ứng dụng."
   ]
  },
  {
   "cell_type": "markdown",
   "metadata": {},
   "source": [
    "#### Tiền xử lý"
   ]
  },
  {
   "cell_type": "markdown",
   "metadata": {},
   "source": [
    "**Bước 1**: Thêm cột `Month_Released` (tháng xuất bản) và `Year_Released` (năm xuất bản) vào bảng."
   ]
  },
  {
   "cell_type": "code",
   "execution_count": 37,
   "metadata": {},
   "outputs": [],
   "source": [
    "gps_df['Month_Released'] = gps_df['Released'].dt.month\n",
    "gps_df['Year_Released'] = gps_df['Released'].dt.year"
   ]
  },
  {
   "cell_type": "markdown",
   "metadata": {},
   "source": [
    "**Bước 2**: Kiểm tra thêm số mẫu dữ liệu của từng năm để không có sự mất cân bằng khi so sánh."
   ]
  },
  {
   "cell_type": "code",
   "execution_count": 38,
   "metadata": {},
   "outputs": [
    {
     "name": "stdout",
     "output_type": "stream",
     "text": [
      "Thời điểm nhỏ nhất: 2010-01-28 00:00:00\n",
      "Thời điểm lớn nhất: 2021-06-16 00:00:00\n",
      "Thống kê số mẫu dữ liệu từng năm: \n",
      "AxesSubplot(0.125,0.125;0.775x0.755)\n"
     ]
    },
    {
     "data": {
      "image/png": "[encoded data removed]",
      "text/plain": [
       "<Figure size 432x288 with 1 Axes>"
      ]
     },
     "metadata": {
      "needs_background": "light"
     },
     "output_type": "display_data"
    }
   ],
   "source": [
    "print(\"Thời điểm nhỏ nhất:\",gps_df['Released'].min())\n",
    "print(\"Thời điểm lớn nhất:\",gps_df['Released'].max())\n",
    "apps_by_year = gps_df.groupby(['Year_Released'])['Year_Released'].count()\n",
    "print(\"Thống kê số mẫu dữ liệu từng năm: \")\n",
    "print(apps_by_year.plot.bar())"
   ]
  },
  {
   "cell_type": "markdown",
   "metadata": {},
   "source": [
    "Dễ thấy dữ liệu thu thập được trong năm 2021 chưa đầy đủ (chỉ mới đến tháng 06) còn ở năm 2010 dữ liệu được thu thập từ cuối tháng 1. Do đó, để phân tích được công bằng, ta sẽ bỏ đi dữ liệu năm 2010 và 2021.  "
   ]
  },
  {
   "cell_type": "code",
   "execution_count": 39,
   "metadata": {},
   "outputs": [
    {
     "name": "stdout",
     "output_type": "stream",
     "text": [
      "Năm nhỏ nhất:  2010.0\n",
      "Năm lón nhất: 2021.0\n"
     ]
    }
   ],
   "source": [
    "min_year = gps_df['Year_Released'].min()\n",
    "max_year = gps_df['Year_Released'].max()\n",
    "print(\"Năm nhỏ nhất: \", min_year)\n",
    "print(\"Năm lón nhất:\", max_year)"
   ]
  },
  {
   "cell_type": "code",
   "execution_count": 40,
   "metadata": {},
   "outputs": [],
   "source": [
    "app_released_df = gps_df[~gps_df['Year_Released'].isin([min_year,max_year])]"
   ]
  },
  {
   "cell_type": "markdown",
   "metadata": {},
   "source": [
    "**Bước 3**: Theo như thực tế thì có thể có nhiều app được tung ra nhưng có rất ít người sử dụng, có vẻ việc phân tích dữ liệu của các ứng dụng này không mang ý nghĩa lắm. Thử quan sát phân vị của cột `Maximum Installs`."
   ]
  },
  {
   "cell_type": "code",
   "execution_count": 41,
   "metadata": {},
   "outputs": [
    {
     "data": {
      "text/plain": [
       "0.1       20.0\n",
       "0.2       63.0\n",
       "0.3      156.0\n",
       "0.4      356.0\n",
       "0.5      814.0\n",
       "0.6     1920.0\n",
       "0.7     4948.0\n",
       "0.8    15141.0\n",
       "0.9    71438.0\n",
       "Name: Maximum Installs, dtype: float64"
      ]
     },
     "execution_count": 41,
     "metadata": {},
     "output_type": "execute_result"
    }
   ],
   "source": [
    "app_released_df['Maximum Installs'].quantile(np.arange(0.1,1,0.1))"
   ]
  },
  {
   "cell_type": "markdown",
   "metadata": {},
   "source": [
    "Có thể thấy hơn 50% ứng dụng chỉ có khoảng 1000 lượt tải. Do đó trong các đồ thị ở bước phân tích sau đây, nhóm sử dụng biến số `num_installs_threshold` để thể hiện việc chỉ xét những ứng dụng có hơn `num_installs_threshold` lượt tải."
   ]
  },
  {
   "cell_type": "markdown",
   "metadata": {},
   "source": [
    "#### Phân tích dữ liệu\n",
    "Để trả lời câu hỏi này thì nhóm sẽ thực hiện theo từng bước:\n",
    "- Bước 1: Phân tích số app được đưa ra thị trường từng tháng qua mỗi năm:\n",
    "- Bước 2: Phân tích trung bình tổng số app được đưa ra thị trường trong từng tháng qua các năm trong bộ dữ liệu.\n",
    "- Bước 3: Trung bình tổng số app được đưa ra thị trường trong từng tháng qua các năm của một số category nổi bật nhất."
   ]
  },
  {
   "cell_type": "markdown",
   "metadata": {},
   "source": [
    "**Bước 1:** Tổng số app được đưa ra thị trường mỗi tháng ở mỗi năm. <br>\n",
    "Để tính toán giá trị này ta sẽ gom nhóm bảng dữ liệu theo `Month_Released` và `Year_Released` rồi tính số lượng."
   ]
  },
  {
   "cell_type": "code",
   "execution_count": 42,
   "metadata": {},
   "outputs": [],
   "source": [
    "def draw_num_released_each_month(app_released_df,num_installs_threshold = 1000):\n",
    "    app_released_df = app_released_df[app_released_df['Maximum Installs']>num_installs_threshold]\n",
    "    num_released_each_month_df = app_released_df.groupby(['Month_Released','Year_Released']).size().unstack(1)\n",
    "    num_released_each_month_df.plot.line(marker='o',xlabel ='Month', ylabel ='App Released', figsize=(24,10))"
   ]
  },
  {
   "cell_type": "markdown",
   "metadata": {},
   "source": [
    "Vẽ biểu đồ minh họa, thanh trượt dùng để chọn ngưỡng cho `Maximum Installs`, những ứng dụng có `Maximum Installs` lớn hơn ngưỡng mới được xét."
   ]
  },
  {
   "cell_type": "code",
   "execution_count": 43,
   "metadata": {},
   "outputs": [
    {
     "data": {
      "application/vnd.jupyter.widget-view+json": {
       "model_id": "3408b44c35f24438ab820c0a0ef4e25e",
       "version_major": 2,
       "version_minor": 0
      },
      "text/plain": [
       "interactive(children=(FloatSlider(value=1000.0, description='num_installs_threshold', max=15141.0), Output()),…"
      ]
     },
     "metadata": {},
     "output_type": "display_data"
    }
   ],
   "source": [
    "threshold_range= (app_released_df['Maximum Installs'].min(),app_released_df['Maximum Installs'].quantile(0.8))\n",
    "interact(draw_num_released_each_month,num_installs_threshold = threshold_range, app_released_df = fixed(app_released_df));"
   ]
  },
  {
   "cell_type": "markdown",
   "metadata": {},
   "source": [
    "**Bước 2:** Trung bình tổng số app được đưa ra thị trường trong mỗi tháng trong tất cả các năm trong bộ dữ liệu. <br>\n",
    "Để tính toán giá trị này ta sẽ gom nhóm bảng dữ liệu theo `Month_Released` và `Year_Released` rồi tính số lượng. Sau đó lấy trung bình qua các năm."
   ]
  },
  {
   "cell_type": "code",
   "execution_count": 44,
   "metadata": {},
   "outputs": [],
   "source": [
    "def draw_average_num_released_each_month(app_released_df,num_installs_threshold=1000):\n",
    "    app_released_df = app_released_df[app_released_df['Maximum Installs']>num_installs_threshold]\n",
    "    average_num_released_each_month = app_released_df.groupby(['Month_Released','Year_Released']).size().unstack(1).mean(axis = 1)\n",
    "    average_num_released_each_month.plot.bar()"
   ]
  },
  {
   "cell_type": "markdown",
   "metadata": {},
   "source": [
    "Vẽ biểu đồ minh họa, thanh trượt dùng để chọn ngưỡng cho `Maximum Installs`, những ứng dụng có `Maximum Installs` lớn hơn ngưỡng mới được xét."
   ]
  },
  {
   "cell_type": "code",
   "execution_count": 45,
   "metadata": {
    "scrolled": true
   },
   "outputs": [
    {
     "data": {
      "application/vnd.jupyter.widget-view+json": {
       "model_id": "a027555de7824c88acdb82df7b935598",
       "version_major": 2,
       "version_minor": 0
      },
      "text/plain": [
       "interactive(children=(FloatSlider(value=1000.0, description='num_installs_threshold', max=15141.0), Output()),…"
      ]
     },
     "metadata": {},
     "output_type": "display_data"
    }
   ],
   "source": [
    "threshold_range= (app_released_df['Maximum Installs'].min(),app_released_df['Maximum Installs'].quantile(0.8))\n",
    "interact(draw_average_num_released_each_month,num_installs_threshold = threshold_range, app_released_df = fixed(app_released_df));"
   ]
  },
  {
   "cell_type": "markdown",
   "metadata": {},
   "source": [
    "**Bước 3:** Trung bình tổng số app được đưa ra thị trường trong từng tháng qua mỗi năm của một số category nổi bật nhất.\n",
    "Để tính toán giá trị này ta sẽ :\n",
    "- Xác định 10 categories nổi bật nhất.\n",
    "- Gom nhóm bảng dữ liệu theo Month_Released Category và Year_Released rồi tính số lượng. Sau đó lấy trung bình qua các năm."
   ]
  },
  {
   "cell_type": "markdown",
   "metadata": {},
   "source": [
    "**Xác định 10 categories nổi bật nhất** \n",
    "\n",
    "Ở đây categories nổi bật nhất chúng em xem là categories có nhiều ứng dụng thuộc về nhất."
   ]
  },
  {
   "cell_type": "code",
   "execution_count": 46,
   "metadata": {},
   "outputs": [
    {
     "name": "stdout",
     "output_type": "stream",
     "text": [
      "Các Category có nhiều ứng dụng nhất:  ['Education', 'Music & Audio', 'Business', 'Tools', 'Entertainment', 'Lifestyle', 'Books & Reference', 'Personalization', 'Health & Fitness', 'Productivity']\n"
     ]
    }
   ],
   "source": [
    "popular_categories = app_released_df.groupby('Category').size().sort_values(ascending = False).index.to_list()[:10]\n",
    "print(\"Các Category có nhiều ứng dụng nhất: \",popular_categories)"
   ]
  },
  {
   "cell_type": "markdown",
   "metadata": {},
   "source": [
    "**Tính toán và vẽ đồ thị**"
   ]
  },
  {
   "cell_type": "code",
   "execution_count": 47,
   "metadata": {},
   "outputs": [],
   "source": [
    "def draw_average_num_released_each_month_by_categories(app_released_df,num_installs_threshold = 1000):\n",
    "    app_released_df = app_released_df[app_released_df['Maximum Installs']>num_installs_threshold]\n",
    "    average_num_released_each_month_by_categories = app_released_df[app_released_df['Category'].isin(popular_categories)].groupby(['Month_Released','Category','Year_Released']).size().unstack(2).mean(axis = 1).unstack(1)\n",
    "    average_num_released_each_month_by_categories.plot.line(marker='o',xlabel ='Month', ylabel ='App Released', figsize=(24,10))"
   ]
  },
  {
   "cell_type": "code",
   "execution_count": 48,
   "metadata": {},
   "outputs": [
    {
     "data": {
      "application/vnd.jupyter.widget-view+json": {
       "model_id": "d9abaf859f2846b99e030d383da8abae",
       "version_major": 2,
       "version_minor": 0
      },
      "text/plain": [
       "interactive(children=(FloatSlider(value=1000.0, description='num_installs_threshold', max=15141.0), Output()),…"
      ]
     },
     "metadata": {},
     "output_type": "display_data"
    }
   ],
   "source": [
    "threshold_range= (app_released_df['Maximum Installs'].min(),app_released_df['Maximum Installs'].quantile(0.8))\n",
    "interact(draw_average_num_released_each_month_by_categories,num_installs_threshold = threshold_range, app_released_df = fixed(app_released_df));"
   ]
  },
  {
   "cell_type": "markdown",
   "metadata": {},
   "source": [
    "#### Nhận xét\n",
    "Có vẻ như không có xu hướng gì rõ ràng. Nhưng nhìn chung thì có vẻ ở đa số các tháng đầu năm, số lượng ứng dụng được tung ra ít hơn so với các tháng còn lại. Chúng em giả thuyết rằng cuối năm là dịp lễ và nghỉ lễ lớn ở đa số các quốc gia phát triển mạnh về công nghệ thông tin (Giáng Sinh, Tết Tây). Do đó việc ra mắt ứng dụng đầu năm ngay sau kì nghỉ có thể sẽ khá nguy hiểm khi nhân viên chưa quen lại với công việc, khó sửa chửa bảo trì sản phẩm ngay khi mới ra mắt."
   ]
  },
  {
   "cell_type": "markdown",
   "metadata": {},
   "source": [
    "### 2. Các công ty có nhiều lượt tải nhất thì app chủ yếu chủ đề gì? \n",
    "Trả lời được câu hỏi này cho ta biết các tập đoàn công nghệ phổ biến, được nhiều người tin dùng đang tập trung vào mảng ứng dụng nào.\n",
    "\n",
    "Trong câu hỏi này không cần phải tiền xử lý thêm dữ liệu. Để trả lời câu hỏi này thì nhóm sẽ thực hiện theo các bước:\n",
    "- Bước 1: Rút trích ra các công ty có tổng lượt tải của các ứng dụng của công ty họ là nhiều nhất, lưu và list `top_companies`.\n",
    "- Bước 2: Thống kê xem các ứng dụng của `top_companies` thuộc về những `Category` nào.\n",
    "- Bước 3: Quan sát biểu đồ và nhận xét."
   ]
  },
  {
   "cell_type": "markdown",
   "metadata": {},
   "source": [
    "#### Phân tích dữ liệu"
   ]
  },
  {
   "cell_type": "markdown",
   "metadata": {},
   "source": [
    "**Bước 1**: Rút trích ra các công ty có tổng lượt tải của các ứng dụng của công ty họ là nhiều nhất, lưu và list `top_companies`."
   ]
  },
  {
   "cell_type": "code",
   "execution_count": 49,
   "metadata": {},
   "outputs": [
    {
     "name": "stdout",
     "output_type": "stream",
     "text": [
      "Các công ty có nhiều lượt tải:  ['Google LLC', 'Samsung Electronics Co.,  Ltd.', 'Facebook', 'Microsoft Corporation', 'WhatsApp LLC', 'Outfit7 Limited', 'Xiaomi Inc.', 'Motorola Mobility LLC.', 'Instagram', 'Huawei Internet Services']\n"
     ]
    }
   ],
   "source": [
    "top_limits = 10\n",
    "top_companies = gps_df[['Developer Id', 'Maximum Installs']].groupby('Developer Id').sum().sort_values(ascending = False, by = 'Maximum Installs')[:top_limits].index.to_list()\n",
    "print(\"Các công ty có nhiều lượt tải: \", top_companies)"
   ]
  },
  {
   "cell_type": "markdown",
   "metadata": {},
   "source": [
    "Có thể thấy toàn những tập đoàn lớn như: Google, Facebook,..."
   ]
  },
  {
   "cell_type": "markdown",
   "metadata": {},
   "source": [
    "**Bước 2**: Thống kê xem các ứng dụng của `top_companies` thuộc về những `Category` nào."
   ]
  },
  {
   "cell_type": "code",
   "execution_count": 50,
   "metadata": {},
   "outputs": [
    {
     "data": {
      "text/plain": [
       "Category\n",
       "Tools                      152\n",
       "Business                    55\n",
       "Productivity                52\n",
       "Entertainment               39\n",
       "Communication               35\n",
       "Photography                 32\n",
       "Education                   16\n",
       "Music & Audio               14\n",
       "Personalization             12\n",
       "Lifestyle                   12\n",
       "Social                       9\n",
       "Casual                       8\n",
       "Video Players & Editors      8\n",
       "Action                       6\n",
       "Finance                      6\n",
       "Travel & Local               5\n",
       "Health & Fitness             4\n",
       "Books & Reference            3\n",
       "Art & Design                 3\n",
       "Arcade                       2\n",
       "Libraries & Demo             2\n",
       "News & Magazines             2\n",
       "Weather                      2\n",
       "Auto & Vehicles              2\n",
       "Puzzle                       2\n",
       "Sports                       1\n",
       "Medical                      1\n",
       "Shopping                     1\n",
       "Racing                       1\n",
       "Parenting                    1\n",
       "Maps & Navigation            1\n",
       "Educational                  1\n",
       "Card                         1\n",
       "Word                         1\n",
       "dtype: int64"
      ]
     },
     "execution_count": 50,
     "metadata": {},
     "output_type": "execute_result"
    }
   ],
   "source": [
    "categories_of_giants = gps_df[gps_df['Developer Id'].isin(top_companies)].groupby('Category').size().sort_values(ascending = False)\n",
    "categories_of_giants"
   ]
  },
  {
   "cell_type": "markdown",
   "metadata": {},
   "source": [
    "**Bước 3**: Quan sát biểu đồ và nhận xét. Thanh trượt `top_limits` để điều chỉnh số lượng công ty mà ta xét."
   ]
  },
  {
   "cell_type": "code",
   "execution_count": 51,
   "metadata": {},
   "outputs": [],
   "source": [
    "TOP_COMPANIES = gps_df[['Developer Id', 'Maximum Installs']].groupby('Developer Id').sum().sort_values(ascending = False, by = 'Maximum Installs')[:100].index.to_list()\n",
    "def draw_categories_of_giants(gps_df, top_limits = 10):\n",
    "    top_companies = TOP_COMPANIES[:top_limits]\n",
    "    print(\"Các công ty có nhiều lượt tải: \", top_companies)\n",
    "    categories_of_giants = gps_df[gps_df['Developer Id'].isin(top_companies)].groupby('Category').size().sort_values(ascending = False)\n",
    "    categories_of_giants.plot.bar(figsize=(12,5))"
   ]
  },
  {
   "cell_type": "code",
   "execution_count": 52,
   "metadata": {},
   "outputs": [
    {
     "data": {
      "application/vnd.jupyter.widget-view+json": {
       "model_id": "c0bafe4b75e2456198cc5e1a6741da5a",
       "version_major": 2,
       "version_minor": 0
      },
      "text/plain": [
       "interactive(children=(IntSlider(value=10, description='top_limits', min=10), Output()), _dom_classes=('widget-…"
      ]
     },
     "metadata": {},
     "output_type": "display_data"
    },
    {
     "data": {
      "text/plain": [
       "<function __main__.draw_categories_of_giants(gps_df, top_limits=10)>"
      ]
     },
     "execution_count": 52,
     "metadata": {},
     "output_type": "execute_result"
    }
   ],
   "source": [
    "interact(draw_categories_of_giants, gps_df = fixed(gps_df), top_limits = (10,100))"
   ]
  },
  {
   "cell_type": "markdown",
   "metadata": {},
   "source": [
    "#### Nhận xét\n",
    "Có thể thấy chuyên mục `Tools` luôn đứng đầu danh sách. Ta xem thử một vài ứng dụng thuộc `Category` này."
   ]
  },
  {
   "cell_type": "code",
   "execution_count": 53,
   "metadata": {},
   "outputs": [
    {
     "data": {
      "text/html": [
       "<div>\n",
       "<style scoped>\n",
       "    .dataframe tbody tr th:only-of-type {\n",
       "        vertical-align: middle;\n",
       "    }\n",
       "\n",
       "    .dataframe tbody tr th {\n",
       "        vertical-align: top;\n",
       "    }\n",
       "\n",
       "    .dataframe thead th {\n",
       "        text-align: right;\n",
       "    }\n",
       "</style>\n",
       "<table border=\"1\" class=\"dataframe\">\n",
       "  <thead>\n",
       "    <tr style=\"text-align: right;\">\n",
       "      <th></th>\n",
       "      <th>App Name</th>\n",
       "      <th>Maximum Installs</th>\n",
       "      <th>Developer Id</th>\n",
       "    </tr>\n",
       "  </thead>\n",
       "  <tbody>\n",
       "    <tr>\n",
       "      <th>2155096</th>\n",
       "      <td>Google Play services</td>\n",
       "      <td>12057627016</td>\n",
       "      <td>Google LLC</td>\n",
       "    </tr>\n",
       "    <tr>\n",
       "      <th>1773294</th>\n",
       "      <td>Google</td>\n",
       "      <td>9154248491</td>\n",
       "      <td>Google LLC</td>\n",
       "    </tr>\n",
       "    <tr>\n",
       "      <th>1060335</th>\n",
       "      <td>Google Text-to-Speech</td>\n",
       "      <td>9034404884</td>\n",
       "      <td>Google LLC</td>\n",
       "    </tr>\n",
       "    <tr>\n",
       "      <th>2011395</th>\n",
       "      <td>Android Accessibility Suite</td>\n",
       "      <td>7408134567</td>\n",
       "      <td>Google LLC</td>\n",
       "    </tr>\n",
       "    <tr>\n",
       "      <th>1429623</th>\n",
       "      <td>Android System WebView</td>\n",
       "      <td>4764329349</td>\n",
       "      <td>Google LLC</td>\n",
       "    </tr>\n",
       "    <tr>\n",
       "      <th>1366575</th>\n",
       "      <td>Gboard - the Google Keyboard</td>\n",
       "      <td>3897822063</td>\n",
       "      <td>Google LLC</td>\n",
       "    </tr>\n",
       "    <tr>\n",
       "      <th>1085721</th>\n",
       "      <td>Samsung My Files</td>\n",
       "      <td>2063336389</td>\n",
       "      <td>Samsung Electronics Co.,  Ltd.</td>\n",
       "    </tr>\n",
       "    <tr>\n",
       "      <th>337866</th>\n",
       "      <td>Samsung Experience Service</td>\n",
       "      <td>1682763021</td>\n",
       "      <td>Samsung Electronics Co.,  Ltd.</td>\n",
       "    </tr>\n",
       "    <tr>\n",
       "      <th>786925</th>\n",
       "      <td>Device Care</td>\n",
       "      <td>1681485812</td>\n",
       "      <td>Samsung Electronics Co.,  Ltd.</td>\n",
       "    </tr>\n",
       "    <tr>\n",
       "      <th>731501</th>\n",
       "      <td>SHAREit - Transfer &amp; Share</td>\n",
       "      <td>1666016612</td>\n",
       "      <td>Smart Media4U Technology Pte.Ltd.</td>\n",
       "    </tr>\n",
       "    <tr>\n",
       "      <th>1153656</th>\n",
       "      <td>Samsung Calculator</td>\n",
       "      <td>1614135190</td>\n",
       "      <td>Samsung Electronics Co.,  Ltd.</td>\n",
       "    </tr>\n",
       "    <tr>\n",
       "      <th>1001694</th>\n",
       "      <td>ANT+ Plugins Service</td>\n",
       "      <td>1514437056</td>\n",
       "      <td>ANT+</td>\n",
       "    </tr>\n",
       "    <tr>\n",
       "      <th>1239744</th>\n",
       "      <td>Samsung Voice Recorder</td>\n",
       "      <td>1483303632</td>\n",
       "      <td>Samsung Electronics Co.,  Ltd.</td>\n",
       "    </tr>\n",
       "    <tr>\n",
       "      <th>754825</th>\n",
       "      <td>Google Play Services for AR</td>\n",
       "      <td>1459169211</td>\n",
       "      <td>Google LLC</td>\n",
       "    </tr>\n",
       "    <tr>\n",
       "      <th>2046279</th>\n",
       "      <td>Files by Google</td>\n",
       "      <td>1163166935</td>\n",
       "      <td>Google LLC</td>\n",
       "    </tr>\n",
       "    <tr>\n",
       "      <th>2159406</th>\n",
       "      <td>Clock</td>\n",
       "      <td>1045577416</td>\n",
       "      <td>Google LLC</td>\n",
       "    </tr>\n",
       "    <tr>\n",
       "      <th>1609530</th>\n",
       "      <td>Google Translate</td>\n",
       "      <td>1023240815</td>\n",
       "      <td>Google LLC</td>\n",
       "    </tr>\n",
       "    <tr>\n",
       "      <th>1702634</th>\n",
       "      <td>Calculator</td>\n",
       "      <td>1005908944</td>\n",
       "      <td>Google LLC</td>\n",
       "    </tr>\n",
       "    <tr>\n",
       "      <th>1254417</th>\n",
       "      <td>ShareMe  - #1 file sharing &amp; data transfer app</td>\n",
       "      <td>868900534</td>\n",
       "      <td>Xiaomi Inc.</td>\n",
       "    </tr>\n",
       "    <tr>\n",
       "      <th>1229863</th>\n",
       "      <td>File Manager : free and easily</td>\n",
       "      <td>809334309</td>\n",
       "      <td>Xiaomi Inc.</td>\n",
       "    </tr>\n",
       "  </tbody>\n",
       "</table>\n",
       "</div>"
      ],
      "text/plain": [
       "                                               App Name  Maximum Installs  \\\n",
       "2155096                            Google Play services       12057627016   \n",
       "1773294                                          Google        9154248491   \n",
       "1060335                           Google Text-to-Speech        9034404884   \n",
       "2011395                     Android Accessibility Suite        7408134567   \n",
       "1429623                          Android System WebView        4764329349   \n",
       "1366575                    Gboard - the Google Keyboard        3897822063   \n",
       "1085721                                Samsung My Files        2063336389   \n",
       "337866                       Samsung Experience Service        1682763021   \n",
       "786925                                      Device Care        1681485812   \n",
       "731501                       SHAREit - Transfer & Share        1666016612   \n",
       "1153656                              Samsung Calculator        1614135190   \n",
       "1001694                            ANT+ Plugins Service        1514437056   \n",
       "1239744                          Samsung Voice Recorder        1483303632   \n",
       "754825                      Google Play Services for AR        1459169211   \n",
       "2046279                                 Files by Google        1163166935   \n",
       "2159406                                           Clock        1045577416   \n",
       "1609530                                Google Translate        1023240815   \n",
       "1702634                                      Calculator        1005908944   \n",
       "1254417  ShareMe  - #1 file sharing & data transfer app         868900534   \n",
       "1229863                  File Manager : free and easily         809334309   \n",
       "\n",
       "                              Developer Id  \n",
       "2155096                         Google LLC  \n",
       "1773294                         Google LLC  \n",
       "1060335                         Google LLC  \n",
       "2011395                         Google LLC  \n",
       "1429623                         Google LLC  \n",
       "1366575                         Google LLC  \n",
       "1085721     Samsung Electronics Co.,  Ltd.  \n",
       "337866      Samsung Electronics Co.,  Ltd.  \n",
       "786925      Samsung Electronics Co.,  Ltd.  \n",
       "731501   Smart Media4U Technology Pte.Ltd.  \n",
       "1153656     Samsung Electronics Co.,  Ltd.  \n",
       "1001694                               ANT+  \n",
       "1239744     Samsung Electronics Co.,  Ltd.  \n",
       "754825                          Google LLC  \n",
       "2046279                         Google LLC  \n",
       "2159406                         Google LLC  \n",
       "1609530                         Google LLC  \n",
       "1702634                         Google LLC  \n",
       "1254417                        Xiaomi Inc.  \n",
       "1229863                        Xiaomi Inc.  "
      ]
     },
     "execution_count": 53,
     "metadata": {},
     "output_type": "execute_result"
    }
   ],
   "source": [
    "gps_df[gps_df['Category'] == 'Tools'].sort_values(ascending = False, by = 'Maximum Installs')[:20][['App Name','Maximum Installs', 'Developer Id']]"
   ]
  },
  {
   "cell_type": "markdown",
   "metadata": {},
   "source": [
    "Có thể thấy chúng đều là những ứng dụng được cài đặt sẵn trên điện thoại Android do công ty xuất bản hệ điều hành là \"Google\" cài sẵn hoặc do nhà sản xuất điện thoại như \"Samsung\", \"Xiaomi\" cài sẵn."
   ]
  },
  {
   "cell_type": "markdown",
   "metadata": {},
   "source": [
    "Quan sát thêm một số chủ đề nổi bật khác như `Educational` và `Arcade`."
   ]
  },
  {
   "cell_type": "code",
   "execution_count": 54,
   "metadata": {},
   "outputs": [
    {
     "data": {
      "text/html": [
       "<div>\n",
       "<style scoped>\n",
       "    .dataframe tbody tr th:only-of-type {\n",
       "        vertical-align: middle;\n",
       "    }\n",
       "\n",
       "    .dataframe tbody tr th {\n",
       "        vertical-align: top;\n",
       "    }\n",
       "\n",
       "    .dataframe thead th {\n",
       "        text-align: right;\n",
       "    }\n",
       "</style>\n",
       "<table border=\"1\" class=\"dataframe\">\n",
       "  <thead>\n",
       "    <tr style=\"text-align: right;\">\n",
       "      <th></th>\n",
       "      <th>App Name</th>\n",
       "      <th>Maximum Installs</th>\n",
       "      <th>Developer Id</th>\n",
       "    </tr>\n",
       "  </thead>\n",
       "  <tbody>\n",
       "    <tr>\n",
       "      <th>336867</th>\n",
       "      <td>Toca Kitchen 2</td>\n",
       "      <td>153769168</td>\n",
       "      <td>Toca Boca</td>\n",
       "    </tr>\n",
       "    <tr>\n",
       "      <th>2144949</th>\n",
       "      <td>Masha and the Bear. Educational Games</td>\n",
       "      <td>123688272</td>\n",
       "      <td>AppQuiz</td>\n",
       "    </tr>\n",
       "    <tr>\n",
       "      <th>388316</th>\n",
       "      <td>Truck games for kids - build a house, car wash</td>\n",
       "      <td>114808798</td>\n",
       "      <td>GoKids!</td>\n",
       "    </tr>\n",
       "    <tr>\n",
       "      <th>725710</th>\n",
       "      <td>Baby Panda's Supermarket</td>\n",
       "      <td>108975090</td>\n",
       "      <td>BabyBus</td>\n",
       "    </tr>\n",
       "    <tr>\n",
       "      <th>974924</th>\n",
       "      <td>Coloring &amp; Learn</td>\n",
       "      <td>81165199</td>\n",
       "      <td>Orange Studios Games</td>\n",
       "    </tr>\n",
       "    <tr>\n",
       "      <th>312969</th>\n",
       "      <td>Baby Panda's Fashion Dress Up Game</td>\n",
       "      <td>76954454</td>\n",
       "      <td>BabyBus</td>\n",
       "    </tr>\n",
       "    <tr>\n",
       "      <th>1999958</th>\n",
       "      <td>Monster Trucks Game for Kids 2</td>\n",
       "      <td>71857875</td>\n",
       "      <td>Raz Games</td>\n",
       "    </tr>\n",
       "    <tr>\n",
       "      <th>204518</th>\n",
       "      <td>Baby Panda World</td>\n",
       "      <td>70957986</td>\n",
       "      <td>BabyBus</td>\n",
       "    </tr>\n",
       "    <tr>\n",
       "      <th>455437</th>\n",
       "      <td>Little Panda Policeman</td>\n",
       "      <td>64859926</td>\n",
       "      <td>BabyBus</td>\n",
       "    </tr>\n",
       "    <tr>\n",
       "      <th>428072</th>\n",
       "      <td>Cooking Mama: Let's cook!</td>\n",
       "      <td>63660606</td>\n",
       "      <td>Office Create Corp.</td>\n",
       "    </tr>\n",
       "    <tr>\n",
       "      <th>1062225</th>\n",
       "      <td>Toca Life World: Build stories &amp; create your w...</td>\n",
       "      <td>62226365</td>\n",
       "      <td>Toca Boca</td>\n",
       "    </tr>\n",
       "    <tr>\n",
       "      <th>2047217</th>\n",
       "      <td>Baby Panda Care</td>\n",
       "      <td>59393035</td>\n",
       "      <td>BabyBus</td>\n",
       "    </tr>\n",
       "    <tr>\n",
       "      <th>1266649</th>\n",
       "      <td>Little Panda's Restaurant</td>\n",
       "      <td>57315206</td>\n",
       "      <td>BabyBus</td>\n",
       "    </tr>\n",
       "    <tr>\n",
       "      <th>2095332</th>\n",
       "      <td>Mandala Coloring Pages</td>\n",
       "      <td>55024738</td>\n",
       "      <td>Coloring Games</td>\n",
       "    </tr>\n",
       "    <tr>\n",
       "      <th>675108</th>\n",
       "      <td>Baby Panda's School Bus - Let's Drive!</td>\n",
       "      <td>54558207</td>\n",
       "      <td>BabyBus</td>\n",
       "    </tr>\n",
       "    <tr>\n",
       "      <th>1279686</th>\n",
       "      <td>Little Panda's Chinese Recipes</td>\n",
       "      <td>52670537</td>\n",
       "      <td>BabyBus</td>\n",
       "    </tr>\n",
       "    <tr>\n",
       "      <th>1250774</th>\n",
       "      <td>Baby Panda’s Ice Cream Shop</td>\n",
       "      <td>52253130</td>\n",
       "      <td>BabyBus</td>\n",
       "    </tr>\n",
       "    <tr>\n",
       "      <th>1911236</th>\n",
       "      <td>Princess Coloring Book Glitter &amp; Girls Dress Up</td>\n",
       "      <td>52134839</td>\n",
       "      <td>KiDEO (formerly forqan smart tech)</td>\n",
       "    </tr>\n",
       "    <tr>\n",
       "      <th>700959</th>\n",
       "      <td>Supermarket: Shopping Games for Kids</td>\n",
       "      <td>49124043</td>\n",
       "      <td>Hippo Kids Games</td>\n",
       "    </tr>\n",
       "    <tr>\n",
       "      <th>974799</th>\n",
       "      <td>My Town: Home Doll house - Family Playhouse</td>\n",
       "      <td>48570705</td>\n",
       "      <td>My Town Games Ltd</td>\n",
       "    </tr>\n",
       "  </tbody>\n",
       "</table>\n",
       "</div>"
      ],
      "text/plain": [
       "                                                  App Name  Maximum Installs  \\\n",
       "336867                                      Toca Kitchen 2         153769168   \n",
       "2144949              Masha and the Bear. Educational Games         123688272   \n",
       "388316      Truck games for kids - build a house, car wash         114808798   \n",
       "725710                            Baby Panda's Supermarket         108975090   \n",
       "974924                                    Coloring & Learn          81165199   \n",
       "312969                  Baby Panda's Fashion Dress Up Game          76954454   \n",
       "1999958                     Monster Trucks Game for Kids 2          71857875   \n",
       "204518                                    Baby Panda World          70957986   \n",
       "455437                              Little Panda Policeman          64859926   \n",
       "428072                           Cooking Mama: Let's cook!          63660606   \n",
       "1062225  Toca Life World: Build stories & create your w...          62226365   \n",
       "2047217                                    Baby Panda Care          59393035   \n",
       "1266649                          Little Panda's Restaurant          57315206   \n",
       "2095332                             Mandala Coloring Pages          55024738   \n",
       "675108              Baby Panda's School Bus - Let's Drive!          54558207   \n",
       "1279686                     Little Panda's Chinese Recipes          52670537   \n",
       "1250774                        Baby Panda’s Ice Cream Shop          52253130   \n",
       "1911236    Princess Coloring Book Glitter & Girls Dress Up          52134839   \n",
       "700959                Supermarket: Shopping Games for Kids          49124043   \n",
       "974799         My Town: Home Doll house - Family Playhouse          48570705   \n",
       "\n",
       "                               Developer Id  \n",
       "336867                            Toca Boca  \n",
       "2144949                             AppQuiz  \n",
       "388316                              GoKids!  \n",
       "725710                              BabyBus  \n",
       "974924                 Orange Studios Games  \n",
       "312969                              BabyBus  \n",
       "1999958                           Raz Games  \n",
       "204518                              BabyBus  \n",
       "455437                              BabyBus  \n",
       "428072                  Office Create Corp.  \n",
       "1062225                           Toca Boca  \n",
       "2047217                             BabyBus  \n",
       "1266649                             BabyBus  \n",
       "2095332                      Coloring Games  \n",
       "675108                              BabyBus  \n",
       "1279686                             BabyBus  \n",
       "1250774                             BabyBus  \n",
       "1911236  KiDEO (formerly forqan smart tech)  \n",
       "700959                     Hippo Kids Games  \n",
       "974799                    My Town Games Ltd  "
      ]
     },
     "execution_count": 54,
     "metadata": {},
     "output_type": "execute_result"
    }
   ],
   "source": [
    "gps_df[gps_df['Category'] == 'Educational'].sort_values(ascending = False, by = 'Maximum Installs')[:20][['App Name','Maximum Installs', 'Developer Id']]"
   ]
  },
  {
   "cell_type": "code",
   "execution_count": 55,
   "metadata": {},
   "outputs": [
    {
     "data": {
      "text/html": [
       "<div>\n",
       "<style scoped>\n",
       "    .dataframe tbody tr th:only-of-type {\n",
       "        vertical-align: middle;\n",
       "    }\n",
       "\n",
       "    .dataframe tbody tr th {\n",
       "        vertical-align: top;\n",
       "    }\n",
       "\n",
       "    .dataframe thead th {\n",
       "        text-align: right;\n",
       "    }\n",
       "</style>\n",
       "<table border=\"1\" class=\"dataframe\">\n",
       "  <thead>\n",
       "    <tr style=\"text-align: right;\">\n",
       "      <th></th>\n",
       "      <th>App Name</th>\n",
       "      <th>Maximum Installs</th>\n",
       "      <th>Developer Id</th>\n",
       "    </tr>\n",
       "  </thead>\n",
       "  <tbody>\n",
       "    <tr>\n",
       "      <th>787700</th>\n",
       "      <td>Subway Surfers</td>\n",
       "      <td>1704495994</td>\n",
       "      <td>SYBO Games</td>\n",
       "    </tr>\n",
       "    <tr>\n",
       "      <th>981879</th>\n",
       "      <td>Temple Run</td>\n",
       "      <td>625467333</td>\n",
       "      <td>Imangi Studios</td>\n",
       "    </tr>\n",
       "    <tr>\n",
       "      <th>2165629</th>\n",
       "      <td>Fruit Ninja®</td>\n",
       "      <td>500306392</td>\n",
       "      <td>Halfbrick Studios</td>\n",
       "    </tr>\n",
       "    <tr>\n",
       "      <th>1379727</th>\n",
       "      <td>Angry Birds Classic</td>\n",
       "      <td>445623595</td>\n",
       "      <td>Rovio Entertainment Corporation</td>\n",
       "    </tr>\n",
       "    <tr>\n",
       "      <th>719155</th>\n",
       "      <td>Zombie Tsunami</td>\n",
       "      <td>395942266</td>\n",
       "      <td>Mobigame S.A.R.L.</td>\n",
       "    </tr>\n",
       "    <tr>\n",
       "      <th>316977</th>\n",
       "      <td>Hungry Shark Evolution - Offline survival game</td>\n",
       "      <td>390613416</td>\n",
       "      <td>Ubisoft Entertainment</td>\n",
       "    </tr>\n",
       "    <tr>\n",
       "      <th>1494216</th>\n",
       "      <td>Sonic Dash - Endless Running &amp; Racing Game</td>\n",
       "      <td>321167025</td>\n",
       "      <td>SEGA</td>\n",
       "    </tr>\n",
       "    <tr>\n",
       "      <th>519139</th>\n",
       "      <td>Geometry Dash Lite</td>\n",
       "      <td>302542035</td>\n",
       "      <td>RobTop Games</td>\n",
       "    </tr>\n",
       "    <tr>\n",
       "      <th>995992</th>\n",
       "      <td>Subway Princess Runner</td>\n",
       "      <td>295529945</td>\n",
       "      <td>Ivy</td>\n",
       "    </tr>\n",
       "    <tr>\n",
       "      <th>1584618</th>\n",
       "      <td>Stack Ball - Blast through platforms</td>\n",
       "      <td>292452121</td>\n",
       "      <td>CASUAL AZUR GAMES</td>\n",
       "    </tr>\n",
       "    <tr>\n",
       "      <th>755317</th>\n",
       "      <td>Glow Hockey</td>\n",
       "      <td>271691455</td>\n",
       "      <td>Natenai Ariyatrakool</td>\n",
       "    </tr>\n",
       "    <tr>\n",
       "      <th>905559</th>\n",
       "      <td>Jetpack Joyride</td>\n",
       "      <td>265223520</td>\n",
       "      <td>Halfbrick Studios</td>\n",
       "    </tr>\n",
       "    <tr>\n",
       "      <th>705887</th>\n",
       "      <td>Block Craft 3D: Building Simulator Games For Free</td>\n",
       "      <td>235083799</td>\n",
       "      <td>Fun Games For Free</td>\n",
       "    </tr>\n",
       "    <tr>\n",
       "      <th>874773</th>\n",
       "      <td>Cooking Fever – Restaurant Game</td>\n",
       "      <td>223149655</td>\n",
       "      <td>Nordcurrent</td>\n",
       "    </tr>\n",
       "    <tr>\n",
       "      <th>2154922</th>\n",
       "      <td>Join Clash 3D</td>\n",
       "      <td>223110379</td>\n",
       "      <td>Supersonic Studios LTD</td>\n",
       "    </tr>\n",
       "    <tr>\n",
       "      <th>2166122</th>\n",
       "      <td>Granny</td>\n",
       "      <td>207046918</td>\n",
       "      <td>DVloper</td>\n",
       "    </tr>\n",
       "    <tr>\n",
       "      <th>567677</th>\n",
       "      <td>Tank Stars</td>\n",
       "      <td>198533386</td>\n",
       "      <td>Playgendary Limited</td>\n",
       "    </tr>\n",
       "    <tr>\n",
       "      <th>1380288</th>\n",
       "      <td>Rise Up</td>\n",
       "      <td>198163669</td>\n",
       "      <td>Serkan Özyılmaz</td>\n",
       "    </tr>\n",
       "    <tr>\n",
       "      <th>208925</th>\n",
       "      <td>Paper.io 2</td>\n",
       "      <td>197084656</td>\n",
       "      <td>VOODOO</td>\n",
       "    </tr>\n",
       "    <tr>\n",
       "      <th>945051</th>\n",
       "      <td>Color Bump 3D</td>\n",
       "      <td>196853349</td>\n",
       "      <td>Good Job Games</td>\n",
       "    </tr>\n",
       "  </tbody>\n",
       "</table>\n",
       "</div>"
      ],
      "text/plain": [
       "                                                  App Name  Maximum Installs  \\\n",
       "787700                                      Subway Surfers        1704495994   \n",
       "981879                                          Temple Run         625467333   \n",
       "2165629                                       Fruit Ninja®         500306392   \n",
       "1379727                                Angry Birds Classic         445623595   \n",
       "719155                                      Zombie Tsunami         395942266   \n",
       "316977      Hungry Shark Evolution - Offline survival game         390613416   \n",
       "1494216         Sonic Dash - Endless Running & Racing Game         321167025   \n",
       "519139                                  Geometry Dash Lite         302542035   \n",
       "995992                              Subway Princess Runner         295529945   \n",
       "1584618               Stack Ball - Blast through platforms         292452121   \n",
       "755317                                         Glow Hockey         271691455   \n",
       "905559                                     Jetpack Joyride         265223520   \n",
       "705887   Block Craft 3D: Building Simulator Games For Free         235083799   \n",
       "874773                     Cooking Fever – Restaurant Game         223149655   \n",
       "2154922                                      Join Clash 3D         223110379   \n",
       "2166122                                             Granny         207046918   \n",
       "567677                                          Tank Stars         198533386   \n",
       "1380288                                            Rise Up         198163669   \n",
       "208925                                          Paper.io 2         197084656   \n",
       "945051                                       Color Bump 3D         196853349   \n",
       "\n",
       "                            Developer Id  \n",
       "787700                        SYBO Games  \n",
       "981879                    Imangi Studios  \n",
       "2165629                Halfbrick Studios  \n",
       "1379727  Rovio Entertainment Corporation  \n",
       "719155                 Mobigame S.A.R.L.  \n",
       "316977             Ubisoft Entertainment  \n",
       "1494216                             SEGA  \n",
       "519139                      RobTop Games  \n",
       "995992                               Ivy  \n",
       "1584618                CASUAL AZUR GAMES  \n",
       "755317              Natenai Ariyatrakool  \n",
       "905559                 Halfbrick Studios  \n",
       "705887                Fun Games For Free  \n",
       "874773                       Nordcurrent  \n",
       "2154922           Supersonic Studios LTD  \n",
       "2166122                          DVloper  \n",
       "567677               Playgendary Limited  \n",
       "1380288                  Serkan Özyılmaz  \n",
       "208925                            VOODOO  \n",
       "945051                    Good Job Games  "
      ]
     },
     "execution_count": 55,
     "metadata": {},
     "output_type": "execute_result"
    }
   ],
   "source": [
    "gps_df[gps_df['Category'] == 'Arcade'].sort_values(ascending = False, by = 'Maximum Installs')[:20][['App Name','Maximum Installs', 'Developer Id']]"
   ]
  },
  {
   "cell_type": "markdown",
   "metadata": {},
   "source": [
    "Có thể thấy đây đều là những ứng dụng rất quen thuộc như \"Toca Kitchen 2\", \"Subway Surfers\", \"Temple Run\",... Có thể thấy thể loại chính mà các nhà phát triển lớn đang sở hữu là \"Educational\" và \"Acrade\" bên cạnh các ứng dụng thể loại \"Tools\" thường được cài mặc định trên máy."
   ]
  },
  {
   "cell_type": "markdown",
   "metadata": {},
   "source": [
    "### 3. Có phải càng gần đây app càng nặng.\n",
    "Khi trả lời được câu hỏi này:\n",
    "- Đối với nhà phát triển app mobile, trả lời câu hỏi này cho chúng ta biết được kích cỡ phù hợp cho ứng dụng của mình khi đưa lên Google Play.\n",
    "- Người dùng cũng có thể đánh giá xem có nên thay chiếc smartphone cấu hình thấp xài nhiều năm của mình bằng một cái Samsung Galaxy S21 đời mới để chạy được các ứng dụng hiện nay hay không. \n",
    "\n",
    "Để trả lời câu hỏi này không cần thực hiện tiền xử lý vì nhóm đã thêm cột \"Year_Released\" để lấy năm của ngày phát hành ứng dụng, đánh giá thông tin các mẫu dữ liệu từng năm có đầy đủ hay không ở trên. Tiếp theo nhóm sẽ thực hiện theo từng bước sau đây để phân tích dữ liệu:\n",
    "- Bước 1: Tính kích cỡ trung bình, nhỏ nhất, lớn nhất của ứng dụng theo từng năm ở trên\n",
    "- Bước 2: Từ kết quả ở trên vẽ các đường xu hướng cho ba chỉ số."
   ]
  },
  {
   "cell_type": "markdown",
   "metadata": {},
   "source": [
    "#### Phân tích dữ liệu"
   ]
  },
  {
   "cell_type": "markdown",
   "metadata": {},
   "source": [
    "**Bước 1**: Tính kích cỡ trung bình, nhỏ nhất, lớn nhất của ứng dụng theo từng năm ở trên"
   ]
  },
  {
   "cell_type": "markdown",
   "metadata": {},
   "source": [
    "Ở bước này, nhóm thực hiện tính mức trung bình, max, min cho kích cỡ của các app theo từng năm (loại bỏ 2 năm 2010 và 2021 như tiền xử lý ở trên)"
   ]
  },
  {
   "cell_type": "code",
   "execution_count": 56,
   "metadata": {},
   "outputs": [],
   "source": [
    "app_sizes_mean = gps_df.groupby(['Year_Released'])['Size'].mean().loc[min_year+1:max_year-1]\n",
    "app_sizes_max = gps_df.groupby(['Year_Released'])['Size'].max().loc[min_year+1:max_year-1]\n",
    "app_sizes_min = gps_df.groupby(['Year_Released'])['Size'].min().loc[min_year+1:max_year-1]"
   ]
  },
  {
   "cell_type": "markdown",
   "metadata": {},
   "source": [
    "**Bước 2**: Từ kết quả ở trên vẽ các đường xu hướng cho ba chỉ số."
   ]
  },
  {
   "cell_type": "markdown",
   "metadata": {},
   "source": [
    "Nhóm vẽ 3 line chart cho đường xu hướng của kích cỡ trung bình, lớn nhất và nhỏ nhất với trục hoành là năm phát hành, trục tung là kích cỡ."
   ]
  },
  {
   "cell_type": "code",
   "execution_count": 57,
   "metadata": {},
   "outputs": [
    {
     "data": {
      "image/png": "[encoded data removed]",
      "text/plain": [
       "<Figure size 432x288 with 1 Axes>"
      ]
     },
     "metadata": {
      "needs_background": "light"
     },
     "output_type": "display_data"
    },
    {
     "data": {
      "image/png": "[encoded data removed]",
      "text/plain": [
       "<Figure size 432x288 with 1 Axes>"
      ]
     },
     "metadata": {
      "needs_background": "light"
     },
     "output_type": "display_data"
    },
    {
     "data": {
      "image/png": "[encoded data removed]",
      "text/plain": [
       "<Figure size 432x288 with 1 Axes>"
      ]
     },
     "metadata": {
      "needs_background": "light"
     },
     "output_type": "display_data"
    }
   ],
   "source": [
    "ax = plt.gca()\n",
    "ax.set(title='App size by year', xlabel='Year', ylabel='Size')\n",
    "app_sizes_mean.name = 'Mean'\n",
    "app_sizes_max.name = 'Max'\n",
    "app_sizes_min.name = 'Min'\n",
    "\n",
    "app_sizes_mean.plot(legend='Mean')\n",
    "plt.show()\n",
    "app_sizes_max.plot(legend='Max')\n",
    "plt.show()\n",
    "app_sizes_min.plot(legend='Min')\n",
    "plt.show()"
   ]
  },
  {
   "cell_type": "markdown",
   "metadata": {},
   "source": [
    "#### Nhận xét\n",
    "\n",
    "Ở biểu đồ 1 cho ta thấy được kích cỡ trung bình của app có xu hướng tăng theo từng năm điều này xác nhận nhận định rằng app đang ngày càng nặng. Mặc dù xu hướng này không phản ánh qua sự thay đổi của min và max kích cỡ app, nhưng điều này không ảnh hưởng gì đến nhận định trên."
   ]
  },
  {
   "cell_type": "markdown",
   "metadata": {},
   "source": [
    "### 4. Xu hướng app theo free hay tính phí?\n",
    "Để trả lời câu hỏi này đối với nhà phát triển, thông tin này sẽ giúp dự đoán xu hướng app cho ta biết nên lựa chọn phương thức thanh toán thế nào để tối ưu hóa lợi nhuận cho ứng dụng của mình, hay tăng tính cạnh tranh của app trên thị trường.\n",
    "\n",
    "Để trả lời câu hỏi này không cần phải thực hiện tiền xử lý dữ liệu vì nhóm đã thêm cột \"Year_Released\" để lấy năm của ngày phát hành ứng dụng ở bước trên. Tiếp theo, các bước thực hiện phân tích dữ liệu như sau:\n",
    "\n",
    "- Bước 1: Tính toán và đánh giá xu hướng tăng hay giảm của số lượng ứng dụng cả miễn phí và tính phí\n",
    "- Bước 2: Vẽ đồ thị gồm hai đường xu hướng cho hai kiểu ứng dụng \n",
    "- Bước 3: Tính toán tỉ lệ hai kiểu ứng dụng theo các năm\n",
    "- Bước 4: Vẽ đồ thị cột cho tỉ lệ hai kiểu ứng dụng\n",
    "- Bước 5: Mở rộng xu hướng này theo một giả định và thực hiện kiểm chứng các giả định này"
   ]
  },
  {
   "cell_type": "markdown",
   "metadata": {},
   "source": [
    "#### Phân tích dữ liệu"
   ]
  },
  {
   "cell_type": "markdown",
   "metadata": {},
   "source": [
    "**Bước 1**: Tính toán và đánh giá xu hướng tăng hay giảm của số lượng ứng dụng miễn phí và tính phí"
   ]
  },
  {
   "cell_type": "markdown",
   "metadata": {},
   "source": [
    "Ở bước này, ta gom nhóm theo năm phát hành và kiểu loại ứng dụng miễn phí hay tính phí, loại bỏ 2 năm 2010 và 2021 như câu trên."
   ]
  },
  {
   "cell_type": "code",
   "execution_count": 58,
   "metadata": {},
   "outputs": [
    {
     "data": {
      "text/plain": [
       "Year_Released  Free \n",
       "2011.0         False      2147\n",
       "               True      12215\n",
       "2012.0         False      2988\n",
       "               True      22759\n",
       "2013.0         False      3657\n",
       "               True      38819\n",
       "2014.0         False      4421\n",
       "               True      67394\n",
       "2015.0         False      4061\n",
       "               True     111371\n",
       "2016.0         False      4608\n",
       "               True     162504\n",
       "2017.0         False      4995\n",
       "               True     254690\n",
       "2018.0         False      5421\n",
       "               True     329145\n",
       "2019.0         False      5385\n",
       "               True     475280\n",
       "2020.0         False      5254\n",
       "               True     539628\n",
       "Name: Year_Released, dtype: int64"
      ]
     },
     "execution_count": 58,
     "metadata": {},
     "output_type": "execute_result"
    }
   ],
   "source": [
    "apps_by_year = gps_df.groupby(['Year_Released', 'Free'])['Year_Released'].agg('count')\n",
    "apps_by_year = apps_by_year.loc[min_year+1:max_year-1]\n",
    "apps_by_year"
   ]
  },
  {
   "cell_type": "markdown",
   "metadata": {},
   "source": [
    "**Bước 2**: Vẽ đồ thị gồm hai đường xu hướng cho hai kiểu ứng dụng"
   ]
  },
  {
   "cell_type": "markdown",
   "metadata": {},
   "source": [
    "Vẽ hai đường xu hướng cho các ứng dụng miễn phí và tính phí theo từng năm. Qua đó ta có thể đánh giá được sự thay đổi số lượng của từng kiểu ứng dụng."
   ]
  },
  {
   "cell_type": "code",
   "execution_count": 59,
   "metadata": {},
   "outputs": [
    {
     "data": {
      "image/png": "[encoded data removed]",
      "text/plain": [
       "<Figure size 432x288 with 2 Axes>"
      ]
     },
     "metadata": {
      "needs_background": "light"
     },
     "output_type": "display_data"
    }
   ],
   "source": [
    "fig, ax1 = plt.subplots()\n",
    "\n",
    "color = 'tab:red'\n",
    "ax1.set_xlabel('Year')\n",
    "ax1.set_ylabel('Number of price apps')\n",
    "ax1.plot(apps_by_year.loc[:, 0], color=color)\n",
    "ax1.tick_params(axis='y', labelcolor=color)\n",
    "\n",
    "ax2 = ax1.twinx()  \n",
    "\n",
    "color = 'tab:blue'\n",
    "ax2.set_ylabel('Numer of free apps')\n",
    "ax2.plot(apps_by_year.loc[:, 1], color=color)\n",
    "ax2.tick_params(axis='y', labelcolor=color)\n",
    "\n",
    "fig.tight_layout()\n",
    "plt.show()"
   ]
  },
  {
   "cell_type": "markdown",
   "metadata": {},
   "source": [
    "Ta có thể thấy xu hướng số lượng app của cả app miễn phí và app tính phí đều tăng. Ta sẽ đánh giá sự thay đổi về tỉ lệ của các app."
   ]
  },
  {
   "cell_type": "markdown",
   "metadata": {},
   "source": [
    "**Bước 3**: Tính toán tỉ lệ hai kiểu ứng dụng theo các năm"
   ]
  },
  {
   "cell_type": "markdown",
   "metadata": {},
   "source": [
    "Gom nhóm và tính toán tỉ lệ phần trăm của ứng dụng free và tính phí."
   ]
  },
  {
   "cell_type": "code",
   "execution_count": 60,
   "metadata": {},
   "outputs": [
    {
     "name": "stdout",
     "output_type": "stream",
     "text": [
      "{'Year_Released': Float64Index([2011.0, 2012.0, 2013.0, 2014.0, 2015.0, 2016.0, 2017.0, 2018.0,\n",
      "              2019.0, 2020.0],\n",
      "             dtype='float64', name='Year_Released'), 'Percents': array([85.05082858, 88.39476444, 91.39043224, 93.84390448, 96.48191143,\n",
      "       97.24256786, 98.07651578, 98.3796919 , 98.87967711, 99.03575453])}\n"
     ]
    }
   ],
   "source": [
    "apps_by_percents = apps_by_year.groupby(level=0).apply(lambda x: 100 * x / float(x.sum()))\n",
    "year_index = apps_by_year.index.get_level_values(0).unique()\n",
    "apps_percents = {'Year_Released': year_index, 'Percents': [100.0 for i in range(len(year_index))]}\n",
    "free_apps_percents = {'Year_Released': year_index, 'Percents': apps_by_percents.loc[:, 1].values}\n",
    "print(free_apps_percents)"
   ]
  },
  {
   "cell_type": "markdown",
   "metadata": {},
   "source": [
    "**Bước 4**: Vẽ đồ thị cột cho tỉ lệ hai kiểu ứng dụng"
   ]
  },
  {
   "cell_type": "markdown",
   "metadata": {},
   "source": [
    "Sử dụng thư viện seaborn để vẽ đồ thị cột chồng, với phần cột phía trên màu xanh đậm tượng trưng cho các ứng dụng tính phí và phần cột dưới màu xanh nhạt tượng trưng cho các ứng dụng free."
   ]
  },
  {
   "cell_type": "code",
   "execution_count": 61,
   "metadata": {},
   "outputs": [
    {
     "data": {
      "image/png": "[encoded data removed]",
      "text/plain": [
       "<Figure size 1008x720 with 1 Axes>"
      ]
     },
     "metadata": {
      "needs_background": "light"
     },
     "output_type": "display_data"
    }
   ],
   "source": [
    "# set the figure size and background color\n",
    "plt.figure(figsize=(14, 10))\n",
    "sns.set(style=\"darkgrid\")\n",
    "\n",
    "bar1 = sns.barplot(x='Year_Released', y='Percents', data=apps_percents, color='darkblue')\n",
    "\n",
    "bar2 = sns.barplot(x='Year_Released', y='Percents', data=free_apps_percents, color='lightblue')\n",
    "\n",
    "# add legend\n",
    "top_bar = mpatches.Patch(color='darkblue', label='Free = False')\n",
    "bottom_bar = mpatches.Patch(color='lightblue', label='Free = True')\n",
    "plt.legend(handles=[top_bar, bottom_bar])\n",
    "\n",
    "# show the graph\n",
    "plt.show()"
   ]
  },
  {
   "cell_type": "markdown",
   "metadata": {},
   "source": [
    "Ta dễ dàng đánh giá được xu hướng tỉ lệ các ứng dụng free ngày càng tăng và chiếm nhiều hơn trong số lượng app. Nhưng thị trường kinh doanh ứng dụng di động ngày càng lớn, nên có thể dự đoán rằng các kênh kiếm tiền phải của app phải chuyển qua các hình thức khác như sử dụng quảng cáo hay mua bán khi người dùng đang sử dụng app. Ta sẽ xem xét về tỉ lệ sử dụng ad và các thanh toán trong app để xác nhận nhận định này."
   ]
  },
  {
   "cell_type": "markdown",
   "metadata": {},
   "source": [
    "**Bước 5**: Mở rộng xu hướng này theo một giả định và thực hiện kiểm chứng các giả định này"
   ]
  },
  {
   "cell_type": "markdown",
   "metadata": {},
   "source": [
    "Ta thực hiện gom nhóm trên các cột 'Year_Released', 'Free', 'Ad Supported' cho các ứng dụng miễn phí và tính phí có sử dụng quảng cáo, và các cột 'Year_Released', 'Free', 'In App Purchases' cho các ứng dụng miễn phí và tính phí có thực hiện giao dịch trong app. Sau đó lọc ra các ứng dụng miễn phí."
   ]
  },
  {
   "cell_type": "code",
   "execution_count": 62,
   "metadata": {},
   "outputs": [
    {
     "name": "stdout",
     "output_type": "stream",
     "text": [
      "Thống kê số app free có để quảng cáo trong app\n",
      "Year_Released  Ad Supported\n",
      "2011.0         False             6104\n",
      "               True              6111\n",
      "2012.0         False            11759\n",
      "               True             11000\n",
      "2013.0         False            19735\n",
      "               True             19084\n",
      "2014.0         False            33824\n",
      "               True             33570\n",
      "2015.0         False            54790\n",
      "               True             56581\n",
      "2016.0         False            83993\n",
      "               True             78511\n",
      "2017.0         False           127020\n",
      "               True            127670\n",
      "2018.0         False           162574\n",
      "               True            166571\n",
      "2019.0         False           231571\n",
      "               True            243709\n",
      "2020.0         False           258632\n",
      "               True            280996\n",
      "Name: App Id, dtype: int64\n",
      "Thống kê số app free có thực hiện mua bán trong app\n",
      "Year_Released  In App Purchases\n",
      "2011.0         False                10309\n",
      "               True                  1906\n",
      "2012.0         False                19290\n",
      "               True                  3469\n",
      "2013.0         False                32181\n",
      "               True                  6638\n",
      "2014.0         False                58494\n",
      "               True                  8900\n",
      "2015.0         False                98176\n",
      "               True                 13195\n",
      "2016.0         False               145512\n",
      "               True                 16992\n",
      "2017.0         False               232003\n",
      "               True                 22687\n",
      "2018.0         False               302910\n",
      "               True                 26235\n",
      "2019.0         False               442135\n",
      "               True                 33145\n",
      "2020.0         False               499228\n",
      "               True                 40400\n",
      "Name: App Id, dtype: int64\n"
     ]
    }
   ],
   "source": [
    "temp = gps_df.groupby(['Year_Released', 'Free', 'Ad Supported'])['App Id'].count()\n",
    "num_ads_app_by_year = temp.loc[:, True, :].loc[min_year+1:max_year-1]\n",
    "temp = gps_df.groupby(['Year_Released', 'Free', 'In App Purchases'])['App Id'].count()\n",
    "num_in_purch_app_by_year = temp.loc[:, True, :].loc[min_year+1:max_year-1]\n",
    "print('Thống kê số app free có để quảng cáo trong app')\n",
    "print(num_ads_app_by_year)\n",
    "print('Thống kê số app free có thực hiện mua bán trong app')\n",
    "print(num_in_purch_app_by_year)"
   ]
  },
  {
   "cell_type": "markdown",
   "metadata": {},
   "source": [
    "Vẽ đồ thị đường cho phần trăm của các app có chạy quảng cáo so với tổng số app free, và đường cho phần trăm của các app có thanh toán trong app so với tổng số app free để đánh giá nhận định rằng đang có xu hướng tăng trong các app có kênh kiếm tiền như thế này trong số các app free."
   ]
  },
  {
   "cell_type": "code",
   "execution_count": 64,
   "metadata": {},
   "outputs": [
    {
     "data": {
      "text/plain": [
       "<AxesSubplot:xlabel='Year_Released', ylabel='Percent'>"
      ]
     },
     "execution_count": 64,
     "metadata": {},
     "output_type": "execute_result"
    },
    {
     "data": {
      "image/png": "[encoded data removed]",
      "text/plain": [
       "<Figure size 432x288 with 1 Axes>"
      ]
     },
     "metadata": {},
     "output_type": "display_data"
    }
   ],
   "source": [
    "ads_apps_by_percents = num_ads_app_by_year.groupby(level=0).apply(lambda x: 100 * x / float(x.sum()))\n",
    "ads_apps_by_percents = ads_apps_by_percents.loc[:, True]\n",
    "in_purch_apps_by_percents = num_in_purch_app_by_year.groupby(level=0).apply(lambda x: 100 * x / float(x.sum()))\n",
    "in_purch_apps_by_percents = in_purch_apps_by_percents.loc[:, True]\n",
    "\n",
    "ads_apps_by_percents.name = 'Ads app'\n",
    "in_purch_apps_by_percents.name = 'In app purchase'\n",
    "plt.subplot()\n",
    "ax = plt.gca()\n",
    "ax.set_ylabel('Percent')\n",
    "ax.set_ylim(0, 100)\n",
    "\n",
    "ads_apps_by_percents.plot(marker='o', legend='Ads app')\n",
    "in_purch_apps_by_percents.plot(marker='^', legend='In purchase app')"
   ]
  },
  {
   "cell_type": "markdown",
   "metadata": {},
   "source": [
    "#### Nhận xét\n",
    "- Số app free có chạy quảng cáo cũng tăng đều theo từng năm vì phần trăm số app loại này dao động ổn định xung quanh mức 50%, mà ở bước 2 ta đã nhận định rằng số app free đang tăng mạnh theo từng năm.\n",
    "- Số app free có thực hiện giao dịch thanh toán trong app vẫn tăng nhưng tỉ lệ so với không có thanh toán đang có xu hướng giảm dần theo từng năm. "
   ]
  },
  {
   "cell_type": "markdown",
   "metadata": {},
   "source": [
    "## Nhìn lại quá trình làm đồ án"
   ]
  },
  {
   "cell_type": "markdown",
   "metadata": {},
   "source": [
    "### Thành viên: Nguyễn Đình Hoàng Phúc\n",
    "#### Khó khăn\n",
    "\n",
    "- \"Nhầm lẫn\" dataset: Sau khoảng thời gian đắn đo lựa chọn dữ liệu thì trong quá trình khám phá, teammate lại dùng Google để truy cập vào bộ dữ liệu thay vì nhấn vào link dữ liệu mà nhóm đã chốt trước. Điều này khiến mỗi thành viên làm một phiên bản khác nhau của bộ dữ liệu về Google Play, gây mất thời gian. Tuy nhiên đây cũng có thể là điều may mắn vì bộ dữ liệu mà teammate sử dụng được tạo gần đây hơn và có nhiều cột hơn để phân tích. Sau đó nhóm đã thống nhất lại chọn bộ dữ liệu mới được tạo gần hơn để sử dụng.\n",
    "- Khi khám phá dữ liệu có nhiều format khác nhau và nhiều giá trị N/A. Không những thế với bộ dữ liệu cũ lúc đầu, còn bị tình trạng lẫn giá trị của các cột, cần phải quan sát bằng mắt, rồi dự đoán nhiều khi khám phá.\n",
    "- Đặt và trả lời câu hỏi: em nghĩ đây là vấn đề nhiều nguời gặp phải. Rất khó để nghĩ ra một câu hỏi thú vị và nhiều lúc thể hiện từ dữ liệu không liên quan gì tới mình dự đoán và suy nghĩ.\n",
    "\n",
    "#### Những điều hữu ích học được\n",
    "Qua đồ án này em cũng đã học được rất nhiều điều hữu ích:\n",
    "\n",
    "- Bình tĩnh và cẩn trọng trong lúc khám phá dữ liệu. Dữ liệu trên các trang mà người khác thu thập có thể không rõ ràng, bị lỗi, thiếu nhiều chỗ. Cần tỉ mĩ quan sát để tránh thiếu sót.\n",
    "- Hiểu rõ hơn về các thư viện mà mình ngỡ rằng đã nắm rõ. Các thư viện trong môn học em đã được làm quen từ trước, cứ ngỡ mình đã hiểu, nhưng sau môn học và đồ án em nhận thấy hiểu biết của mình còn hạn hẹp. Các thư viện được học rất hữu ích và \"trí tuệ\". Em sẽ dành nhiều thời gian hơn để mài dũa các công cụ sau môn học này.\n"
   ]
  },
  {
   "cell_type": "markdown",
   "metadata": {},
   "source": [
    "### Thành viên: Lê Đặng Thiên Phúc\n",
    "#### Khó khăn\n",
    "- Trong giai đoạn lựa chọn dữ liệu, em đã nhầm lẫn vì có hai bộ dữ liệu có cùng tên 'Google Play Store Apps'. Tuy nhiên nhờ vậy mà nhóm đã tìm được bộ dữ liệu đầy đủ và up-to-date hơn với nhiều thuộc tính có thể sử dụng hơn.\n",
    "- Trong quá trình lọc và tiền xử lý dữ liệu, có cột 'Size' xen lẫn nhiều nhiều kiểu dữ liệu khác nhau như 'G', 'k', 'M' hay là 'Varies with device' phải quan sát trực tiếp trên dữ liệu mới thấy được hay như cột 'Minimum Android' có cả hai kiểu format là '4.0 and up' hay là '4.0 - 5.0' ngoài ra còn có version android dành riêng cho các thiết bị wearable 4.4W không cùng format version android như các dòng khác. Những cột như thế này tốn khá nhiều thời gian để xử lý sạch sẽ, không bỏ sót. \n",
    "\n",
    "#### Những điều hữu ích học được\n",
    "- Học được cách sử dụng các thư viện matplotlib và seaborn để vẽ các barchart, line chart, sử dụng thành thạo thư viện pandas.\n",
    "- Em còn học được cách nhận định và đặt câu hỏi sao cho có ý nghĩa trong vai trò như người phân tích dữ liệu, chỉ ra được các xu hướng có lợi cho công việc kinh doanh hay cho dự án của mình sau này."
   ]
  },
  {
   "cell_type": "markdown",
   "metadata": {},
   "source": [
    "### Cả nhóm\n",
    "#### Nếu có thêm thời gian thì làm gì?\n",
    "- Khám phá và làm sạch dữ liệu kĩ càng hơn nữa.\n",
    "- Đánh giá kỹ hơn về xu hướng chuyển dịch qua các kênh kiếm tiền khác của thị trường app mobile, trau chuốt lại code cho rõ ràng hơn.\n",
    "- Đặt và trả lời những câu hỏi liên quan đến dữ liệu của các cột khác như `Rating`"
   ]
  },
  {
   "cell_type": "markdown",
   "metadata": {},
   "source": [
    "## Tài liệu tham khảo"
   ]
  },
  {
   "cell_type": "markdown",
   "metadata": {},
   "source": [
    "- https://matplotlib.org/3.5.1/index.html\n",
    "- File tài liệu '13-FinalProject.pdf'\n",
    "- Video các buổi học của thầy\n",
    "- https://pandas.pydata.org/docs/\n",
    "- https://ipywidgets.readthedocs.io/en/latest/index.html"
   ]
  }
 ],
 "metadata": {
  "kernelspec": {
   "display_name": "Python 3 (ipykernel)",
   "language": "python",
   "name": "python3"
  },
  "language_info": {
   "codemirror_mode": {
    "name": "ipython",
    "version": 3
   },
   "file_extension": ".py",
   "mimetype": "text/x-python",
   "name": "python",
   "nbconvert_exporter": "python",
   "pygments_lexer": "ipython3",
   "version": "3.8.8"
  },
  "toc": {
   "base_numbering": 1,
   "nav_menu": {},
   "number_sections": false,
   "sideBar": true,
   "skip_h1_title": false,
   "title_cell": "Table of Contents",
   "title_sidebar": "Contents",
   "toc_cell": false,
   "toc_position": {
    "height": "calc(100% - 180px)",
    "left": "10px",
    "top": "150px",
    "width": "293px"
   },
   "toc_section_display": true,
   "toc_window_display": true
  },
  "widgets": {
   "application/vnd.jupyter.widget-state+json": {
    "state": {
     "10ac4db9864047d8b765a73f746c82c5": {
      "model_module": "@jupyter-widgets/base",
      "model_module_version": "1.2.0",
      "model_name": "LayoutModel",
      "state": {}
     },
     "179ef185ee23445aa96efa3f380f5b02": {
      "model_module": "@jupyter-widgets/controls",
      "model_module_version": "1.5.0",
      "model_name": "FloatSliderModel",
      "state": {
       "description": "num_installs_threshold",
       "layout": "IPY_MODEL_10ac4db9864047d8b765a73f746c82c5",
       "max": 15141,
       "step": 0.1,
       "style": "IPY_MODEL_273aa37dd08e49f3a9708575be353429",
       "value": 1000
      }
     },
     "273aa37dd08e49f3a9708575be353429": {
      "model_module": "@jupyter-widgets/controls",
      "model_module_version": "1.5.0",
      "model_name": "SliderStyleModel",
      "state": {
       "description_width": ""
      }
     },
     "299a869620224287bf9008bb31cf9092": {
      "model_module": "@jupyter-widgets/base",
      "model_module_version": "1.2.0",
      "model_name": "LayoutModel",
      "state": {}
     },
     "2ed0ad1eda6f4a6ba45171a84bad1ab9": {
      "model_module": "@jupyter-widgets/base",
      "model_module_version": "1.2.0",
      "model_name": "LayoutModel",
      "state": {}
     },
     "3408b44c35f24438ab820c0a0ef4e25e": {
      "model_module": "@jupyter-widgets/controls",
      "model_module_version": "1.5.0",
      "model_name": "VBoxModel",
      "state": {
       "_dom_classes": [
        "widget-interact"
       ],
       "children": [
        "IPY_MODEL_b0cfd7569d96478ea32c8991733db5ba",
        "IPY_MODEL_e81a6dfbff9247ee824b7fb8f4b6d438"
       ],
       "layout": "IPY_MODEL_2ed0ad1eda6f4a6ba45171a84bad1ab9"
      }
     },
     "34b34fb99b24497bad953f69fdb6d5dc": {
      "model_module": "@jupyter-widgets/base",
      "model_module_version": "1.2.0",
      "model_name": "LayoutModel",
      "state": {}
     },
     "37e2a10ec5924550befd4a00a305b64f": {
      "model_module": "@jupyter-widgets/controls",
      "model_module_version": "1.5.0",
      "model_name": "FloatSliderModel",
      "state": {
       "description": "num_installs_threshold",
       "layout": "IPY_MODEL_34b34fb99b24497bad953f69fdb6d5dc",
       "max": 15141,
       "step": 0.1,
       "style": "IPY_MODEL_ce7452199a00466e9a0c84097f983ead",
       "value": 1000
      }
     },
     "473a8bdb460f451ea9d211b3aa024689": {
      "model_module": "@jupyter-widgets/controls",
      "model_module_version": "1.5.0",
      "model_name": "SliderStyleModel",
      "state": {
       "description_width": ""
      }
     },
     "56f140c3f06a480a9242318927de2e90": {
      "model_module": "@jupyter-widgets/base",
      "model_module_version": "1.2.0",
      "model_name": "LayoutModel",
      "state": {}
     },
     "5f873c7ea30446d8a4b6f4453fbc7903": {
      "model_module": "@jupyter-widgets/output",
      "model_module_version": "1.0.0",
      "model_name": "OutputModel",
      "state": {
       "layout": "IPY_MODEL_b92dc83325324adb97e30921645c357a",
       "outputs": [
        {
         "data": {
          "image/png": "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\n",
          "text/plain": "<Figure size 1728x720 with 1 Axes>"
         },
         "metadata": {
          "needs_background": "light"
         },
         "output_type": "display_data"
        }
       ]
      }
     },
     "6f56041ef6564b75a3c1d849c5844f55": {
      "model_module": "@jupyter-widgets/controls",
      "model_module_version": "1.5.0",
      "model_name": "SliderStyleModel",
      "state": {
       "description_width": ""
      }
     },
     "79e168329ed54080b2aa164fee798973": {
      "model_module": "@jupyter-widgets/base",
      "model_module_version": "1.2.0",
      "model_name": "LayoutModel",
      "state": {}
     },
     "879cc54256e541f6b20242b6f7aa5805": {
      "model_module": "@jupyter-widgets/base",
      "model_module_version": "1.2.0",
      "model_name": "LayoutModel",
      "state": {}
     },
     "a027555de7824c88acdb82df7b935598": {
      "model_module": "@jupyter-widgets/controls",
      "model_module_version": "1.5.0",
      "model_name": "VBoxModel",
      "state": {
       "_dom_classes": [
        "widget-interact"
       ],
       "children": [
        "IPY_MODEL_179ef185ee23445aa96efa3f380f5b02",
        "IPY_MODEL_c88d9e91d1e74d47b9120092d3257279"
       ],
       "layout": "IPY_MODEL_fbeced3496594a6b9ebb0539c8036289"
      }
     },
     "a08b1ba5a67a4c7090bdcb6cd061a157": {
      "model_module": "@jupyter-widgets/base",
      "model_module_version": "1.2.0",
      "model_name": "LayoutModel",
      "state": {}
     },
     "b0cfd7569d96478ea32c8991733db5ba": {
      "model_module": "@jupyter-widgets/controls",
      "model_module_version": "1.5.0",
      "model_name": "FloatSliderModel",
      "state": {
       "description": "num_installs_threshold",
       "layout": "IPY_MODEL_56f140c3f06a480a9242318927de2e90",
       "max": 15141,
       "step": 0.1,
       "style": "IPY_MODEL_473a8bdb460f451ea9d211b3aa024689",
       "value": 1000
      }
     },
     "b8d87f9d58954a9da75e77b759a3e7ef": {
      "model_module": "@jupyter-widgets/output",
      "model_module_version": "1.0.0",
      "model_name": "OutputModel",
      "state": {
       "layout": "IPY_MODEL_c8ca3834ebc14f82932f2febb3ccbc1a",
       "outputs": [
        {
         "name": "stdout",
         "output_type": "stream",
         "text": "Các công ty có nhiều lượt tải:  ['Google LLC', 'Samsung Electronics Co.,  Ltd.', 'Facebook', 'Microsoft Corporation', 'WhatsApp LLC', 'Outfit7 Limited', 'Xiaomi Inc.', 'Motorola Mobility LLC.', 'Instagram', 'Huawei Internet Services']\n"
        },
        {
         "data": {
          "image/png": "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\n",
          "text/plain": "<Figure size 864x360 with 1 Axes>"
         },
         "metadata": {
          "needs_background": "light"
         },
         "output_type": "display_data"
        }
       ]
      }
     },
     "b92dc83325324adb97e30921645c357a": {
      "model_module": "@jupyter-widgets/base",
      "model_module_version": "1.2.0",
      "model_name": "LayoutModel",
      "state": {}
     },
     "c0bafe4b75e2456198cc5e1a6741da5a": {
      "model_module": "@jupyter-widgets/controls",
      "model_module_version": "1.5.0",
      "model_name": "VBoxModel",
      "state": {
       "_dom_classes": [
        "widget-interact"
       ],
       "children": [
        "IPY_MODEL_c159b063adb84319846673c1b4ad5222",
        "IPY_MODEL_b8d87f9d58954a9da75e77b759a3e7ef"
       ],
       "layout": "IPY_MODEL_299a869620224287bf9008bb31cf9092"
      }
     },
     "c159b063adb84319846673c1b4ad5222": {
      "model_module": "@jupyter-widgets/controls",
      "model_module_version": "1.5.0",
      "model_name": "IntSliderModel",
      "state": {
       "description": "top_limits",
       "layout": "IPY_MODEL_879cc54256e541f6b20242b6f7aa5805",
       "min": 10,
       "style": "IPY_MODEL_6f56041ef6564b75a3c1d849c5844f55",
       "value": 10
      }
     },
     "c445aaf794864f6d9ad1428616d9d0bf": {
      "model_module": "@jupyter-widgets/base",
      "model_module_version": "1.2.0",
      "model_name": "LayoutModel",
      "state": {}
     },
     "c88d9e91d1e74d47b9120092d3257279": {
      "model_module": "@jupyter-widgets/output",
      "model_module_version": "1.0.0",
      "model_name": "OutputModel",
      "state": {
       "layout": "IPY_MODEL_c445aaf794864f6d9ad1428616d9d0bf",
       "outputs": [
        {
         "data": {
          "image/png": "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\n",
          "text/plain": "<Figure size 432x288 with 1 Axes>"
         },
         "metadata": {
          "needs_background": "light"
         },
         "output_type": "display_data"
        }
       ]
      }
     },
     "c8ca3834ebc14f82932f2febb3ccbc1a": {
      "model_module": "@jupyter-widgets/base",
      "model_module_version": "1.2.0",
      "model_name": "LayoutModel",
      "state": {}
     },
     "ce7452199a00466e9a0c84097f983ead": {
      "model_module": "@jupyter-widgets/controls",
      "model_module_version": "1.5.0",
      "model_name": "SliderStyleModel",
      "state": {
       "description_width": ""
      }
     },
     "d9abaf859f2846b99e030d383da8abae": {
      "model_module": "@jupyter-widgets/controls",
      "model_module_version": "1.5.0",
      "model_name": "VBoxModel",
      "state": {
       "_dom_classes": [
        "widget-interact"
       ],
       "children": [
        "IPY_MODEL_37e2a10ec5924550befd4a00a305b64f",
        "IPY_MODEL_5f873c7ea30446d8a4b6f4453fbc7903"
       ],
       "layout": "IPY_MODEL_a08b1ba5a67a4c7090bdcb6cd061a157"
      }
     },
     "e81a6dfbff9247ee824b7fb8f4b6d438": {
      "model_module": "@jupyter-widgets/output",
      "model_module_version": "1.0.0",
      "model_name": "OutputModel",
      "state": {
       "layout": "IPY_MODEL_79e168329ed54080b2aa164fee798973",
       "outputs": [
        {
         "data": {
          "image/png": "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\n",
          "text/plain": "<Figure size 1728x720 with 1 Axes>"
         },
         "metadata": {
          "needs_background": "light"
         },
         "output_type": "display_data"
        }
       ]
      }
     },
     "fbeced3496594a6b9ebb0539c8036289": {
      "model_module": "@jupyter-widgets/base",
      "model_module_version": "1.2.0",
      "model_name": "LayoutModel",
      "state": {}
     }
    },
    "version_major": 2,
    "version_minor": 0
   }
  }
 },
 "nbformat": 4,
 "nbformat_minor": 4
}
